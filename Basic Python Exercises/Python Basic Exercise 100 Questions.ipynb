{
 "cells": [
  {
   "cell_type": "code",
   "execution_count": null,
   "metadata": {},
   "outputs": [],
   "source": [
    "### Python Basic Programming Exercise"
   ]
  },
  {
   "cell_type": "code",
   "execution_count": null,
   "metadata": {},
   "outputs": [],
   "source": [
    "#1: Write a program which will find all such numbers which are divisible by 7 but are not a multiple of 5, between 2000 and 3200 (both included).\n",
    "#The numbers obtained should be printed in a comma-separated sequence on a single line.\n",
    "\n",
    "#Hints: Consider use range(#begin, #end) method\n"
   ]
  },
  {
   "cell_type": "code",
   "execution_count": null,
   "metadata": {},
   "outputs": [],
   "source": [
    "p = []\n",
    "for i in range(2000, 3200):\n",
    "    if (i % 7 == 0) and (i % 5 != 0):\n",
    "        p.append(str(i))\n",
    "print(','.join(p))"
   ]
  },
  {
   "cell_type": "code",
   "execution_count": null,
   "metadata": {},
   "outputs": [],
   "source": [
    "#2. Write a program which can compute the factorial of a given numbers. The results should be printed in a comma-separated sequence on a single line. \n",
    "#raw_input() function can be used for getting user(console) input\n",
    "\n",
    "#Suppose the input is supplied to the program:  8  \n",
    "#Then, the output should be:  40320 \n",
    "#Hints: In case of input data being supplied to the question, it should be assumed to be a console input. \n"
   ]
  },
  {
   "cell_type": "code",
   "execution_count": null,
   "metadata": {},
   "outputs": [],
   "source": [
    "fact = 1\n",
    "ip = int(input('Enter the Number to compute the factorial: '))\n",
    "if ip == 0:\n",
    "    print('1')\n",
    "else:\n",
    "    for i in range(1, ip + 1):\n",
    "        fact = fact * i\n",
    "print(fact)"
   ]
  },
  {
   "cell_type": "code",
   "execution_count": null,
   "metadata": {},
   "outputs": [],
   "source": [
    "#3. With a given integral number n, write a program to generate a dictionary that contains (i, i*i) such that is an integral number between 1 and n (both included). and then the program should print the dictionary.\n",
    "#Suppose the following input is supplied to the program: 8\n",
    "#Then, the output should be: {1: 1, 2: 4, 3: 9, 4: 16, 5: 25, 6: 36, 7: 49, 8: 64}\n",
    "#Hints: In case of input data being supplied to the question, it should be assumed to be a console input. Consider use dict()\n",
    "\n"
   ]
  },
  {
   "cell_type": "code",
   "execution_count": null,
   "metadata": {},
   "outputs": [],
   "source": [
    "dic = dict()\n",
    "ip = int(input('Enter the Number: '))\n",
    "for i in range(1, ip + 1):\n",
    "    dic[i] = i * i\n",
    "print(dic)"
   ]
  },
  {
   "cell_type": "code",
   "execution_count": null,
   "metadata": {},
   "outputs": [],
   "source": [
    "#4. Write a program which accepts a sequence of comma-separated numbers from console and generate a list and a tuple which contains every number.\n",
    "#Suppose the following input is supplied to the program: 34,67,55,33,12,98\n",
    "#Then, the output should be: ['34', '67', '55', '33', '12', '98'] ('34', '67', '55', '33', '12', '98')\n",
    "\n",
    "#Hints: In case of input data being supplied to the question, it should be assumed to be a console input. tuple() method can convert list to tuple\n"
   ]
  },
  {
   "cell_type": "code",
   "execution_count": null,
   "metadata": {},
   "outputs": [],
   "source": [
    "ip = input('Enter the numbers seperated by comma: ')\n",
    "print(ip.split(','))\n",
    "print(tuple(ip.split(',')))"
   ]
  },
  {
   "cell_type": "code",
   "execution_count": null,
   "metadata": {},
   "outputs": [],
   "source": [
    "#5. Define a class which has at least two methods: getString: to get a string from console input and \n",
    "#printString: to print the string in upper case. Also please include simple test function to test the class methods.\n",
    "\n",
    "#Hints: Use __init__ method to construct some parameters\n"
   ]
  },
  {
   "cell_type": "code",
   "execution_count": null,
   "metadata": {},
   "outputs": [],
   "source": [
    "class iostring:\n",
    "    def _init_(self):\n",
    "        self.s = \"\"\n",
    "    def getString(self):\n",
    "        self.s = input()\n",
    "    def printString(self):\n",
    "        print(self.s.upper())"
   ]
  },
  {
   "cell_type": "code",
   "execution_count": null,
   "metadata": {},
   "outputs": [],
   "source": [
    "newobj = iostring()\n",
    "newobj.getString()"
   ]
  },
  {
   "cell_type": "code",
   "execution_count": null,
   "metadata": {},
   "outputs": [],
   "source": [
    "newobj.printString()"
   ]
  },
  {
   "cell_type": "code",
   "execution_count": 3,
   "metadata": {},
   "outputs": [],
   "source": [
    "# 6. Write a program that calculates and prints the value according to the given formula:\n",
    "# Q = Square root of [(2 * C * D)/H]\n",
    "# Following are the fixed values of C and H: C is 50. H is 30.\n",
    "# D is the variable whose values should be input to your program in a comma-separated\n",
    "# sequence.\n",
    "# Let us assume the following comma separated input sequence is given to the program:\n",
    "# 100,150,180\n",
    "# The output of the program should be: 18, 22, 24\n",
    "# Hints: If the output received is in decimal form, it should be rounded off to its nearest value\n",
    "# (for example, if the output received is 26.0, it should be printed as 26)\n",
    "# In case of input data being supplied to the question, it should be assumed to be a console\n",
    "# input. "
   ]
  },
  {
   "cell_type": "code",
   "execution_count": 12,
   "metadata": {},
   "outputs": [
    {
     "name": "stdout",
     "output_type": "stream",
     "text": [
      "Enter the value of D: 100,150,180\n",
      "18, 22, 24\n"
     ]
    }
   ],
   "source": [
    "d = input('Enter the value of D: ')\n",
    "c = 50\n",
    "h = 30\n",
    "d_list = d.split(',')\n",
    "# print(d_list)\n",
    "q = [round((2*c*float(j)/h)**0.5) for j in d_list]\n",
    "print(*q, sep=(', '))\n"
   ]
  },
  {
   "cell_type": "code",
   "execution_count": null,
   "metadata": {},
   "outputs": [],
   "source": [
    "# 7. Write a program which takes 2 digits, X,Y as input and generates a 2-dimensional array.\n",
    "# The element value in the i-th row and j-th column of the array should be i*j.\n",
    "# Note: i=0,1.., X-1; j=0,1,¡-Y-1.\n",
    "# Suppose the following inputs are given to the program: 3, 5\n",
    "# Then, the output of the program should be: [[0, 0, 0, 0, 0], [0, 1, 2, 3, 4], [0, 2, 4, 6, 8]]\n",
    "# Hints: In case of input data being supplied to the question, it should be assumed to be a\n",
    "# console input in a comma-separated form."
   ]
  },
  {
   "cell_type": "code",
   "execution_count": 14,
   "metadata": {},
   "outputs": [
    {
     "name": "stdout",
     "output_type": "stream",
     "text": [
      "Enter the Number of Rows (X): 3\n",
      "Enter the Number of Columns (Y): 5\n",
      "[[0, 0, 0, 0, 0], [0, 1, 2, 3, 4], [0, 2, 4, 6, 8]]\n"
     ]
    }
   ],
   "source": [
    "x = int(input('Enter the Number of Rows (X): '))\n",
    "y = int(input('Enter the Number of Columns (Y): '))\n",
    "row_col = [[0 for i in range(y)] for j in range(x)]\n",
    "\n",
    "for row_num in range(x):\n",
    "    for col_num in range(y):\n",
    "        row_col[row_num][col_num] = row_num * col_num\n",
    "        \n",
    "print(row_col)"
   ]
  },
  {
   "cell_type": "code",
   "execution_count": null,
   "metadata": {},
   "outputs": [],
   "source": [
    "#8. Write a program that accepts a comma separated sequence of words as input and prints the words in a comma-separated sequence after sorting them alphabetically.\n",
    "# Suppose the following input is supplied to the program: without,hello,bag,world\n",
    "# Then, the output should be: bag,hello,without,world\n",
    "\n",
    "#Hints: In case of input data being supplied to the question, it should be assumed to be a console input.\n"
   ]
  },
  {
   "cell_type": "code",
   "execution_count": null,
   "metadata": {},
   "outputs": [],
   "source": [
    "ip = input('Enter the Words seperated by a comma: ')\n",
    "ls = ip.split(',')\n",
    "ls.sort()\n",
    "print(', '.join(ls))"
   ]
  },
  {
   "cell_type": "code",
   "execution_count": null,
   "metadata": {},
   "outputs": [],
   "source": [
    "# 9. Write a program that accepts sequence of lines as input and prints the lines after making\n",
    "# all characters in the sentence capitalized.\n",
    "# Suppose the input is supplied to the program: Hello world\n",
    "# Practice makes perfect\n",
    "# Then, the output should be: HELLO WORLD\n",
    "# PRACTICE MAKES PERFECT\n",
    "# Hints: In case of input data being supplied to the question, it should be assumed to be a\n",
    "# console input."
   ]
  },
  {
   "cell_type": "code",
   "execution_count": 25,
   "metadata": {},
   "outputs": [
    {
     "name": "stdout",
     "output_type": "stream",
     "text": [
      "Hello World\n",
      "Practice Makes Perfect\n",
      "\n",
      "HELLO WORLD\n",
      "PRACTICE MAKES PERFECT\n"
     ]
    }
   ],
   "source": [
    "lines = []\n",
    "while True:\n",
    "    l = input()\n",
    "    if l:\n",
    "        lines.append(l.upper())\n",
    "    else:\n",
    "        break\n",
    "\n",
    "for l in lines:\n",
    "    print(l)"
   ]
  },
  {
   "cell_type": "code",
   "execution_count": null,
   "metadata": {},
   "outputs": [],
   "source": [
    "#10. Write a program that accepts a sequence of whitespace separated words as input and prints the words after removing all duplicate words and sorting them alphanumerically.\n",
    "# Suppose the following input is supplied to the program: hello world and practice makes perfect and hello world again\n",
    "# Then, the output should be: again and hello makes perfect practice world\n",
    "\n",
    "#Hints: In case of input data being supplied to the question, it should be assumed to be a console input.\n",
    "#We use set container to remove duplicated data automatically and then use sorted() to sort the data.\n"
   ]
  },
  {
   "cell_type": "code",
   "execution_count": null,
   "metadata": {},
   "outputs": [],
   "source": [
    "ip = input('Enter the words seperated by whitespace: ')\n",
    "# ip.split(' ')\n",
    "st = set(ip.split(' '))\n",
    "ls = list(st)\n",
    "ls.sort()\n",
    "print(' '.join(ls))"
   ]
  },
  {
   "cell_type": "code",
   "execution_count": null,
   "metadata": {},
   "outputs": [],
   "source": [
    "#11. Write a program which accepts a sequence of comma separated 4 digit binary numbers\n",
    "# as its input and then check whether they are divisible by 5 or not. The numbers that are\n",
    "# divisible by 5 are to be printed in a comma separated sequence.\n",
    "# Suppose the input is supplied to the program: 0100,0011,1010,1001\n",
    "# Then the output should be: 1010\n",
    "# Notes: Assume the data is input by console.\n",
    "# Hints: In case of input data being supplied to the question, it should be assumed to be a\n",
    "# console input."
   ]
  },
  {
   "cell_type": "code",
   "execution_count": null,
   "metadata": {},
   "outputs": [],
   "source": [
    "ip = input('Enter the Number: ')\n",
    "binary = ip.split(',')\n",
    "v = 3\n",
    "p = 0\n",
    "dec = []\n",
    "# print(binary)\n",
    "\n",
    "for i in ls:\n",
    "    for j in i:\n",
    "        o = int(j) * (2**v)\n",
    "        p = p + o\n",
    "        if v > 0:\n",
    "            v = v - 1\n",
    "        elif v == 0:\n",
    "            dec.append(p)\n",
    "            v = 3\n",
    "            p = 0\n",
    "\n",
    "# print(*dec, sep=', ')\n",
    "result = []\n",
    "for ind in range(0, len(dec)):\n",
    "    if dec[ind] % 5 == 0:\n",
    "        result.append(binary[ind])\n",
    "print(*result, sep=', ')\n",
    "\n"
   ]
  },
  {
   "cell_type": "code",
   "execution_count": null,
   "metadata": {},
   "outputs": [],
   "source": [
    "#12. Write a program, which will find all such numbers between 1000 and 3000 (both\n",
    "# included) such that each digit of the number is an even number.\n",
    "# The numbers obtained should be printed in a comma-separated sequence on a single line.\n",
    "# Hints: In case of input data being supplied to the question, it should be assumed to be a\n",
    "# console input.\n"
   ]
  },
  {
   "cell_type": "code",
   "execution_count": null,
   "metadata": {},
   "outputs": [],
   "source": [
    "# Considering 0 is even\n",
    "pure_even = []\n",
    "for j in range(1000, 3001):\n",
    "    if '1' not in list(str(j)) and '3' not in list(str(j)) and '5' not in list(str(j)) and '7' not in list(str(j)) and '9' not in list(str(j)):\n",
    "        pure_even.append(j)\n",
    "print(*pure_even, sep=', ')"
   ]
  },
  {
   "cell_type": "code",
   "execution_count": null,
   "metadata": {},
   "outputs": [],
   "source": [
    "# 13. Suppose the input is supplied to the program: hello world! 123\n",
    "# Then, the output should be: LETTERS 10\n",
    "#                               DIGITS 3\n",
    "# Hints: In case of input data being supplied to the question, it should be assumed to be a\n",
    "# console input."
   ]
  },
  {
   "cell_type": "code",
   "execution_count": null,
   "metadata": {},
   "outputs": [],
   "source": [
    "ip = input('Enter the Input here: ')\n",
    "letters = 0\n",
    "digits = 0\n",
    "for i in ip:\n",
    "    if i in 'abcdefghijklmnopqrstuvwxyz' or i in 'ABCDEFGHIJKLMNOPQRSTUVWXYZ':\n",
    "        letters = letters + 1\n",
    "    elif i in '0123456789':\n",
    "        digits = digits + 1\n",
    "\n",
    "print(f'LETTERS {letters}\\nDIGITS {digits}')\n"
   ]
  },
  {
   "cell_type": "code",
   "execution_count": null,
   "metadata": {},
   "outputs": [],
   "source": [
    "# 14. Write a program that accepts a sentence and calculate the number of upper case letters\n",
    "# and lower case letters.\n",
    "# Suppose the input is supplied to the program: Hello world!\n",
    "# Then, the output should be: UPPER CASE 1\n",
    "# LOWER CASE 9\n",
    "# Hints: In case of input data being supplied to the question, it should be assumed to be a\n",
    "# console input.\n"
   ]
  },
  {
   "cell_type": "code",
   "execution_count": null,
   "metadata": {},
   "outputs": [],
   "source": [
    "ip = input('Enter the Sentence here: ')\n",
    "upper = 0\n",
    "lower = 0\n",
    "for i in ip:\n",
    "    if i in 'abcdefghijklmnopqrstuvwxyz':\n",
    "        lower = lower + 1\n",
    "    elif i in 'ABCDEFGHIJKLMNOPQRSTUVWXYZ':\n",
    "        upper = upper + 1\n",
    "print(f'UPPER CASE {upper}\\nLOWER CASE {lower}')"
   ]
  },
  {
   "cell_type": "code",
   "execution_count": null,
   "metadata": {},
   "outputs": [],
   "source": [
    "# 15. Write a program that computes the value of a+aa+aaa+aaaa with a given digit as the\n",
    "# value of a.\n",
    "# Suppose the input is supplied to the program: 9\n",
    "# Then, the output should be: 11106\n",
    "# Hints: In case of input data being supplied to the question, it should be assumed to be a\n",
    "# console input."
   ]
  },
  {
   "cell_type": "code",
   "execution_count": null,
   "metadata": {},
   "outputs": [],
   "source": [
    "ip = input('Enter the value: ')\n",
    "a = int(ip)\n",
    "aa = int(ip+ip)\n",
    "aaa = int(ip+ip+ip)\n",
    "aaaa = int(ip+ip+ip+ip)\n",
    "print(a + aa + aaa + aaaa)"
   ]
  },
  {
   "cell_type": "code",
   "execution_count": null,
   "metadata": {},
   "outputs": [],
   "source": [
    "# 16. Use a list comprehension to square each odd number in a list. The list is input by a\n",
    "# sequence of comma-separated numbers.\n",
    "# Suppose the input is supplied to the program: 1,2,3,4,5,6,7,8,9\n",
    "# Then, the output should be: 1, 3, 5, 7, 9\n",
    "# Hints: In case of input data being supplied to the question, it should be assumed to be a\n",
    "# console input."
   ]
  },
  {
   "cell_type": "code",
   "execution_count": null,
   "metadata": {},
   "outputs": [],
   "source": [
    "ip = input('Enter the numbers separated by comma without space: ')\n",
    "nums = ip.split(',')\n",
    "num = [odds for odds in nums if int(odds) % 2 != 0]\n",
    "print(*num, sep=', ')"
   ]
  },
  {
   "cell_type": "code",
   "execution_count": null,
   "metadata": {},
   "outputs": [],
   "source": [
    "# 17. Write a program that computes the net amount of a bank account based a transaction\n",
    "# log from console input. The transaction log format is shown as following:\n",
    "# D 100\n",
    "# W 200\n",
    "# --D means deposit while W means withdrawal.\n",
    "# Suppose the input is supplied to the program:\n",
    "# D 300\n",
    "# D 300\n",
    "# W 200\n",
    "# D 100\n",
    "# Then, the output should be: 500\n",
    "# Hints: In case of input data being supplied to the question, it should be assumed to be a\n",
    "# console input."
   ]
  },
  {
   "cell_type": "code",
   "execution_count": 27,
   "metadata": {},
   "outputs": [
    {
     "name": "stdout",
     "output_type": "stream",
     "text": [
      "D 300\n",
      "D 300\n",
      "W 200\n",
      "D 100\n",
      "\n",
      "500\n"
     ]
    }
   ],
   "source": [
    "ls = []\n",
    "deposit_raw = []\n",
    "withdrawl_raw = []\n",
    "ip = 0\n",
    "num = '0'\n",
    "while True:\n",
    "    ip = input()\n",
    "    if ip:\n",
    "        ls.append(ip)\n",
    "    else:\n",
    "        break\n",
    "for i in ls:\n",
    "    if 'd' in i or 'D' in i:\n",
    "        deposit_raw.append(i)\n",
    "    elif 'w' in i or 'W' in i:\n",
    "        withdrawl_raw.append(i)\n",
    "d_list = []\n",
    "for k in deposit_raw:\n",
    "    for j in k:\n",
    "        if j in '0123456789':\n",
    "            num = num + j\n",
    "    d_list.append(int(num))\n",
    "    num = '0'\n",
    "w_list = []\n",
    "for w in withdrawl_raw:\n",
    "    for h in w:\n",
    "        if h in '0123456789':\n",
    "            num = num + h\n",
    "    w_list.append(int(num))\n",
    "    num = '0'\n",
    "# print(deposit_raw)\n",
    "# print(withdrawl_raw)\n",
    "# print(d_list)\n",
    "# print(w_list)\n",
    "total = 0\n",
    "for add in d_list:\n",
    "    total = total + add\n",
    "for minus in w_list:\n",
    "    total = total - minus\n",
    "print(total)"
   ]
  },
  {
   "cell_type": "code",
   "execution_count": 22,
   "metadata": {},
   "outputs": [],
   "source": [
    "# 18. A website requires the users to input username and password to register. Write a\n",
    "# program to check the validity of password input by users.\n",
    "# Following are the criteria for checking the password:\n",
    "# 1. At least 1 letter between [a-z]\n",
    "# 2. At least 1 number between [0-9]\n",
    "# 1. At least 1 letter between [A-Z]\n",
    "# 3. At least 1 character from [$#@]\n",
    "# 4. Minimum length of transaction password: 6\n",
    "# 5. Maximum length of transaction password: 12\n",
    "# Your program should accept a sequence of comma separated passwords and will check\n",
    "# them according to the above criteria. Passwords that match the criteria are to be printed,\n",
    "# each separated by a comma.\n",
    "# If the following passwords are given as input to the program: ABd1234@1,a\n",
    "# F1#,2w3E*,2We3345\n",
    "# Then, the output of the program should be: ABd1234@1\n",
    "# Hints: In case of input data being supplied to the question, it should be assumed to be a\n",
    "# console input."
   ]
  },
  {
   "cell_type": "code",
   "execution_count": 2,
   "metadata": {},
   "outputs": [
    {
     "name": "stdout",
     "output_type": "stream",
     "text": [
      "Enter the Passwords seperated by a comma!: ABd1234@1,aF1#,2w3E*,2We3345\n",
      "ABd1234@1\n"
     ]
    }
   ],
   "source": [
    "import re\n",
    "ip = input('Enter the Passwords seperated by a comma!: ')\n",
    "ls = ip.split(',')\n",
    "for i in ls:\n",
    "    if len(i) >= 6 and len(i) <= 12 and re.search('[0-9]', i) and re.search('[A-Z]', i) and re.search('[a-z]', i) and re.search('[$#@]', i):\n",
    "        print(i)"
   ]
  },
  {
   "cell_type": "code",
   "execution_count": 26,
   "metadata": {},
   "outputs": [],
   "source": [
    "# 19. You are required to write a program to sort the (name, age, height) tuples by ascending\n",
    "# order where name is string, age and height are numbers. The tuples are input by console.\n",
    "# The sort criteria is:\n",
    "# 1: Sort based on name;\n",
    "# 2: Then sort based on age;\n",
    "# 3: Then sort by score.\n",
    "# The priority is that name > age > score.\n",
    "# If the following tuples are given as input to the program:\n",
    "# Tom,19,80\n",
    "# John,20,90\n",
    "# Jony,17,91\n",
    "# Jony,17,93\n",
    "# Json,21,85\n",
    "# Then, the output of the program should be:\n",
    "# [('John', '20', '90'), ('Jony', '17', '91'), ('Jony', '17', '93'), ('Json', '21', '85'), ('Tom', '19', '80')]\n",
    "# Hints: In case of input data being supplied to the question, it should be assumed to be a\n",
    "# console input. We use itemgetter to enable multiple sort keys."
   ]
  },
  {
   "cell_type": "code",
   "execution_count": 32,
   "metadata": {},
   "outputs": [
    {
     "name": "stdout",
     "output_type": "stream",
     "text": [
      "Tom,19,80\n",
      "John,20,90\n",
      "Jony,17,93\n",
      "Jony,17,91\n",
      "Json,21,85\n",
      "\n",
      "[('John', '20', '90'), ('Jony', '17', '91'), ('Jony', '17', '93'), ('Json', '21', '85'), ('Tom', '19', '80')]\n"
     ]
    }
   ],
   "source": [
    "import operator\n",
    "ls = []\n",
    "while True:\n",
    "    ip = input()\n",
    "    if ip:\n",
    "        ls.append(tuple(ip.split(',')))\n",
    "    else:\n",
    "        break\n",
    "print(sorted(ls, key=operator.itemgetter(0, 1, 2)))"
   ]
  },
  {
   "cell_type": "code",
   "execution_count": 33,
   "metadata": {},
   "outputs": [],
   "source": [
    "# 20. Define a class with a generator which can iterate the numbers, which are divisible by 7,\n",
    "# between a given range 0 and n.\n",
    "# Hints: Consider use yield"
   ]
  },
  {
   "cell_type": "code",
   "execution_count": 4,
   "metadata": {},
   "outputs": [],
   "source": [
    "class DivisibleBySeven:\n",
    "    \n",
    "    def __init__(self, n):\n",
    "        self.n = n\n",
    "        \n",
    "    def num_by_seven(self):\n",
    "        for i in range(self.n):\n",
    "            if i % 7 == 0:\n",
    "                yield i\n",
    "            else:\n",
    "                pass"
   ]
  },
  {
   "cell_type": "code",
   "execution_count": 5,
   "metadata": {},
   "outputs": [],
   "source": [
    "obj = DivisibleBySeven(20)"
   ]
  },
  {
   "cell_type": "code",
   "execution_count": 6,
   "metadata": {},
   "outputs": [
    {
     "name": "stdout",
     "output_type": "stream",
     "text": [
      "0\n",
      "7\n",
      "14\n"
     ]
    }
   ],
   "source": [
    "for x in obj.num_by_seven():\n",
    "    print(x)"
   ]
  },
  {
   "cell_type": "code",
   "execution_count": 7,
   "metadata": {},
   "outputs": [],
   "source": [
    "# 21. A robot moves in a plane starting from the original point (0,0). The robot can move\n",
    "# toward UP, DOWN, LEFT and RIGHT with a given steps. The trace of robot movement is\n",
    "# shown as the following:\n",
    "# UP 5\n",
    "# DOWN 3\n",
    "# LEFT 3\n",
    "# RIGHT 2\n",
    "# ¡-\n",
    "# The numbers after the direction\n",
    "# are steps. Please write a program to compute the distance\n",
    "# from current position after a sequence of movement and original point. If the distance is a\n",
    "# float, then just print the nearest integer.\n",
    "# If the following tuples are given as input to the program:\n",
    "# UP 5\n",
    "# DOWN 3\n",
    "# LEFT 3\n",
    "# RIGHT 2\n",
    "# Then, the output of the program should be: 2\n",
    "# Hints: In case of input data being supplied to the question, it should be assumed to be a\n",
    "# console input."
   ]
  },
  {
   "cell_type": "code",
   "execution_count": 14,
   "metadata": {},
   "outputs": [
    {
     "name": "stdout",
     "output_type": "stream",
     "text": [
      "UP 5\n",
      "DOWN 3\n",
      "LEFT 3\n",
      "RIGHT 2\n",
      "\n",
      "2\n"
     ]
    }
   ],
   "source": [
    "dict1 = {'x': 0,\n",
    "         'y': 0}\n",
    "while True:\n",
    "    movement = input()\n",
    "    \n",
    "    if movement:\n",
    "        direction,steps = movement.split(' ')\n",
    "        if direction == 'UP' or direction == 'up':\n",
    "            dict1['y'] = dict1['y'] + float(steps)\n",
    "        elif direction == 'DOWN' or direction == 'down':\n",
    "            dict1['y'] = dict1['y'] - float(steps)\n",
    "        elif direction == 'LEFT' or direction == 'left':\n",
    "            dict1['x'] = dict1['x'] - float(steps)\n",
    "        elif direction == 'RIGHT' or direction == 'right':\n",
    "            dict1['x'] = dict1['x'] + float(steps)\n",
    "    else:\n",
    "        break\n",
    "\n",
    "print(round((dict1['x']**2 + dict1['y']**2)**0.5))"
   ]
  },
  {
   "cell_type": "code",
   "execution_count": 15,
   "metadata": {},
   "outputs": [],
   "source": [
    "# 22. Write a program to compute the frequency of the words from the input. The output\n",
    "# should output after sorting the key alphanumerically.\n",
    "# Suppose the input is supplied to the program:\n",
    "# New to Python or choosing between Python 2 and Python 3? Read Python 2 or Python 3.\n",
    "# Then, the output should be:\n",
    "# 2:2\n",
    "# 3.:1\n",
    "# 3?:1\n",
    "# New:1\n",
    "# Python:5\n",
    "# Read:1\n",
    "# and:1\n",
    "# between:1\n",
    "# choosing:1\n",
    "# or:2\n",
    "# to:1\n",
    "# Hints: In case of input data being supplied to the question, it should be assumed to be a\n",
    "# console input."
   ]
  },
  {
   "cell_type": "code",
   "execution_count": 25,
   "metadata": {},
   "outputs": [
    {
     "name": "stdout",
     "output_type": "stream",
     "text": [
      "New to Python or choosing between Python 2 and Python 3? Read Python 2 or Python 3\n",
      "2:2\n",
      "3:1\n",
      "3?:1\n",
      "New:1\n",
      "Python:5\n",
      "Read:1\n",
      "and:1\n",
      "between:1\n",
      "choosing:1\n",
      "or:2\n",
      "to:1\n"
     ]
    }
   ],
   "source": [
    "counting_dict = {}\n",
    "ip = input()\n",
    "ls = sorted(ip.split(' '))\n",
    "n = 0\n",
    "# print(ls)\n",
    "for i in ls:\n",
    "    counting_dict[i] = n\n",
    "\n",
    "\n",
    "for g in counting_dict:\n",
    "    for x in range(len(ls)):\n",
    "        if g == ls[x]:\n",
    "            counting_dict[g] = counting_dict[g] + 1\n",
    "        else:\n",
    "            pass\n",
    "    \n",
    "for f in counting_dict:\n",
    "    print(f'{f}:{counting_dict[f]}')\n"
   ]
  },
  {
   "cell_type": "code",
   "execution_count": 26,
   "metadata": {},
   "outputs": [],
   "source": [
    "# 23. Write a method which can calculate square value of number\n",
    "# Hints: Using the ** operator"
   ]
  },
  {
   "cell_type": "code",
   "execution_count": 30,
   "metadata": {},
   "outputs": [],
   "source": [
    "def sqr(num):\n",
    "    return num ** 2"
   ]
  },
  {
   "cell_type": "code",
   "execution_count": 31,
   "metadata": {},
   "outputs": [
    {
     "data": {
      "text/plain": [
       "16"
      ]
     },
     "execution_count": 31,
     "metadata": {},
     "output_type": "execute_result"
    }
   ],
   "source": [
    "sqr(4)"
   ]
  },
  {
   "cell_type": "code",
   "execution_count": 33,
   "metadata": {},
   "outputs": [],
   "source": [
    "#24. Python has many built-in functions, and if you do not know how to use it, you can read document online or find some books.\n",
    "#But Python has a built-in document function for every built-in functions.\n",
    "#Please write a program to print some Python built-in functions documents, such as abs(), int(), raw_input()\n",
    "#And add document for your own function\n",
    "    \n",
    "#Hints: The built-in document method is __doc__\n"
   ]
  },
  {
   "cell_type": "code",
   "execution_count": 34,
   "metadata": {},
   "outputs": [
    {
     "name": "stdout",
     "output_type": "stream",
     "text": [
      "Return the absolute value of the argument.\n",
      "int([x]) -> integer\n",
      "int(x, base=10) -> integer\n",
      "\n",
      "Convert a number or string to an integer, or return 0 if no arguments\n",
      "are given.  If x is a number, return x.__int__().  For floating point\n",
      "numbers, this truncates towards zero.\n",
      "\n",
      "If x is not a number or if base is given, then x must be a string,\n",
      "bytes, or bytearray instance representing an integer literal in the\n",
      "given base.  The literal can be preceded by '+' or '-' and be surrounded\n",
      "by whitespace.  The base defaults to 10.  Valid bases are 0 and 2-36.\n",
      "Base 0 means to interpret the base from the string as an integer literal.\n",
      ">>> int('0b100', base=0)\n",
      "4\n",
      "Forward raw_input to frontends\n",
      "\n",
      "        Raises\n",
      "        ------\n",
      "        StdinNotImplentedError if active frontend doesn't support stdin.\n",
      "        \n",
      "12\n",
      "\n",
      "    a: Any Number\n",
      "    b: ANy Number\n",
      "    It returns the sum of a and b\n",
      "    Example: a = 5 and b = 7\n",
      "    then it will return 12\n",
      "    \n"
     ]
    }
   ],
   "source": [
    "print(abs.__doc__)\n",
    "print(int.__doc__)\n",
    "print(input.__doc__)\n",
    "\n",
    "def addition(a,b):\n",
    "    '''\n",
    "    a: Any Number\n",
    "    b: ANy Number\n",
    "    It returns the sum of a and b\n",
    "    Example: a = 5 and b = 7\n",
    "    then it will return 12\n",
    "    '''\n",
    "\n",
    "    return a + b\n",
    "\n",
    "print(addition(5, 7))\n",
    "print(addition.__doc__)"
   ]
  },
  {
   "cell_type": "code",
   "execution_count": 35,
   "metadata": {},
   "outputs": [],
   "source": [
    "# 25. Define a class, which have a class parameter and have a same instance parameter.\n",
    "# Hints: Define a instance parameter, need add it in __init__ method\n",
    "# You can init a object with construct parameter or set the value later"
   ]
  },
  {
   "cell_type": "code",
   "execution_count": 36,
   "metadata": {},
   "outputs": [],
   "source": [
    "class Sample:\n",
    "    para = '''Hi I'm here'''\n",
    "    def __init__(self, para):\n",
    "        self.para = para"
   ]
  },
  {
   "cell_type": "code",
   "execution_count": 43,
   "metadata": {},
   "outputs": [],
   "source": [
    "s = Sample('hello')"
   ]
  },
  {
   "cell_type": "code",
   "execution_count": 45,
   "metadata": {},
   "outputs": [
    {
     "data": {
      "text/plain": [
       "'hello'"
      ]
     },
     "execution_count": 45,
     "metadata": {},
     "output_type": "execute_result"
    }
   ],
   "source": [
    "s.para"
   ]
  },
  {
   "cell_type": "code",
   "execution_count": 46,
   "metadata": {},
   "outputs": [
    {
     "data": {
      "text/plain": [
       "\"Hi I'm here\""
      ]
     },
     "execution_count": 46,
     "metadata": {},
     "output_type": "execute_result"
    }
   ],
   "source": [
    "Sample.para"
   ]
  },
  {
   "cell_type": "code",
   "execution_count": 47,
   "metadata": {},
   "outputs": [],
   "source": [
    "# 26. Define a function which can compute the sum of two numbers.\n",
    "# Hints: Define a function with two numbers as arguments. You can compute the sum in the\n",
    "# function and return the value."
   ]
  },
  {
   "cell_type": "code",
   "execution_count": 48,
   "metadata": {},
   "outputs": [],
   "source": [
    "def add(a, b):\n",
    "    return a + b"
   ]
  },
  {
   "cell_type": "code",
   "execution_count": 49,
   "metadata": {},
   "outputs": [
    {
     "data": {
      "text/plain": [
       "3"
      ]
     },
     "execution_count": 49,
     "metadata": {},
     "output_type": "execute_result"
    }
   ],
   "source": [
    "add(1, 2)"
   ]
  },
  {
   "cell_type": "code",
   "execution_count": 50,
   "metadata": {},
   "outputs": [],
   "source": [
    "# 27. Define a function that can convert a integer into a string and print it in console.\n",
    "# Hints: Use str() to convert a number to string."
   ]
  },
  {
   "cell_type": "code",
   "execution_count": 51,
   "metadata": {},
   "outputs": [],
   "source": [
    "def convert_int_to_str(integer=int):\n",
    "    return str(integer)"
   ]
  },
  {
   "cell_type": "code",
   "execution_count": 55,
   "metadata": {},
   "outputs": [
    {
     "data": {
      "text/plain": [
       "'45634'"
      ]
     },
     "execution_count": 55,
     "metadata": {},
     "output_type": "execute_result"
    }
   ],
   "source": [
    "convert_int_to_str(45634)"
   ]
  },
  {
   "cell_type": "code",
   "execution_count": 56,
   "metadata": {},
   "outputs": [],
   "source": [
    "# 28. Define a function that can convert a integer into a string and print it in console.\n",
    "# Hints: Use str() to convert a number to string."
   ]
  },
  {
   "cell_type": "code",
   "execution_count": 57,
   "metadata": {},
   "outputs": [],
   "source": [
    "# 28 is same as the 27th question:"
   ]
  },
  {
   "cell_type": "code",
   "execution_count": 58,
   "metadata": {},
   "outputs": [],
   "source": [
    "# 29. Define a function that can receive two integral numbers in string form and compute\n",
    "# their sum and then print it in console.\n",
    "# Hints: Use int() to convert a string to integer."
   ]
  },
  {
   "cell_type": "code",
   "execution_count": 59,
   "metadata": {},
   "outputs": [],
   "source": [
    "def convert_str_to_int(string1, string2):\n",
    "    return int(string1) + int(string2)"
   ]
  },
  {
   "cell_type": "code",
   "execution_count": 60,
   "metadata": {},
   "outputs": [
    {
     "data": {
      "text/plain": [
       "167"
      ]
     },
     "execution_count": 60,
     "metadata": {},
     "output_type": "execute_result"
    }
   ],
   "source": [
    "convert_str_to_int('78', '89')"
   ]
  },
  {
   "cell_type": "code",
   "execution_count": 61,
   "metadata": {},
   "outputs": [],
   "source": [
    "# 30. Define a function that can accept two strings as input and concatenate them and then\n",
    "# print it in console.\n",
    "# Hints: Use + to concatenate the strings"
   ]
  },
  {
   "cell_type": "code",
   "execution_count": 62,
   "metadata": {},
   "outputs": [],
   "source": [
    "def concat_str(s1, s2):\n",
    "    return s1 + s2"
   ]
  },
  {
   "cell_type": "code",
   "execution_count": 63,
   "metadata": {},
   "outputs": [
    {
     "data": {
      "text/plain": [
       "'hihello'"
      ]
     },
     "execution_count": 63,
     "metadata": {},
     "output_type": "execute_result"
    }
   ],
   "source": [
    "concat_str('hi', 'hello')"
   ]
  },
  {
   "cell_type": "code",
   "execution_count": 64,
   "metadata": {},
   "outputs": [],
   "source": [
    "# 31. Define a function that can accept two strings as input and print the string with maximum\n",
    "# length in console. If two strings have the same length, then the function should print all\n",
    "# strings line by line.\n",
    "# Hints: Use len() function to get the length of a string"
   ]
  },
  {
   "cell_type": "code",
   "execution_count": 66,
   "metadata": {},
   "outputs": [],
   "source": [
    "def max_len_str(s1, s2):\n",
    "    if len(s1) > len(s2):\n",
    "        return s1\n",
    "    elif len(s2) > len(s1):\n",
    "        return s2\n",
    "    elif len(s2) == len(s1):\n",
    "        lst = [s1, s2]\n",
    "        for i in lst:\n",
    "            print(i)"
   ]
  },
  {
   "cell_type": "code",
   "execution_count": 67,
   "metadata": {},
   "outputs": [
    {
     "name": "stdout",
     "output_type": "stream",
     "text": [
      "hello\n",
      "hello\n"
     ]
    }
   ],
   "source": [
    "max_len_str('hello', 'hello')"
   ]
  },
  {
   "cell_type": "code",
   "execution_count": 68,
   "metadata": {},
   "outputs": [
    {
     "data": {
      "text/plain": [
       "'hello'"
      ]
     },
     "execution_count": 68,
     "metadata": {},
     "output_type": "execute_result"
    }
   ],
   "source": [
    "max_len_str('hi', 'hello')"
   ]
  },
  {
   "cell_type": "code",
   "execution_count": 70,
   "metadata": {},
   "outputs": [
    {
     "data": {
      "text/plain": [
       "'brushyour'"
      ]
     },
     "execution_count": 70,
     "metadata": {},
     "output_type": "execute_result"
    }
   ],
   "source": [
    "max_len_str('brushyour', 'teeth')"
   ]
  },
  {
   "cell_type": "code",
   "execution_count": 71,
   "metadata": {},
   "outputs": [],
   "source": [
    "# 32. Define a function that can accept an integer number as input and print the \"It is an even\n",
    "# number\" if the number is even, otherwise print \"It is an odd number\".\n",
    "# Hints: Use % operator to check if a number is even or odd."
   ]
  },
  {
   "cell_type": "code",
   "execution_count": 72,
   "metadata": {},
   "outputs": [],
   "source": [
    "def odd_even(num):\n",
    "    if num % 2 == 0:\n",
    "        return 'It is an even number'\n",
    "    elif num % 2 != 0:\n",
    "        return 'It is an odd number'"
   ]
  },
  {
   "cell_type": "code",
   "execution_count": 73,
   "metadata": {},
   "outputs": [
    {
     "data": {
      "text/plain": [
       "'It is an odd number'"
      ]
     },
     "execution_count": 73,
     "metadata": {},
     "output_type": "execute_result"
    }
   ],
   "source": [
    "odd_even(3)"
   ]
  },
  {
   "cell_type": "code",
   "execution_count": 74,
   "metadata": {},
   "outputs": [
    {
     "data": {
      "text/plain": [
       "'It is an even number'"
      ]
     },
     "execution_count": 74,
     "metadata": {},
     "output_type": "execute_result"
    }
   ],
   "source": [
    "odd_even(2)"
   ]
  },
  {
   "cell_type": "code",
   "execution_count": 75,
   "metadata": {},
   "outputs": [],
   "source": [
    "# 33. Define a function which can print a dictionary where the keys are numbers between 1\n",
    "# and 3 (both included) and the values are square of keys.\n",
    "# Hints: Use dict[key]=value pattern to put entry into a dictionary.\n",
    "# Use ** operator to get power of a number."
   ]
  },
  {
   "cell_type": "code",
   "execution_count": 84,
   "metadata": {},
   "outputs": [],
   "source": [
    "def dict_squared_values_1_to_3():\n",
    "    dic = dict()\n",
    "    for i in range(1, 4):\n",
    "        dic[i] = i ** 2\n",
    "    return dic"
   ]
  },
  {
   "cell_type": "code",
   "execution_count": 85,
   "metadata": {},
   "outputs": [
    {
     "name": "stdout",
     "output_type": "stream",
     "text": [
      "{1: 1, 2: 4, 3: 9}\n"
     ]
    }
   ],
   "source": [
    "print(dict_squared_values_1_to_3())"
   ]
  },
  {
   "cell_type": "code",
   "execution_count": 81,
   "metadata": {},
   "outputs": [],
   "source": [
    "# 34. Define a function which can print a dictionary where the keys are numbers between 1\n",
    "# and 20 (both included) and the values are square of keys.\n",
    "# Hints: Use dict[key]=value pattern to put entry into a dictionary.\n",
    "# Use ** operator to get power of a number. Use range() for loops."
   ]
  },
  {
   "cell_type": "code",
   "execution_count": 82,
   "metadata": {},
   "outputs": [],
   "source": [
    "def dict_squared_values_1_to_20():\n",
    "    dic = dict()\n",
    "    for i in range(1, 21):\n",
    "        dic[i] = i ** 2\n",
    "    return dic"
   ]
  },
  {
   "cell_type": "code",
   "execution_count": 83,
   "metadata": {},
   "outputs": [
    {
     "name": "stdout",
     "output_type": "stream",
     "text": [
      "{1: 1, 2: 4, 3: 9, 4: 16, 5: 25, 6: 36, 7: 49, 8: 64, 9: 81, 10: 100, 11: 121, 12: 144, 13: 169, 14: 196, 15: 225, 16: 256, 17: 289, 18: 324, 19: 361, 20: 400}\n"
     ]
    }
   ],
   "source": [
    "print(dict_squared_values_1_to_20())"
   ]
  },
  {
   "cell_type": "code",
   "execution_count": 86,
   "metadata": {},
   "outputs": [],
   "source": [
    "# 35. Define a function which can generate a dictionary where the keys are numbers between\n",
    "# 1 and 20 (both included) and the values are square of keys. The function should just print\n",
    "# the values only.\n",
    "# Hints: Use dict[key]=value pattern to put entry into a dictionary. Use ** operator to get\n",
    "# power of a number. Use range() for loops. Use keys() to iterate keys in the dictionary. Also\n",
    "# we can use item() to get key/value pairs."
   ]
  },
  {
   "cell_type": "code",
   "execution_count": 91,
   "metadata": {},
   "outputs": [],
   "source": [
    "def dict_squared_values_20():\n",
    "    dic = dict()\n",
    "    for i in range(1, 21):\n",
    "        dic[i] = i ** 2\n",
    "    for x in dic:\n",
    "        print(dic[x])"
   ]
  },
  {
   "cell_type": "code",
   "execution_count": 92,
   "metadata": {},
   "outputs": [
    {
     "name": "stdout",
     "output_type": "stream",
     "text": [
      "1\n",
      "4\n",
      "9\n",
      "16\n",
      "25\n",
      "36\n",
      "49\n",
      "64\n",
      "81\n",
      "100\n",
      "121\n",
      "144\n",
      "169\n",
      "196\n",
      "225\n",
      "256\n",
      "289\n",
      "324\n",
      "361\n",
      "400\n"
     ]
    }
   ],
   "source": [
    "dict_squared_values_20()"
   ]
  },
  {
   "cell_type": "code",
   "execution_count": 93,
   "metadata": {},
   "outputs": [],
   "source": [
    "# 36. Define a function which can generate a dictionary where the keys are numbers between\n",
    "# 1 and 20 (both included) and the values are square of keys. The function should just print\n",
    "# the keys only.\n",
    "# Hints: Use dict[key]=value pattern to put entry into a dictionary. Use ** operator to get\n",
    "# power of a number. Use range() for loops. Use keys() to iterate keys in the dictionary. Also\n",
    "# we can use item() to get key/value pairs."
   ]
  },
  {
   "cell_type": "code",
   "execution_count": 94,
   "metadata": {},
   "outputs": [],
   "source": [
    "def dict_squared_values_20_keys():\n",
    "    dic = dict()\n",
    "    for i in range(1, 21):\n",
    "        dic[i] = i ** 2\n",
    "    for x in dic:\n",
    "        print(x)"
   ]
  },
  {
   "cell_type": "code",
   "execution_count": 95,
   "metadata": {},
   "outputs": [
    {
     "name": "stdout",
     "output_type": "stream",
     "text": [
      "1\n",
      "2\n",
      "3\n",
      "4\n",
      "5\n",
      "6\n",
      "7\n",
      "8\n",
      "9\n",
      "10\n",
      "11\n",
      "12\n",
      "13\n",
      "14\n",
      "15\n",
      "16\n",
      "17\n",
      "18\n",
      "19\n",
      "20\n"
     ]
    }
   ],
   "source": [
    "dict_squared_values_20_keys()"
   ]
  },
  {
   "cell_type": "code",
   "execution_count": 96,
   "metadata": {},
   "outputs": [],
   "source": [
    "# 37. Define a function which can generate and print a list where the values are square of\n",
    "# numbers between 1 and 20 (both included).\n",
    "# Hints: Use ** operator to get power of a number. Use range() for loops. Use list.append() to\n",
    "# add values into a list."
   ]
  },
  {
   "cell_type": "code",
   "execution_count": 97,
   "metadata": {},
   "outputs": [],
   "source": [
    "def sqr_lst_generator():\n",
    "    squared = [x**2 for x in range(1, 21)]\n",
    "    return squared"
   ]
  },
  {
   "cell_type": "code",
   "execution_count": 98,
   "metadata": {},
   "outputs": [
    {
     "name": "stdout",
     "output_type": "stream",
     "text": [
      "[1, 4, 9, 16, 25, 36, 49, 64, 81, 100, 121, 144, 169, 196, 225, 256, 289, 324, 361, 400]\n"
     ]
    }
   ],
   "source": [
    "print(sqr_lst_generator())"
   ]
  },
  {
   "cell_type": "code",
   "execution_count": 99,
   "metadata": {},
   "outputs": [],
   "source": [
    "# 38. Define a function which can generate a list where the values are square of numbers\n",
    "# between 1 and 20 (both included). Then the function needs to print the first 5 elements in\n",
    "# the list.\n",
    "# Hints: Use ** operator to get power of a number. Use range() for loops. Use list.append() to\n",
    "# add values into a list. Use [n1:n2] to slice a list"
   ]
  },
  {
   "cell_type": "code",
   "execution_count": 104,
   "metadata": {},
   "outputs": [],
   "source": [
    "def sqr_lst_generator_5():\n",
    "    squared = [x**2 for x in range(1, 21)]\n",
    "    return squared[:5]"
   ]
  },
  {
   "cell_type": "code",
   "execution_count": 105,
   "metadata": {},
   "outputs": [
    {
     "name": "stdout",
     "output_type": "stream",
     "text": [
      "[1, 4, 9, 16, 25]\n"
     ]
    }
   ],
   "source": [
    "print(sqr_lst_generator_5())"
   ]
  },
  {
   "cell_type": "code",
   "execution_count": 102,
   "metadata": {},
   "outputs": [],
   "source": [
    "# 39. Define a function which can generate a list where the values are square of numbers\n",
    "# between 1 and 20 (both included). Then the function needs to print the last 5 elements in\n",
    "# the list.\n",
    "# Hints: Use ** operator to get power of a number. Use range() for loops. Use list.append() to\n",
    "# add values into a list. Use [n1:n2] to slice a list"
   ]
  },
  {
   "cell_type": "code",
   "execution_count": 106,
   "metadata": {},
   "outputs": [],
   "source": [
    "def sqr_lst_generator_5_last():\n",
    "    squared = [x**2 for x in range(1, 21)]\n",
    "    return squared[-5:]"
   ]
  },
  {
   "cell_type": "code",
   "execution_count": 107,
   "metadata": {},
   "outputs": [
    {
     "name": "stdout",
     "output_type": "stream",
     "text": [
      "[256, 289, 324, 361, 400]\n"
     ]
    }
   ],
   "source": [
    "print(sqr_lst_generator_5_last())"
   ]
  },
  {
   "cell_type": "code",
   "execution_count": 108,
   "metadata": {},
   "outputs": [],
   "source": [
    "# 40. Define a function which can generate a list where the values are square of numbers\n",
    "# between 1 and 20 (both included). Then the function needs to print all values except the\n",
    "# first 5 elements in the list.\n",
    "# Hints: Use ** operator to get power of a number. Use range() for loops. Use list.append() to\n",
    "# add values into a list. Use [n1:n2] to slice a list"
   ]
  },
  {
   "cell_type": "code",
   "execution_count": 110,
   "metadata": {},
   "outputs": [],
   "source": [
    "def sqr_nums_20():\n",
    "    squared = [x**2 for x in range(1, 21)]\n",
    "    return squared[5:]"
   ]
  },
  {
   "cell_type": "code",
   "execution_count": 111,
   "metadata": {},
   "outputs": [
    {
     "name": "stdout",
     "output_type": "stream",
     "text": [
      "[36, 49, 64, 81, 100, 121, 144, 169, 196, 225, 256, 289, 324, 361, 400]\n"
     ]
    }
   ],
   "source": [
    "print(sqr_nums_20())"
   ]
  },
  {
   "cell_type": "code",
   "execution_count": 112,
   "metadata": {},
   "outputs": [],
   "source": [
    "# 41. Define a function which can generate and print a tuple where the value are square of\n",
    "# numbers between 1 and 20 (both included).\n",
    "# Hints: Use ** operator to get power of a number. Use range() for loops. Use list.append() to\n",
    "# add values into a list. Use tuple() to get a tuple from a list."
   ]
  },
  {
   "cell_type": "code",
   "execution_count": 113,
   "metadata": {},
   "outputs": [],
   "source": [
    "def sqr_nums_20_tups():\n",
    "    squared = [x**2 for x in range(1, 21)]\n",
    "    return tuple(squared)"
   ]
  },
  {
   "cell_type": "code",
   "execution_count": 114,
   "metadata": {},
   "outputs": [
    {
     "name": "stdout",
     "output_type": "stream",
     "text": [
      "(1, 4, 9, 16, 25, 36, 49, 64, 81, 100, 121, 144, 169, 196, 225, 256, 289, 324, 361, 400)\n"
     ]
    }
   ],
   "source": [
    "print(sqr_nums_20_tups())"
   ]
  },
  {
   "cell_type": "code",
   "execution_count": 115,
   "metadata": {},
   "outputs": [],
   "source": [
    "# 42. With a given tuple (1,2,3,4,5,6,7,8,9,10), write a program to print the first half values in\n",
    "# one line and the last half values in one line.\n",
    "# Hints: Use [n1:n2] notation to get a slice from a tuple."
   ]
  },
  {
   "cell_type": "code",
   "execution_count": 125,
   "metadata": {},
   "outputs": [],
   "source": [
    "def part_tuple(tp):\n",
    "    print(*tp[:5], sep=', ')\n",
    "    print(*tp[-5:], sep=', ')"
   ]
  },
  {
   "cell_type": "code",
   "execution_count": 126,
   "metadata": {},
   "outputs": [
    {
     "name": "stdout",
     "output_type": "stream",
     "text": [
      "1, 2, 3, 4, 5\n",
      "6, 7, 8, 9, 10\n"
     ]
    }
   ],
   "source": [
    "part_tuple((1, 2, 3, 4, 5, 6, 7, 8, 9, 10))"
   ]
  },
  {
   "cell_type": "code",
   "execution_count": 127,
   "metadata": {},
   "outputs": [],
   "source": [
    "# 43. Write a program to generate and print another tuple whose values are even numbers in\n",
    "# the given tuple (1,2,3,4,5,6,7,8,9,10).\n",
    "# Hints: Use \"for\" to iterate the tuple. Use tuple() to generate a tuple from a list."
   ]
  },
  {
   "cell_type": "code",
   "execution_count": 128,
   "metadata": {},
   "outputs": [],
   "source": [
    "def even_tuples(tp):\n",
    "    for i in tp:\n",
    "        if i % 2 == 0:\n",
    "            print(i)"
   ]
  },
  {
   "cell_type": "code",
   "execution_count": 129,
   "metadata": {},
   "outputs": [
    {
     "name": "stdout",
     "output_type": "stream",
     "text": [
      "2\n",
      "4\n",
      "6\n",
      "8\n",
      "10\n"
     ]
    }
   ],
   "source": [
    "even_tuples((1, 2, 3, 4, 5, 6, 7, 8, 9, 10))"
   ]
  },
  {
   "cell_type": "code",
   "execution_count": 130,
   "metadata": {},
   "outputs": [],
   "source": [
    "# 44. Write a program which accepts a string as input to print \"Yes\" if the string is \"yes\" or\n",
    "# \"YES\" or \"Yes\", otherwise print \"No\".\n",
    "# Hints: Use if statement to judge condition."
   ]
  },
  {
   "cell_type": "code",
   "execution_count": 134,
   "metadata": {},
   "outputs": [
    {
     "name": "stdout",
     "output_type": "stream",
     "text": [
      "YEs\n",
      "No\n"
     ]
    }
   ],
   "source": [
    "ip = input()\n",
    "yes = 'yes'\n",
    "if ip == yes or ip == yes.upper() or ip == yes.capitalize():\n",
    "    print('Yes')\n",
    "else:\n",
    "    print('No')"
   ]
  },
  {
   "cell_type": "code",
   "execution_count": 135,
   "metadata": {},
   "outputs": [],
   "source": [
    "# 45. Write a program which can filter even numbers in a list by using filter function. The list\n",
    "# is: [1,2,3,4,5,6,7,8,9,10].\n",
    "# Hints: use filter() to filter some elements in a list. Use lambda to define anonymous\n",
    "# functions."
   ]
  },
  {
   "cell_type": "code",
   "execution_count": 150,
   "metadata": {},
   "outputs": [],
   "source": [
    "ls = [1, 2, 3, 4, 5, 6, 7, 8, 9, 10]\n",
    "filtered = filter(lambda x: x % 2 == 0, ls)"
   ]
  },
  {
   "cell_type": "code",
   "execution_count": 151,
   "metadata": {},
   "outputs": [
    {
     "name": "stdout",
     "output_type": "stream",
     "text": [
      "2,4,6,8,10\n"
     ]
    }
   ],
   "source": [
    "print(*filtered, sep=',')"
   ]
  },
  {
   "cell_type": "code",
   "execution_count": 144,
   "metadata": {},
   "outputs": [],
   "source": [
    "# 46. Write a program which can map() to make a list whose elements are square of elements\n",
    "# in [1,2,3,4,5,6,7,8,9,10].\n",
    "# Hints: Use map() to generate a list. Use lambda to define anonymous functions."
   ]
  },
  {
   "cell_type": "code",
   "execution_count": 147,
   "metadata": {},
   "outputs": [
    {
     "name": "stdout",
     "output_type": "stream",
     "text": [
      "[1, 4, 9, 16, 25, 36, 49, 64, 81, 100]\n"
     ]
    }
   ],
   "source": [
    "ls = [1, 2, 3, 4, 5, 6, 7, 8, 9, 10]\n",
    "ls_sqrd = list(map(lambda x: x**2, ls))\n",
    "print(ls_sqrd)"
   ]
  },
  {
   "cell_type": "code",
   "execution_count": 148,
   "metadata": {},
   "outputs": [],
   "source": [
    "# 47. Write a program which can map() and filter() to make a list whose elements are square\n",
    "# of even number in [1,2,3,4,5,6,7,8,9,10].\n",
    "# Hints: Use map() to generate a list. Use filter() to filter elements of a list. Use lambda to\n",
    "# define anonymous functions."
   ]
  },
  {
   "cell_type": "code",
   "execution_count": 152,
   "metadata": {},
   "outputs": [],
   "source": [
    "ls = [1, 2, 3, 4, 5, 6, 7, 8, 9, 10]\n",
    "ls_sqrd = list(map(lambda x: x**2, ls))\n",
    "filtered = filter(lambda x: x % 2 == 0, ls_sqrd)"
   ]
  },
  {
   "cell_type": "code",
   "execution_count": 153,
   "metadata": {},
   "outputs": [
    {
     "name": "stdout",
     "output_type": "stream",
     "text": [
      "4, 16, 36, 64, 100\n"
     ]
    }
   ],
   "source": [
    "print(*filtered, sep=', ')"
   ]
  },
  {
   "cell_type": "code",
   "execution_count": 154,
   "metadata": {},
   "outputs": [],
   "source": [
    "# 48. Write a program which can filter() to make a list whose elements are even number\n",
    "# between 1 and 20 (both included).\n",
    "# Hints: Use filter() to filter elements of a list. Use lambda to define anonymous functions."
   ]
  },
  {
   "cell_type": "code",
   "execution_count": 157,
   "metadata": {},
   "outputs": [],
   "source": [
    "list_filter = list(filter(lambda x: x % 2 == 0, range(1, 21)))"
   ]
  },
  {
   "cell_type": "code",
   "execution_count": 158,
   "metadata": {},
   "outputs": [
    {
     "data": {
      "text/plain": [
       "[2, 4, 6, 8, 10, 12, 14, 16, 18, 20]"
      ]
     },
     "execution_count": 158,
     "metadata": {},
     "output_type": "execute_result"
    }
   ],
   "source": [
    "list_filter"
   ]
  },
  {
   "cell_type": "code",
   "execution_count": 159,
   "metadata": {},
   "outputs": [],
   "source": [
    "# 49. Write a program which can map() to make a list whose elements are square of numbers\n",
    "# between 1 and 20 (both included).\n",
    "# Hints: Use map() to generate a list. Use lambda to define anonymous functions."
   ]
  },
  {
   "cell_type": "code",
   "execution_count": 161,
   "metadata": {},
   "outputs": [],
   "source": [
    "mapped_lst = list(map(lambda x: x ** 2, range(1, 21)))"
   ]
  },
  {
   "cell_type": "code",
   "execution_count": 162,
   "metadata": {},
   "outputs": [
    {
     "data": {
      "text/plain": [
       "[1,\n",
       " 4,\n",
       " 9,\n",
       " 16,\n",
       " 25,\n",
       " 36,\n",
       " 49,\n",
       " 64,\n",
       " 81,\n",
       " 100,\n",
       " 121,\n",
       " 144,\n",
       " 169,\n",
       " 196,\n",
       " 225,\n",
       " 256,\n",
       " 289,\n",
       " 324,\n",
       " 361,\n",
       " 400]"
      ]
     },
     "execution_count": 162,
     "metadata": {},
     "output_type": "execute_result"
    }
   ],
   "source": [
    "mapped_lst"
   ]
  },
  {
   "cell_type": "code",
   "execution_count": 163,
   "metadata": {},
   "outputs": [],
   "source": [
    "# 50. Define a class named American which has a static method called printNationality.\n",
    "# Hints: Use @staticmethod decorator to define class static method."
   ]
  },
  {
   "cell_type": "code",
   "execution_count": 187,
   "metadata": {},
   "outputs": [],
   "source": [
    "class American:\n",
    "    \n",
    "    @staticmethod\n",
    "    def printNationality():\n",
    "        return '''I'm American.'''"
   ]
  },
  {
   "cell_type": "code",
   "execution_count": 188,
   "metadata": {},
   "outputs": [],
   "source": [
    "a = American()"
   ]
  },
  {
   "cell_type": "code",
   "execution_count": 191,
   "metadata": {},
   "outputs": [
    {
     "data": {
      "text/plain": [
       "\"I'm American.\""
      ]
     },
     "execution_count": 191,
     "metadata": {},
     "output_type": "execute_result"
    }
   ],
   "source": [
    "a.printNationality()"
   ]
  },
  {
   "cell_type": "code",
   "execution_count": 192,
   "metadata": {},
   "outputs": [],
   "source": [
    "# 51. Define a class named American and its subclass NewYorker.\n",
    "# Hints: Use class Subclass(ParentClass) to define a subclass."
   ]
  },
  {
   "cell_type": "code",
   "execution_count": 208,
   "metadata": {},
   "outputs": [
    {
     "name": "stdout",
     "output_type": "stream",
     "text": [
      "American\n",
      "NewYorker\n"
     ]
    }
   ],
   "source": [
    "class American:\n",
    "    \n",
    "    print('American')\n",
    "    \n",
    "class NewYorker(American):\n",
    "    \n",
    "    print('NewYorker')"
   ]
  },
  {
   "cell_type": "code",
   "execution_count": 209,
   "metadata": {},
   "outputs": [],
   "source": [
    "a = American()"
   ]
  },
  {
   "cell_type": "code",
   "execution_count": 210,
   "metadata": {},
   "outputs": [
    {
     "data": {
      "text/plain": [
       "<__main__.American at 0x1464cf2d828>"
      ]
     },
     "execution_count": 210,
     "metadata": {},
     "output_type": "execute_result"
    }
   ],
   "source": [
    "a"
   ]
  },
  {
   "cell_type": "code",
   "execution_count": 211,
   "metadata": {},
   "outputs": [],
   "source": [
    "n = NewYorker()"
   ]
  },
  {
   "cell_type": "code",
   "execution_count": 212,
   "metadata": {},
   "outputs": [
    {
     "data": {
      "text/plain": [
       "<__main__.NewYorker at 0x1464cf2db38>"
      ]
     },
     "execution_count": 212,
     "metadata": {},
     "output_type": "execute_result"
    }
   ],
   "source": [
    "n"
   ]
  },
  {
   "cell_type": "code",
   "execution_count": 213,
   "metadata": {},
   "outputs": [],
   "source": [
    "# 52. Define a class named Circle which can be constructed by a radius. The Circle class has a\n",
    "# method which can compute the area.\n",
    "# Hints: Use def methodName(self) to define a method."
   ]
  },
  {
   "cell_type": "code",
   "execution_count": 221,
   "metadata": {},
   "outputs": [],
   "source": [
    "class Circle:\n",
    "    pi = 3.14\n",
    "    \n",
    "    def __init__(self, radius):\n",
    "        self.radius = radius\n",
    "        \n",
    "    def circle_area(self):\n",
    "        return self.pi * (self.radius**2)"
   ]
  },
  {
   "cell_type": "code",
   "execution_count": 222,
   "metadata": {},
   "outputs": [],
   "source": [
    "area = Circle(10)"
   ]
  },
  {
   "cell_type": "code",
   "execution_count": 223,
   "metadata": {},
   "outputs": [
    {
     "data": {
      "text/plain": [
       "314.0"
      ]
     },
     "execution_count": 223,
     "metadata": {},
     "output_type": "execute_result"
    }
   ],
   "source": [
    "area.circle_area()"
   ]
  },
  {
   "cell_type": "code",
   "execution_count": 224,
   "metadata": {},
   "outputs": [],
   "source": [
    "# 53. Define a class named Rectangle which can be constructed by a length and width. The\n",
    "# Rectangle class has a method which can compute the area.\n",
    "# Hints: Use def methodName(self) to define a method."
   ]
  },
  {
   "cell_type": "code",
   "execution_count": 226,
   "metadata": {},
   "outputs": [],
   "source": [
    "class Rectangle:\n",
    "    \n",
    "    def __init__(self, l, w):\n",
    "        self.l = l\n",
    "        self.w = w\n",
    "        \n",
    "    def rectangle_area(self):\n",
    "        return self.l * self.w"
   ]
  },
  {
   "cell_type": "code",
   "execution_count": 227,
   "metadata": {},
   "outputs": [],
   "source": [
    "area = Rectangle(4, 5)"
   ]
  },
  {
   "cell_type": "code",
   "execution_count": 228,
   "metadata": {},
   "outputs": [
    {
     "data": {
      "text/plain": [
       "20"
      ]
     },
     "execution_count": 228,
     "metadata": {},
     "output_type": "execute_result"
    }
   ],
   "source": [
    "area.rectangle_area()"
   ]
  },
  {
   "cell_type": "code",
   "execution_count": 230,
   "metadata": {},
   "outputs": [],
   "source": [
    "# 54. Define a class named Shape and its subclass Square. The Square class has an init function\n",
    "# which takes a length as argument. Both classes have a area function which can print the\n",
    "# area of the shape where Shape's area is 0 by default.\n",
    "# Hints: To override a method in super class, we can define a method with the same name in\n",
    "# the super class."
   ]
  },
  {
   "cell_type": "code",
   "execution_count": 265,
   "metadata": {},
   "outputs": [],
   "source": [
    "class Shape:\n",
    "    \n",
    "    def __init__(self, l):\n",
    "        self.l = l\n",
    "        \n",
    "    def shape_area(self):\n",
    "        return 0\n",
    "\n",
    "class Square(Shape):\n",
    "    \n",
    "    def __init__(self, l):\n",
    "        self.l = l\n",
    "        \n",
    "    def shape_area(self):\n",
    "        return self.l ** 2"
   ]
  },
  {
   "cell_type": "code",
   "execution_count": 266,
   "metadata": {},
   "outputs": [],
   "source": [
    "s = Shape(7)"
   ]
  },
  {
   "cell_type": "code",
   "execution_count": 267,
   "metadata": {},
   "outputs": [
    {
     "data": {
      "text/plain": [
       "0"
      ]
     },
     "execution_count": 267,
     "metadata": {},
     "output_type": "execute_result"
    }
   ],
   "source": [
    "s.shape_area()"
   ]
  },
  {
   "cell_type": "code",
   "execution_count": 268,
   "metadata": {},
   "outputs": [],
   "source": [
    "area_sqr = Square(7)"
   ]
  },
  {
   "cell_type": "code",
   "execution_count": 269,
   "metadata": {},
   "outputs": [
    {
     "data": {
      "text/plain": [
       "49"
      ]
     },
     "execution_count": 269,
     "metadata": {},
     "output_type": "execute_result"
    }
   ],
   "source": [
    "area_sqr.shape_area()"
   ]
  },
  {
   "cell_type": "code",
   "execution_count": 270,
   "metadata": {},
   "outputs": [],
   "source": [
    "# 55. Write a function to compute 5/0 and use try/except to catch the exceptions.\n",
    "# Hints: Use try/except to catch exceptions."
   ]
  },
  {
   "cell_type": "code",
   "execution_count": 274,
   "metadata": {},
   "outputs": [],
   "source": [
    "def compute():\n",
    "    return 5/0"
   ]
  },
  {
   "cell_type": "code",
   "execution_count": 277,
   "metadata": {},
   "outputs": [
    {
     "name": "stdout",
     "output_type": "stream",
     "text": [
      "Caught an Error\n"
     ]
    }
   ],
   "source": [
    "try:\n",
    "    compute()\n",
    "except:\n",
    "    print('Caught an Error')"
   ]
  },
  {
   "cell_type": "code",
   "execution_count": 273,
   "metadata": {},
   "outputs": [],
   "source": [
    "# 56. Define a custom exception class which takes a string message as attribute.\n",
    "# Hints: To define a custom exception, we need to define a class inherited from Exception."
   ]
  },
  {
   "cell_type": "code",
   "execution_count": 2,
   "metadata": {},
   "outputs": [],
   "source": [
    "class CustomException(Exception):\n",
    "    \n",
    "    def __init__(self, text):\n",
    "        self.text = text"
   ]
  },
  {
   "cell_type": "code",
   "execution_count": 7,
   "metadata": {},
   "outputs": [
    {
     "name": "stdout",
     "output_type": "stream",
     "text": [
      "Enter the Text here: 20\n",
      "Error: Input is greater than 15\n"
     ]
    }
   ],
   "source": [
    "ip = int(input('Enter the Text here: '))\n",
    "try:\n",
    "    if ip < 15:\n",
    "            raise CustomException(\"Input is less than 15\")\n",
    "    elif ip > 15:\n",
    "            raise CustomException(\"Input is greater than 15\")\n",
    "except CustomException as cus:\n",
    "    print(f'Error: {cus.text}')"
   ]
  },
  {
   "cell_type": "code",
   "execution_count": 8,
   "metadata": {},
   "outputs": [],
   "source": [
    "# 57. Assuming that we have some email addresses in the \"username@companyname.com\"\n",
    "# format, please write program to print the user name of a given email address. Both user\n",
    "# names and company names are composed of letters only.\n",
    "# If the following email address is given as input to the program: Chandra@analytixlabs.com\n",
    "# Then, the output of the program should be: Chandra\n",
    "# In case of input data being supplied to the question, it should be assumed to be a console\n",
    "# input.\n",
    "# Hints: Use \\w to match letters."
   ]
  },
  {
   "cell_type": "code",
   "execution_count": 10,
   "metadata": {},
   "outputs": [
    {
     "name": "stdout",
     "output_type": "stream",
     "text": [
      "Enter your e-mail address here: Chandra@analytixlabs.com\n",
      "Your User Name is: Chandra\n"
     ]
    }
   ],
   "source": [
    "email = input('Enter your e-mail address here: ')\n",
    "elist = email.split('@')\n",
    "user_name = elist[0]\n",
    "print(f'Your User Name is: {user_name}')"
   ]
  },
  {
   "cell_type": "code",
   "execution_count": 11,
   "metadata": {},
   "outputs": [],
   "source": [
    "# 58. Assuming that we have some email addresses in the \"username@companyname.com\"\n",
    "# format, please write program to print the company name of a given email address. Both\n",
    "# user names and company names are composed of letters only.\n",
    "# If the following email address is given as input to the program: Chandra@analytixlabs.com\n",
    "# Then, the output of the program should be: analytixlabs\n",
    "# In case of input data being supplied to the question, it should be assumed to be a console\n",
    "# input.\n",
    "# Hints: Use \\w to match letters"
   ]
  },
  {
   "cell_type": "code",
   "execution_count": 13,
   "metadata": {},
   "outputs": [
    {
     "name": "stdout",
     "output_type": "stream",
     "text": [
      "Chandra@analytixlabs.com\n",
      "analytixlabs\n"
     ]
    }
   ],
   "source": [
    "email = input()\n",
    "elist = email.split('@')\n",
    "elist1 = elist[1].split('.')\n",
    "company = elist1[0]\n",
    "print(company)"
   ]
  },
  {
   "cell_type": "code",
   "execution_count": 14,
   "metadata": {},
   "outputs": [],
   "source": [
    "# 59. Write a program which accepts a sequence of words separated by whitespace as input\n",
    "# to print the words composed of digits only.\n",
    "# If the following words are given as input to the program: 2 cats and 3 dogs.\n",
    "# Then, the output of the program should be: ['2', '3']\n",
    "# In case of input data being supplied to the question, it should be assumed to be a console\n",
    "# input.\n",
    "# Hints: Use re.findall() to find all substring using regex."
   ]
  },
  {
   "cell_type": "code",
   "execution_count": 18,
   "metadata": {},
   "outputs": [
    {
     "name": "stdout",
     "output_type": "stream",
     "text": [
      "2 cats and 3 dogs\n",
      "['2', '3']\n"
     ]
    }
   ],
   "source": [
    "import re\n",
    "alphan_text = input()\n",
    "target_match = re.findall('[0-9]', alphan_text)\n",
    "print(target_match)"
   ]
  },
  {
   "cell_type": "code",
   "execution_count": 19,
   "metadata": {},
   "outputs": [],
   "source": [
    "# 60. Print a unicode string \"hello world\".\n",
    "# Hints: Use u'strings' format to define unicode string."
   ]
  },
  {
   "cell_type": "code",
   "execution_count": 26,
   "metadata": {},
   "outputs": [
    {
     "name": "stdout",
     "output_type": "stream",
     "text": [
      "hello world\n"
     ]
    }
   ],
   "source": [
    "print(u'hello world')"
   ]
  },
  {
   "cell_type": "code",
   "execution_count": 27,
   "metadata": {},
   "outputs": [],
   "source": [
    "# 61. Write a program to read an ASCII string and to convert it to a unicode string encoded by\n",
    "# utf-8.\n",
    "# Hints: Use unicode() function to convert."
   ]
  },
  {
   "cell_type": "code",
   "execution_count": 2,
   "metadata": {},
   "outputs": [
    {
     "name": "stdout",
     "output_type": "stream",
     "text": [
      "hello\n",
      "b'hello'\n"
     ]
    }
   ],
   "source": [
    "asc = input()\n",
    "print(asc.encode('utf-8'))"
   ]
  },
  {
   "cell_type": "code",
   "execution_count": 31,
   "metadata": {},
   "outputs": [],
   "source": [
    "# 62. Write a special comment to indicate a Python source code file is in unicode."
   ]
  },
  {
   "cell_type": "code",
   "execution_count": 34,
   "metadata": {},
   "outputs": [
    {
     "name": "stdout",
     "output_type": "stream",
     "text": [
      "89\n",
      "b'89'\n"
     ]
    }
   ],
   "source": [
    "asc = input()\n",
    "print(asc.encode('utf-8'))      # -*- coding: utf-8 -*-"
   ]
  },
  {
   "cell_type": "code",
   "execution_count": 33,
   "metadata": {},
   "outputs": [],
   "source": [
    "# # 63. Write a program to compute 1/2 + 2/3 + 3/4 +...+ n/n+1 with a given n input by console\n",
    "# # (n>0).\n",
    "# # If the following n is given as input to the program: 5\n",
    "# # Then, the output of the program should be: 3.55\n",
    "# In case of input data being supplied to the question, it should be assumed to be a console\n",
    "# input.\n",
    "# Hints: Use float() to convert an integer to a float"
   ]
  },
  {
   "cell_type": "code",
   "execution_count": 41,
   "metadata": {},
   "outputs": [
    {
     "name": "stdout",
     "output_type": "stream",
     "text": [
      "Enter the Number: 5\n",
      "3.55\n"
     ]
    }
   ],
   "source": [
    "num = int(input('Enter the Number: '))\n",
    "total = 0\n",
    "for i in range(1, num+1):\n",
    "    total = total + (i/(i+1))\n",
    "print(round(total, 2))"
   ]
  },
  {
   "cell_type": "code",
   "execution_count": 42,
   "metadata": {},
   "outputs": [],
   "source": [
    "# 64. Write a program to compute:\n",
    "# f(n)=f(n-1)+100 when n>0\n",
    "# and f(0)=1\n",
    "# with a given n input by console (n>0).\n",
    "# If the following n is given as input to the program: 5\n",
    "# Then, the output of the program should be: 500\n",
    "# In case of input data being supplied to the question, it should be assumed to be a console\n",
    "# input.\n",
    "# Hints: We can define recursive function in Python."
   ]
  },
  {
   "cell_type": "code",
   "execution_count": 47,
   "metadata": {},
   "outputs": [
    {
     "name": "stdout",
     "output_type": "stream",
     "text": [
      "5\n",
      "500\n"
     ]
    }
   ],
   "source": [
    "def f(n):\n",
    "    if n == 0:\n",
    "        return 0\n",
    "    else:\n",
    "        return f(n-1) + 100\n",
    "\n",
    "n = int(input())\n",
    "print(f(n))\n"
   ]
  },
  {
   "cell_type": "code",
   "execution_count": 48,
   "metadata": {},
   "outputs": [],
   "source": [
    "# 65. The Fibonacci sequence is computed based on the following formula:\n",
    "# f(n)=0 if n=0\n",
    "# f(n)=1 if n=1\n",
    "# f(n)=f(n-1)+f(n-2) if n>1\n",
    "# Please write a program to compute the value of f(n) with a given n input by console.\n",
    "# If the following n is given as input to the program: 7\n",
    "# Then, the output of the program should be: 13\n",
    "# In case of input data being supplied to the question, it should be assumed to be a console\n",
    "# input.\n",
    "# Hints: We can define recursive function in Python."
   ]
  },
  {
   "cell_type": "code",
   "execution_count": 50,
   "metadata": {},
   "outputs": [
    {
     "name": "stdout",
     "output_type": "stream",
     "text": [
      "7\n",
      "13\n"
     ]
    }
   ],
   "source": [
    "def f(n):\n",
    "    if n == 0:\n",
    "        return 0\n",
    "    elif n == 1:\n",
    "        return 1\n",
    "    elif n > 1:\n",
    "        return f(n-1) + f(n-2)\n",
    "    \n",
    "n = int(input())\n",
    "print(f(n))"
   ]
  },
  {
   "cell_type": "code",
   "execution_count": 51,
   "metadata": {},
   "outputs": [],
   "source": [
    "# 66. The Fibonacci sequence is computed based on the following formula:\n",
    "# f(n)=0 if n=0\n",
    "# f(n)=1 if n=1\n",
    "# f(n)=f(n-1)+f(n-2) if n>1\n",
    "# Please write a program using list comprehension to print the Fibonacci sequence in comma\n",
    "# separated form with a given n input by console.\n",
    "# If the following n is given as input to the program: 7\n",
    "# Then, the output of the program should be: 0, 1, 1, 2, 3, 5, 8, 13\n",
    "# Hints: We can define recursive function in Python. Use list comprehension to generate a list\n",
    "# from an existing list. Use string.join() to join a list of strings. In case of input data being\n",
    "# supplied to the question, it should be assumed to be a console input."
   ]
  },
  {
   "cell_type": "code",
   "execution_count": 59,
   "metadata": {},
   "outputs": [
    {
     "name": "stdout",
     "output_type": "stream",
     "text": [
      "7\n",
      "[0, 1, 1, 2, 3, 5, 8, 13]\n"
     ]
    }
   ],
   "source": [
    "n = int(input())\n",
    "k = [0 if x == 0 else 1 if x == 1 else (f(x-1)+f(x-2)) for x in range(n+1)]\n",
    "print(k)"
   ]
  },
  {
   "cell_type": "code",
   "execution_count": 60,
   "metadata": {},
   "outputs": [],
   "source": [
    "# 67. Please write a program using generator to print the even numbers between 0 and n in\n",
    "# comma separated form while n is input by console.\n",
    "# Example: If the following n is given as input to the program: 10\n",
    "# Then, the output of the program should be: 0,2,4,6,8,10\n",
    "# Hints: Use yield to produce the next value in generator. In case of input data being supplied\n",
    "# to the question, it should be assumed to be a console input."
   ]
  },
  {
   "cell_type": "code",
   "execution_count": 63,
   "metadata": {},
   "outputs": [
    {
     "name": "stdout",
     "output_type": "stream",
     "text": [
      "10\n",
      "0, 2, 4, 6, 8, 10\n"
     ]
    }
   ],
   "source": [
    "def even_gen(n):\n",
    "    for i in range(n+1):\n",
    "        if i % 2 == 0:\n",
    "            yield i\n",
    "\n",
    "n = int(input())\n",
    "print(*even_gen(n), sep=', ')"
   ]
  },
  {
   "cell_type": "code",
   "execution_count": 64,
   "metadata": {},
   "outputs": [],
   "source": [
    "# 68. Please write a program using generator to print the numbers which can be divisible by 5\n",
    "# and 7 between 0 and n in comma separated form while n is input by console.\n",
    "# If the following n is given as input to the program: 100\n",
    "# Then, the output of the program should be: 0, 35, 70\n",
    "# Hints: Use yield to produce the next value in generator. In case of input data being supplied\n",
    "# to the question, it should be assumed to be a console input."
   ]
  },
  {
   "cell_type": "code",
   "execution_count": 65,
   "metadata": {},
   "outputs": [
    {
     "name": "stdout",
     "output_type": "stream",
     "text": [
      "100\n",
      "0, 35, 70\n"
     ]
    }
   ],
   "source": [
    "def num_gen(n):\n",
    "    for i in range(n+1):\n",
    "        if i % 5 == 0 and i % 7 == 0:\n",
    "            yield i\n",
    "\n",
    "n = int(input())\n",
    "print(*num_gen(n), sep=', ')"
   ]
  },
  {
   "cell_type": "code",
   "execution_count": 66,
   "metadata": {},
   "outputs": [],
   "source": [
    "# 69. Please write assert statements to verify that every number in the list [2,4,6,8] is even.\n",
    "# Hints: Use \"assert expression\" to make assertion."
   ]
  },
  {
   "cell_type": "code",
   "execution_count": 69,
   "metadata": {},
   "outputs": [],
   "source": [
    "list_even = [2, 4, 6, 8]\n",
    "for i in list_even:\n",
    "    assert i % 2 == 0, f'{i} is not an even number'"
   ]
  },
  {
   "cell_type": "code",
   "execution_count": 70,
   "metadata": {},
   "outputs": [],
   "source": [
    "# 70. Please write a program which accepts basic mathematic expression from console and\n",
    "# print the evaluation result.\n",
    "# If the following string is given as input to the program: 35+3\n",
    "# Then, the output of the program should be: 38\n",
    "# Hints: Use eval() to evaluate an expression."
   ]
  },
  {
   "cell_type": "code",
   "execution_count": 73,
   "metadata": {},
   "outputs": [
    {
     "name": "stdout",
     "output_type": "stream",
     "text": [
      "35 + 3\n",
      "38\n"
     ]
    }
   ],
   "source": [
    "exp = input()\n",
    "print(eval(exp))"
   ]
  },
  {
   "cell_type": "code",
   "execution_count": 74,
   "metadata": {},
   "outputs": [],
   "source": [
    "# 71. Please write a binary search function which searches an item in a sorted list. The\n",
    "# function should return the index of element to be searched in the list.\n",
    "# Hints: Use if/elif to deal with conditions."
   ]
  },
  {
   "cell_type": "code",
   "execution_count": 15,
   "metadata": {},
   "outputs": [],
   "source": [
    "# def bsearch(n, lis):\n",
    "#     sort_lis = sorted(lis)\n",
    "#     for i in range(len(sort_lis)):\n",
    "#         if n == sort_lis[i]:\n",
    "#             return i\n",
    "# ort_lis = ['hero', 'human', 'dog', 'cat', 'demon']\n",
    "# sorted_lis = sorted(ort_lis)\n",
    "# print(sorted_lis)\n",
    "# n = input('Type an Item from the list above: ')\n",
    "# print(bsearch(n, ort_lis))"
   ]
  },
  {
   "cell_type": "code",
   "execution_count": 18,
   "metadata": {},
   "outputs": [
    {
     "name": "stdout",
     "output_type": "stream",
     "text": [
      "4\n",
      "1\n"
     ]
    }
   ],
   "source": [
    "def bsearch(item_list,item):\n",
    "    first = 0\n",
    "    last = len(item_list)-1\n",
    "    found = False\n",
    "    while( first<=last and not found):\n",
    "        mid = (first + last)//2\n",
    "        if item_list[mid] == item :\n",
    "            found = True\n",
    "        else:\n",
    "            if item < item_list[mid]:\n",
    "                last = mid - 1\n",
    "            else:\n",
    "                first = mid + 1\t\n",
    "    return mid\n",
    "print(bsearch([2, 4, 6, 33, 56, 78], 56))\n",
    "print(bsearch([2, 4, 6, 33, 56, 78], 4))"
   ]
  },
  {
   "cell_type": "code",
   "execution_count": 79,
   "metadata": {},
   "outputs": [],
   "source": [
    "# 72. Please write a binary search function which searches an item in a sorted list. The\n",
    "# function should return the index of element to be searched in the list.\n",
    "# Hints: Use if/elif to deal with conditions."
   ]
  },
  {
   "cell_type": "code",
   "execution_count": 80,
   "metadata": {},
   "outputs": [],
   "source": [
    "# Same as above"
   ]
  },
  {
   "cell_type": "code",
   "execution_count": 81,
   "metadata": {},
   "outputs": [],
   "source": [
    "# 73. Please generate a random float where the value is between 10 and 100 using Python\n",
    "# math module.\n",
    "# Hints: Use random.random() to generate a random float in [0,1]."
   ]
  },
  {
   "cell_type": "code",
   "execution_count": 54,
   "metadata": {},
   "outputs": [
    {
     "name": "stdout",
     "output_type": "stream",
     "text": [
      "91.35628798354442\n"
     ]
    }
   ],
   "source": [
    "import random\n",
    "print(random.uniform(10, 100))"
   ]
  },
  {
   "cell_type": "code",
   "execution_count": 17,
   "metadata": {},
   "outputs": [],
   "source": [
    "# 74. Please generate a random float where the value is between 5 and 95 using Python math\n",
    "# module.\n",
    "# Hints: Use random.random() to generate a random float in [0,1]."
   ]
  },
  {
   "cell_type": "code",
   "execution_count": 45,
   "metadata": {},
   "outputs": [
    {
     "name": "stdout",
     "output_type": "stream",
     "text": [
      "39.19292239365517\n"
     ]
    }
   ],
   "source": [
    "import random\n",
    "print(random.uniform(5, 95))"
   ]
  },
  {
   "cell_type": "code",
   "execution_count": 67,
   "metadata": {},
   "outputs": [],
   "source": [
    "# 75. Please write a program to output a random even number between 0 and 10 inclusive\n",
    "# using random module and list comprehension.\n",
    "# Hints: Use random.choice() to a random element from a list."
   ]
  },
  {
   "cell_type": "code",
   "execution_count": 66,
   "metadata": {},
   "outputs": [
    {
     "name": "stdout",
     "output_type": "stream",
     "text": [
      "6\n"
     ]
    }
   ],
   "source": [
    "import random\n",
    "even_list = [x for x in range(0, 11, 2)]\n",
    "print(random.choice(even_list))"
   ]
  },
  {
   "cell_type": "code",
   "execution_count": 68,
   "metadata": {},
   "outputs": [],
   "source": [
    "# 76. Please write a program to output a random number, which is divisible by 5 and 7,\n",
    "# between 0 and 10 inclusive using random module and list comprehension.\n",
    "# Hints: Use random.choice() to a random element from a list."
   ]
  },
  {
   "cell_type": "code",
   "execution_count": 71,
   "metadata": {},
   "outputs": [
    {
     "name": "stdout",
     "output_type": "stream",
     "text": [
      "0\n"
     ]
    }
   ],
   "source": [
    "import random\n",
    "div_five_seven = [x for x in range(11) if x % 5 == 0 and x % 7 == 0]\n",
    "print(random.choice(div_five_seven))"
   ]
  },
  {
   "cell_type": "code",
   "execution_count": 72,
   "metadata": {},
   "outputs": [],
   "source": [
    "# 77. Please write a program to generate a list with 5 random numbers between 100 and 200\n",
    "# inclusive.\n",
    "# Hints: Use random.sample() to generate a list of random values."
   ]
  },
  {
   "cell_type": "code",
   "execution_count": 76,
   "metadata": {},
   "outputs": [
    {
     "name": "stdout",
     "output_type": "stream",
     "text": [
      "[130, 108, 195, 135, 170]\n"
     ]
    }
   ],
   "source": [
    "import random\n",
    "print(random.sample(range(100, 201), 5))"
   ]
  },
  {
   "cell_type": "code",
   "execution_count": 77,
   "metadata": {},
   "outputs": [],
   "source": [
    "# 78. Please write a program to randomly generate a list with 5 even numbers between 100\n",
    "# and 200 inclusive.\n",
    "# Hints: Use random.sample() to generate a list of random values."
   ]
  },
  {
   "cell_type": "code",
   "execution_count": 81,
   "metadata": {},
   "outputs": [
    {
     "name": "stdout",
     "output_type": "stream",
     "text": [
      "[112, 188, 150, 176, 126]\n"
     ]
    }
   ],
   "source": [
    "import random\n",
    "print(random.sample(range(100, 201, 2), 5))"
   ]
  },
  {
   "cell_type": "code",
   "execution_count": 82,
   "metadata": {},
   "outputs": [],
   "source": [
    "# 79. Please write a program to randomly generate a list with 5 numbers, which are divisible\n",
    "# by 5 and 7 , between 1 and 1000 inclusive.\n",
    "# Hints: Use random.sample() to generate a list of random values."
   ]
  },
  {
   "cell_type": "code",
   "execution_count": 83,
   "metadata": {},
   "outputs": [
    {
     "name": "stdout",
     "output_type": "stream",
     "text": [
      "[700, 910, 665, 420, 490]\n"
     ]
    }
   ],
   "source": [
    "import random\n",
    "print(random.sample([x for x in range(1, 1001) if x % 5 == 0 and x % 7 == 0], 5))"
   ]
  },
  {
   "cell_type": "code",
   "execution_count": 84,
   "metadata": {},
   "outputs": [],
   "source": [
    "# 80. Please write a program to randomly print a integer number between 7 and 15 inclusive.\n",
    "# Hints: Use random.randrange() to a random integer in a given range."
   ]
  },
  {
   "cell_type": "code",
   "execution_count": 139,
   "metadata": {},
   "outputs": [
    {
     "name": "stdout",
     "output_type": "stream",
     "text": [
      "15\n"
     ]
    }
   ],
   "source": [
    "import random\n",
    "print(random.randrange(7, 16))"
   ]
  },
  {
   "cell_type": "code",
   "execution_count": 140,
   "metadata": {},
   "outputs": [],
   "source": [
    "# 81. Please write a program to compress and decompress the string \"hello world!hello\n",
    "# world!hello world!hello world!\".\n",
    "# Hints: Use zlib.compress() and zlib.decompress() to compress and decompress a string."
   ]
  },
  {
   "cell_type": "code",
   "execution_count": 174,
   "metadata": {},
   "outputs": [
    {
     "name": "stdout",
     "output_type": "stream",
     "text": [
      "b'789ccb48cdc9c95728cf2fca4951cc20820d00bd5b11f5'\n"
     ]
    }
   ],
   "source": [
    "import zlib\n",
    "import binascii\n",
    "hello = 'hello world!hello world!hello world!hello world!'\n",
    "compressing = zlib.compress(hello.encode('utf-8'))\n",
    "compressed = binascii.hexlify(compressing)\n",
    "print(compressed)"
   ]
  },
  {
   "cell_type": "code",
   "execution_count": 175,
   "metadata": {},
   "outputs": [],
   "source": [
    "decompressing = binascii.unhexlify(compressed)\n",
    "decompressed = zlib.decompress(decompressing)"
   ]
  },
  {
   "cell_type": "code",
   "execution_count": 176,
   "metadata": {},
   "outputs": [
    {
     "name": "stdout",
     "output_type": "stream",
     "text": [
      "b'hello world!hello world!hello world!hello world!'\n"
     ]
    }
   ],
   "source": [
    "print(decompressed)"
   ]
  },
  {
   "cell_type": "code",
   "execution_count": 177,
   "metadata": {},
   "outputs": [],
   "source": [
    "# 82. Please write a program to print the running time of execution of \"1+1\" for 100 times.\n",
    "# Hints: Use timeit() function to measure the running time."
   ]
  },
  {
   "cell_type": "code",
   "execution_count": 201,
   "metadata": {},
   "outputs": [
    {
     "name": "stdout",
     "output_type": "stream",
     "text": [
      "2.4128599559990107\n"
     ]
    }
   ],
   "source": [
    "import timeit\n",
    "t = timeit.Timer('for i in range(100): 1+1')\n",
    "print(t.timeit())"
   ]
  },
  {
   "cell_type": "code",
   "execution_count": 202,
   "metadata": {},
   "outputs": [],
   "source": [
    "# 83. Please write a program to shuffle and print the list [3,6,7,8].\n",
    "# Hints: Use shuffle() function to shuffle a list."
   ]
  },
  {
   "cell_type": "code",
   "execution_count": 208,
   "metadata": {},
   "outputs": [
    {
     "name": "stdout",
     "output_type": "stream",
     "text": [
      "[7, 6, 8, 3]\n"
     ]
    }
   ],
   "source": [
    "import random\n",
    "lgh = [3, 6, 7, 8]\n",
    "random.shuffle(lgh)\n",
    "print(lgh)"
   ]
  },
  {
   "cell_type": "code",
   "execution_count": 209,
   "metadata": {},
   "outputs": [],
   "source": [
    "# 84. Please write a program to shuffle and print the list [3,6,7,8].\n",
    "# Hints: Use shuffle() function to shuffle a list."
   ]
  },
  {
   "cell_type": "code",
   "execution_count": 210,
   "metadata": {},
   "outputs": [],
   "source": [
    "# Same as above"
   ]
  },
  {
   "cell_type": "code",
   "execution_count": 211,
   "metadata": {},
   "outputs": [],
   "source": [
    "# 85. Please write a program to generate all sentences where subject is in [\"I\", \"You\"] and\n",
    "# verb is in [\"Play\", \"Love\"] and the object is in [\"Hockey\",\"Football\"].\n",
    "# Hints: Use list[index] notation to get a element from a list."
   ]
  },
  {
   "cell_type": "code",
   "execution_count": 212,
   "metadata": {},
   "outputs": [
    {
     "name": "stdout",
     "output_type": "stream",
     "text": [
      "I Play Hockey.\n",
      "I Play Football.\n",
      "I Love Hockey.\n",
      "I Love Football.\n",
      "You Play Hockey.\n",
      "You Play Football.\n",
      "You Love Hockey.\n",
      "You Love Football.\n"
     ]
    }
   ],
   "source": [
    "sub = ['I', 'You']\n",
    "verb = ['Play', 'Love']\n",
    "obj = ['Hockey', 'Football']\n",
    "\n",
    "for i in sub:\n",
    "    for j in verb:\n",
    "        for k in obj:\n",
    "            print(i + ' ' + j + ' ' + k + '.')"
   ]
  },
  {
   "cell_type": "code",
   "execution_count": 213,
   "metadata": {},
   "outputs": [],
   "source": [
    "# 86. Please write a program to print the list after removing delete even numbers in\n",
    "# [5,6,77,45,22,12,24].\n",
    "# Hints: Use list comprehension to delete a bunch of element from a list."
   ]
  },
  {
   "cell_type": "code",
   "execution_count": 214,
   "metadata": {},
   "outputs": [
    {
     "name": "stdout",
     "output_type": "stream",
     "text": [
      "[5, 77, 45]\n"
     ]
    }
   ],
   "source": [
    "already = [5, 6, 77, 45, 22, 12, 24]\n",
    "target = [x for x in already if x % 2 != 0]\n",
    "print(target)"
   ]
  },
  {
   "cell_type": "code",
   "execution_count": 215,
   "metadata": {},
   "outputs": [],
   "source": [
    "# 87. By using list comprehension, please write a program to print the list after removing\n",
    "# delete numbers which are divisible by 5 and 7 in [12,24,35,70,88,120,155].\n",
    "# Hints: Use list comprehension to delete a bunch of element from a list."
   ]
  },
  {
   "cell_type": "code",
   "execution_count": 216,
   "metadata": {},
   "outputs": [
    {
     "name": "stdout",
     "output_type": "stream",
     "text": [
      "[35, 70]\n"
     ]
    }
   ],
   "source": [
    "already1 = [12, 24, 35, 70, 88, 120, 155]\n",
    "target1 = [x for x in already1 if x % 5 == 0 and x % 7 == 0]\n",
    "print(target1)"
   ]
  },
  {
   "cell_type": "code",
   "execution_count": 217,
   "metadata": {},
   "outputs": [],
   "source": [
    "# 88. By using list comprehension, please write a program to print the list after removing the\n",
    "# 0th, 2nd, 4th,6th numbers in [12,24,35,70,88,120,155].\n",
    "# Hints: Use list comprehension to delete a bunch of element from a list. Use enumerate() to\n",
    "# get (index, value) tuple."
   ]
  },
  {
   "cell_type": "code",
   "execution_count": 220,
   "metadata": {},
   "outputs": [
    {
     "name": "stdout",
     "output_type": "stream",
     "text": [
      "[24, 70, 120]\n"
     ]
    }
   ],
   "source": [
    "already2 = [12, 24, 35, 70, 88, 120, 155]\n",
    "target2 = [already2[x] for x in range(1, len(already2), 2)]\n",
    "print(target2)"
   ]
  },
  {
   "cell_type": "code",
   "execution_count": 221,
   "metadata": {},
   "outputs": [],
   "source": [
    "# 89. By using list comprehension, please write a program generate a 3*5*8 3D array whose\n",
    "# each element is 0.\n",
    "# Hints: Use list comprehension to make an array."
   ]
  },
  {
   "cell_type": "code",
   "execution_count": 225,
   "metadata": {},
   "outputs": [
    {
     "name": "stdout",
     "output_type": "stream",
     "text": [
      "[[[0, 0, 0, 0, 0, 0, 0, 0], [0, 0, 0, 0, 0, 0, 0, 0], [0, 0, 0, 0, 0, 0, 0, 0], [0, 0, 0, 0, 0, 0, 0, 0], [0, 0, 0, 0, 0, 0, 0, 0]], [[0, 0, 0, 0, 0, 0, 0, 0], [0, 0, 0, 0, 0, 0, 0, 0], [0, 0, 0, 0, 0, 0, 0, 0], [0, 0, 0, 0, 0, 0, 0, 0], [0, 0, 0, 0, 0, 0, 0, 0]], [[0, 0, 0, 0, 0, 0, 0, 0], [0, 0, 0, 0, 0, 0, 0, 0], [0, 0, 0, 0, 0, 0, 0, 0], [0, 0, 0, 0, 0, 0, 0, 0], [0, 0, 0, 0, 0, 0, 0, 0]]]\n"
     ]
    }
   ],
   "source": [
    "fgh = [[[0 for x in range(8)] for x in range(5)] for x in range(3)]\n",
    "print(fgh)"
   ]
  },
  {
   "cell_type": "code",
   "execution_count": 227,
   "metadata": {},
   "outputs": [],
   "source": [
    "# 90. By using list comprehension, please write a program to print the list after removing the\n",
    "# 0th,4th,5th numbers in [12,24,35,70,88,120,155].\n",
    "# Hints: Use list comprehension to delete a bunch of element from a list. Use enumerate() to\n",
    "# get (index, value) tuple."
   ]
  },
  {
   "cell_type": "code",
   "execution_count": 228,
   "metadata": {},
   "outputs": [
    {
     "name": "stdout",
     "output_type": "stream",
     "text": [
      "[24, 35, 70, 155]\n"
     ]
    }
   ],
   "source": [
    "already3 = [12, 24, 35, 70, 88, 120, 155]\n",
    "target3 = [already3[x] for x in range(0, len(already3)) if x != 0 and x != 4 and x != 5]\n",
    "print(target3)"
   ]
  },
  {
   "cell_type": "code",
   "execution_count": 229,
   "metadata": {},
   "outputs": [],
   "source": [
    "# 91. By using list comprehension, please write a program to print the list after removing the\n",
    "# value 24 in [12,24,35,24,88,120,155].\n",
    "# Hints: Use list's remove method to delete a value."
   ]
  },
  {
   "cell_type": "code",
   "execution_count": 230,
   "metadata": {},
   "outputs": [
    {
     "name": "stdout",
     "output_type": "stream",
     "text": [
      "[12, 35, 70, 88, 120, 155]\n"
     ]
    }
   ],
   "source": [
    "already4 = [12, 24, 35, 70, 88, 120, 155]\n",
    "target4 = [x for x in already4 if x != 24]\n",
    "print(target4)"
   ]
  },
  {
   "cell_type": "code",
   "execution_count": 231,
   "metadata": {},
   "outputs": [],
   "source": [
    "# 92. With two given lists [1,3,6,78,35,55] and [12,24,35,24,88,120,155], write a program to\n",
    "# make a list whose elements are intersection of the above given lists.\n",
    "# Hints: Use set() and \"&=\" to do set intersection operation."
   ]
  },
  {
   "cell_type": "code",
   "execution_count": 234,
   "metadata": {},
   "outputs": [
    {
     "name": "stdout",
     "output_type": "stream",
     "text": [
      "[35]\n"
     ]
    }
   ],
   "source": [
    "inter1 = set([1, 3, 6, 78, 35, 55])\n",
    "inter2 = set([12, 24, 35, 24, 88, 120, 155])\n",
    "inter1 &= inter2\n",
    "print(list(inter1))"
   ]
  },
  {
   "cell_type": "code",
   "execution_count": 235,
   "metadata": {},
   "outputs": [],
   "source": [
    "# 93. With a given list [12, 24, 35, 24, 88, 120, 155, 88, 120, 155], write a program to print this\n",
    "# list after removing all duplicate values with original order reserved.\n",
    "# Hints: Use set() to store a number of values without duplicate"
   ]
  },
  {
   "cell_type": "code",
   "execution_count": 240,
   "metadata": {},
   "outputs": [
    {
     "name": "stdout",
     "output_type": "stream",
     "text": [
      "[12, 24, 35, 88, 120, 155]\n"
     ]
    }
   ],
   "source": [
    "given_li = [12, 24, 35, 24, 88, 120, 155, 88, 120, 155]\n",
    "set_lis = list(set(given_li))\n",
    "print(sorted(set_lis))"
   ]
  },
  {
   "cell_type": "code",
   "execution_count": 241,
   "metadata": {},
   "outputs": [],
   "source": [
    "# 94. Define a class Person and its two child classes: Male and Female. All classes have a\n",
    "# method \"getGender\" which can print \"Male\" for Male class and \"Female\" for Female class.\n",
    "# Hints: Use Subclass(Parentclass) to define a child class."
   ]
  },
  {
   "cell_type": "code",
   "execution_count": 255,
   "metadata": {},
   "outputs": [],
   "source": [
    "class Person:\n",
    "    def getGender(self):\n",
    "        return 'Person'\n",
    "class Male(Person):\n",
    "    def getGender(self):\n",
    "        return 'Male'\n",
    "        \n",
    "class Female(Person):\n",
    "    def getGender(self):\n",
    "        return 'Female'"
   ]
  },
  {
   "cell_type": "code",
   "execution_count": 253,
   "metadata": {},
   "outputs": [],
   "source": [
    "male = Male()"
   ]
  },
  {
   "cell_type": "code",
   "execution_count": 256,
   "metadata": {},
   "outputs": [],
   "source": [
    "female = Female()"
   ]
  },
  {
   "cell_type": "code",
   "execution_count": 258,
   "metadata": {},
   "outputs": [
    {
     "data": {
      "text/plain": [
       "'Male'"
      ]
     },
     "execution_count": 258,
     "metadata": {},
     "output_type": "execute_result"
    }
   ],
   "source": [
    "male.getGender()"
   ]
  },
  {
   "cell_type": "code",
   "execution_count": 257,
   "metadata": {},
   "outputs": [
    {
     "data": {
      "text/plain": [
       "'Female'"
      ]
     },
     "execution_count": 257,
     "metadata": {},
     "output_type": "execute_result"
    }
   ],
   "source": [
    "female.getGender()"
   ]
  },
  {
   "cell_type": "code",
   "execution_count": 259,
   "metadata": {},
   "outputs": [],
   "source": [
    "# 95. Please write a program which count and print the numbers of each character in a string\n",
    "# input by console.\n",
    "# If the following string is given as input to the program: abcdefgabc\n",
    "# Then, the output of the program should be:\n",
    "# a,2\n",
    "# c,2\n",
    "# b,2\n",
    "# e,1\n",
    "# d,1\n",
    "# g,1\n",
    "# f,1\n",
    "# Hints: Use dict to store key/value pairs. Use dict.get() method to lookup a key with default\n",
    "# value."
   ]
  },
  {
   "cell_type": "code",
   "execution_count": 11,
   "metadata": {},
   "outputs": [
    {
     "name": "stdout",
     "output_type": "stream",
     "text": [
      "abcdefgabc\n",
      "a,2\n",
      "b,2\n",
      "c,2\n",
      "d,1\n",
      "e,1\n",
      "f,1\n",
      "g,1\n"
     ]
    }
   ],
   "source": [
    "ip = input()\n",
    "lis = list(ip)\n",
    "dic = {}\n",
    "for i in lis:\n",
    "    dic.update({i: 0})\n",
    "\n",
    "for x in dic:\n",
    "    for y in lis:\n",
    "        if x == y:\n",
    "            dic[x] = dic[x] + 1\n",
    "            \n",
    "for c in dic:\n",
    "    print(f'{c},{dic[c]}')"
   ]
  },
  {
   "cell_type": "code",
   "execution_count": 12,
   "metadata": {},
   "outputs": [],
   "source": [
    "# 96 Please write a program which accepts a string from console and print it in reverse order.\n",
    "# If the following string is given as input to the program: rise to vote sir\n",
    "# Then, the output of the program should be: ris etov ot esir\n",
    "# Hints: Use list[::-1] to iterate a list in a reverse order."
   ]
  },
  {
   "cell_type": "code",
   "execution_count": 16,
   "metadata": {},
   "outputs": [
    {
     "name": "stdout",
     "output_type": "stream",
     "text": [
      "rise to vote sir\n",
      "ris etov ot esir\n"
     ]
    }
   ],
   "source": [
    "inp = input()\n",
    "lis_inp = list(inp)\n",
    "print(*lis_inp[::-1], sep='')"
   ]
  },
  {
   "cell_type": "code",
   "execution_count": 17,
   "metadata": {},
   "outputs": [],
   "source": [
    "# 97. Please write a program which accepts a string from console and print the characters\n",
    "# that have even indexes.\n",
    "# If the following string is given as input to the program: H1e2l3l4o5w6o7r8l9d\n",
    "# Then, the output of the program should be: Helloworld\n",
    "# Hints: Use list[::2] to iterate a list by step 2."
   ]
  },
  {
   "cell_type": "code",
   "execution_count": 18,
   "metadata": {},
   "outputs": [
    {
     "name": "stdout",
     "output_type": "stream",
     "text": [
      "H1e2l3l4o5w6o7r8l9d\n",
      "Helloworld\n"
     ]
    }
   ],
   "source": [
    "ipn = input()\n",
    "lis_ipn = list(ipn)\n",
    "print(*lis_ipn[::2], sep='')"
   ]
  },
  {
   "cell_type": "code",
   "execution_count": 19,
   "metadata": {},
   "outputs": [],
   "source": [
    "# 98. Please write a program which prints all permutations of [1, 2, 3]\n",
    "# Hints: Use itertools.permutations() to get permutations of list."
   ]
  },
  {
   "cell_type": "code",
   "execution_count": 21,
   "metadata": {},
   "outputs": [
    {
     "name": "stdout",
     "output_type": "stream",
     "text": [
      "(1, 2, 3) (1, 3, 2) (2, 1, 3) (2, 3, 1) (3, 1, 2) (3, 2, 1)\n"
     ]
    }
   ],
   "source": [
    "from itertools import permutations\n",
    "lsd = [1, 2, 3]\n",
    "print(*permutations(lsd))"
   ]
  },
  {
   "cell_type": "code",
   "execution_count": 22,
   "metadata": {},
   "outputs": [],
   "source": [
    "# 99. Write a program to solve a classic ancient Chinese puzzle:\n",
    "# We count 35 heads and 94 legs among the chickens and rabbits in a farm. How many rabbits\n",
    "# and how many chickens do we have?\n",
    "# Hint: Use for loop to iterate all possible solutions."
   ]
  },
  {
   "cell_type": "code",
   "execution_count": 8,
   "metadata": {},
   "outputs": [
    {
     "name": "stdout",
     "output_type": "stream",
     "text": [
      "Rabbits : 11 \n",
      "Chickens: 24\n"
     ]
    }
   ],
   "source": [
    "rabbits = 35 \n",
    "chickens = 0\n",
    "while True:\n",
    "    legs = rabbits * 4 + chickens * 2\n",
    "    if legs == 92:\n",
    "        print(f'Rabbits : {rabbits} \\nChickens: {chickens}')\n",
    "        break\n",
    "    else:\n",
    "        rabbits = rabbits - 1\n",
    "        chickens = chickens + 1\n",
    "else:\n",
    "    print('No Solution')"
   ]
  },
  {
   "cell_type": "code",
   "execution_count": 5,
   "metadata": {},
   "outputs": [],
   "source": [
    "# 100. Create a dictionary with phone numbers (phonebook = {“John”: 938477566, \"Jack”:\n",
    "# 938377264, \"Jill”: 947662781}). Add \"Jake\" to the phonebook with the phone number\n",
    "# 938273443, and remove Jill from the phonebook."
   ]
  },
  {
   "cell_type": "code",
   "execution_count": 9,
   "metadata": {},
   "outputs": [],
   "source": [
    "phonebook = {'John': 938477566,\n",
    "             'Jack': 938377264,\n",
    "             'Jill': 947662781}\n",
    "phonebook.update({'Jake': 938273443})"
   ]
  },
  {
   "cell_type": "code",
   "execution_count": 10,
   "metadata": {},
   "outputs": [
    {
     "data": {
      "text/plain": [
       "{'John': 938477566, 'Jack': 938377264, 'Jill': 947662781, 'Jake': 938273443}"
      ]
     },
     "execution_count": 10,
     "metadata": {},
     "output_type": "execute_result"
    }
   ],
   "source": [
    "phonebook"
   ]
  },
  {
   "cell_type": "code",
   "execution_count": 13,
   "metadata": {},
   "outputs": [
    {
     "data": {
      "text/plain": [
       "947662781"
      ]
     },
     "execution_count": 13,
     "metadata": {},
     "output_type": "execute_result"
    }
   ],
   "source": [
    "phonebook.pop('Jill')"
   ]
  },
  {
   "cell_type": "code",
   "execution_count": 14,
   "metadata": {},
   "outputs": [
    {
     "data": {
      "text/plain": [
       "{'John': 938477566, 'Jack': 938377264, 'Jake': 938273443}"
      ]
     },
     "execution_count": 14,
     "metadata": {},
     "output_type": "execute_result"
    }
   ],
   "source": [
    "phonebook"
   ]
  }
 ],
 "metadata": {
  "kernelspec": {
   "display_name": "Python 3",
   "language": "python",
   "name": "python3"
  },
  "language_info": {
   "codemirror_mode": {
    "name": "ipython",
    "version": 3
   },
   "file_extension": ".py",
   "mimetype": "text/x-python",
   "name": "python",
   "nbconvert_exporter": "python",
   "pygments_lexer": "ipython3",
   "version": "3.7.3"
  }
 },
 "nbformat": 4,
 "nbformat_minor": 2
}
