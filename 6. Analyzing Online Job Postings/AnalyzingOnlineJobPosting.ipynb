{
 "cells": [
  {
   "cell_type": "markdown",
   "metadata": {},
   "source": [
    "Additional Liberaries used:\n",
    "* Spacy (conda install -c conda-forge spacy)\n",
    "* Additonal English Package in Spacy (conda install -c conda-forge spacy-model-en_core_web_lg)\n",
    "* Gensim (conda install -c anaconda gensim)"
   ]
  },
  {
   "cell_type": "code",
   "execution_count": 1,
   "metadata": {},
   "outputs": [],
   "source": [
    "import pandas as pd\n",
    "import numpy as np\n",
    "import spacy\n",
    "import matplotlib.pyplot as plt\n",
    "%matplotlib inline"
   ]
  },
  {
   "cell_type": "code",
   "execution_count": 2,
   "metadata": {},
   "outputs": [],
   "source": [
    "nlp = spacy.load('en_core_web_lg')"
   ]
  },
  {
   "cell_type": "code",
   "execution_count": 3,
   "metadata": {},
   "outputs": [],
   "source": [
    "df = pd.read_csv('data job posts.csv')"
   ]
  },
  {
   "cell_type": "code",
   "execution_count": 4,
   "metadata": {},
   "outputs": [],
   "source": [
    "pd.set_option('max_columns', None)"
   ]
  },
  {
   "cell_type": "code",
   "execution_count": 5,
   "metadata": {
    "scrolled": true
   },
   "outputs": [
    {
     "data": {
      "text/html": [
       "<div>\n",
       "<style scoped>\n",
       "    .dataframe tbody tr th:only-of-type {\n",
       "        vertical-align: middle;\n",
       "    }\n",
       "\n",
       "    .dataframe tbody tr th {\n",
       "        vertical-align: top;\n",
       "    }\n",
       "\n",
       "    .dataframe thead th {\n",
       "        text-align: right;\n",
       "    }\n",
       "</style>\n",
       "<table border=\"1\" class=\"dataframe\">\n",
       "  <thead>\n",
       "    <tr style=\"text-align: right;\">\n",
       "      <th></th>\n",
       "      <th>jobpost</th>\n",
       "      <th>date</th>\n",
       "      <th>Title</th>\n",
       "      <th>Company</th>\n",
       "      <th>AnnouncementCode</th>\n",
       "      <th>Term</th>\n",
       "      <th>Eligibility</th>\n",
       "      <th>Audience</th>\n",
       "      <th>StartDate</th>\n",
       "      <th>Duration</th>\n",
       "      <th>Location</th>\n",
       "      <th>JobDescription</th>\n",
       "      <th>JobRequirment</th>\n",
       "      <th>RequiredQual</th>\n",
       "      <th>Salary</th>\n",
       "      <th>ApplicationP</th>\n",
       "      <th>OpeningDate</th>\n",
       "      <th>Deadline</th>\n",
       "      <th>Notes</th>\n",
       "      <th>AboutC</th>\n",
       "      <th>Attach</th>\n",
       "      <th>Year</th>\n",
       "      <th>Month</th>\n",
       "      <th>IT</th>\n",
       "    </tr>\n",
       "  </thead>\n",
       "  <tbody>\n",
       "    <tr>\n",
       "      <th>0</th>\n",
       "      <td>AMERIA Investment Consulting Company\\nJOB TITL...</td>\n",
       "      <td>Jan 5, 2004</td>\n",
       "      <td>Chief Financial Officer</td>\n",
       "      <td>AMERIA Investment Consulting Company</td>\n",
       "      <td>NaN</td>\n",
       "      <td>NaN</td>\n",
       "      <td>NaN</td>\n",
       "      <td>NaN</td>\n",
       "      <td>NaN</td>\n",
       "      <td>NaN</td>\n",
       "      <td>Yerevan, Armenia</td>\n",
       "      <td>AMERIA Investment Consulting Company is seekin...</td>\n",
       "      <td>- Supervises financial management and administ...</td>\n",
       "      <td>To perform this job successfully, an\\nindividu...</td>\n",
       "      <td>NaN</td>\n",
       "      <td>To apply for this position, please submit a\\nc...</td>\n",
       "      <td>NaN</td>\n",
       "      <td>26 January 2004</td>\n",
       "      <td>NaN</td>\n",
       "      <td>NaN</td>\n",
       "      <td>NaN</td>\n",
       "      <td>2004</td>\n",
       "      <td>1</td>\n",
       "      <td>False</td>\n",
       "    </tr>\n",
       "    <tr>\n",
       "      <th>1</th>\n",
       "      <td>International Research &amp; Exchanges Board (IREX...</td>\n",
       "      <td>Jan 7, 2004</td>\n",
       "      <td>Full-time Community Connections Intern (paid i...</td>\n",
       "      <td>International Research &amp; Exchanges Board (IREX)</td>\n",
       "      <td>NaN</td>\n",
       "      <td>NaN</td>\n",
       "      <td>NaN</td>\n",
       "      <td>NaN</td>\n",
       "      <td>NaN</td>\n",
       "      <td>3 months</td>\n",
       "      <td>IREX Armenia Main Office; Yerevan, Armenia \\nD...</td>\n",
       "      <td>NaN</td>\n",
       "      <td>NaN</td>\n",
       "      <td>- Bachelor's Degree; Master's is preferred;\\n-...</td>\n",
       "      <td>NaN</td>\n",
       "      <td>Please submit a cover letter and resume to:\\nI...</td>\n",
       "      <td>NaN</td>\n",
       "      <td>12 January 2004</td>\n",
       "      <td>NaN</td>\n",
       "      <td>The International Research &amp; Exchanges Board (...</td>\n",
       "      <td>NaN</td>\n",
       "      <td>2004</td>\n",
       "      <td>1</td>\n",
       "      <td>False</td>\n",
       "    </tr>\n",
       "    <tr>\n",
       "      <th>2</th>\n",
       "      <td>Caucasus Environmental NGO Network (CENN)\\nJOB...</td>\n",
       "      <td>Jan 7, 2004</td>\n",
       "      <td>Country Coordinator</td>\n",
       "      <td>Caucasus Environmental NGO Network (CENN)</td>\n",
       "      <td>NaN</td>\n",
       "      <td>NaN</td>\n",
       "      <td>NaN</td>\n",
       "      <td>NaN</td>\n",
       "      <td>NaN</td>\n",
       "      <td>Renewable annual contract\\nPOSITION</td>\n",
       "      <td>Yerevan, Armenia</td>\n",
       "      <td>Public outreach and strengthening of a growing...</td>\n",
       "      <td>- Working with the Country Director to provide...</td>\n",
       "      <td>- Degree in environmentally related field, or ...</td>\n",
       "      <td>NaN</td>\n",
       "      <td>Please send resume or CV toursula.kazarian@......</td>\n",
       "      <td>NaN</td>\n",
       "      <td>20 January 2004\\nSTART DATE:  February 2004</td>\n",
       "      <td>NaN</td>\n",
       "      <td>The Caucasus Environmental NGO Network is a\\nn...</td>\n",
       "      <td>NaN</td>\n",
       "      <td>2004</td>\n",
       "      <td>1</td>\n",
       "      <td>False</td>\n",
       "    </tr>\n",
       "    <tr>\n",
       "      <th>3</th>\n",
       "      <td>Manoff Group\\nJOB TITLE:  BCC Specialist\\nPOSI...</td>\n",
       "      <td>Jan 7, 2004</td>\n",
       "      <td>BCC Specialist</td>\n",
       "      <td>Manoff Group</td>\n",
       "      <td>NaN</td>\n",
       "      <td>NaN</td>\n",
       "      <td>NaN</td>\n",
       "      <td>NaN</td>\n",
       "      <td>NaN</td>\n",
       "      <td>NaN</td>\n",
       "      <td>Manila, Philippines</td>\n",
       "      <td>The LEAD (Local Enhancement and Development fo...</td>\n",
       "      <td>- Identify gaps in knowledge and overseeing in...</td>\n",
       "      <td>- Advanced degree in public health, social sci...</td>\n",
       "      <td>NaN</td>\n",
       "      <td>Please send cover letter and resume to Amy\\nPe...</td>\n",
       "      <td>NaN</td>\n",
       "      <td>23 January 2004\\nSTART DATE:  Immediate</td>\n",
       "      <td>NaN</td>\n",
       "      <td>NaN</td>\n",
       "      <td>NaN</td>\n",
       "      <td>2004</td>\n",
       "      <td>1</td>\n",
       "      <td>False</td>\n",
       "    </tr>\n",
       "    <tr>\n",
       "      <th>4</th>\n",
       "      <td>Yerevan Brandy Company\\nJOB TITLE:  Software D...</td>\n",
       "      <td>Jan 10, 2004</td>\n",
       "      <td>Software Developer</td>\n",
       "      <td>Yerevan Brandy Company</td>\n",
       "      <td>NaN</td>\n",
       "      <td>NaN</td>\n",
       "      <td>NaN</td>\n",
       "      <td>NaN</td>\n",
       "      <td>NaN</td>\n",
       "      <td>NaN</td>\n",
       "      <td>Yerevan, Armenia</td>\n",
       "      <td>NaN</td>\n",
       "      <td>- Rendering technical assistance to Database M...</td>\n",
       "      <td>- University degree; economical background is ...</td>\n",
       "      <td>NaN</td>\n",
       "      <td>Successful candidates should submit\\n- CV; \\n-...</td>\n",
       "      <td>NaN</td>\n",
       "      <td>20 January 2004, 18:00</td>\n",
       "      <td>NaN</td>\n",
       "      <td>NaN</td>\n",
       "      <td>NaN</td>\n",
       "      <td>2004</td>\n",
       "      <td>1</td>\n",
       "      <td>True</td>\n",
       "    </tr>\n",
       "  </tbody>\n",
       "</table>\n",
       "</div>"
      ],
      "text/plain": [
       "                                             jobpost          date  \\\n",
       "0  AMERIA Investment Consulting Company\\nJOB TITL...   Jan 5, 2004   \n",
       "1  International Research & Exchanges Board (IREX...   Jan 7, 2004   \n",
       "2  Caucasus Environmental NGO Network (CENN)\\nJOB...   Jan 7, 2004   \n",
       "3  Manoff Group\\nJOB TITLE:  BCC Specialist\\nPOSI...   Jan 7, 2004   \n",
       "4  Yerevan Brandy Company\\nJOB TITLE:  Software D...  Jan 10, 2004   \n",
       "\n",
       "                                               Title  \\\n",
       "0                            Chief Financial Officer   \n",
       "1  Full-time Community Connections Intern (paid i...   \n",
       "2                                Country Coordinator   \n",
       "3                                     BCC Specialist   \n",
       "4                                 Software Developer   \n",
       "\n",
       "                                           Company AnnouncementCode Term  \\\n",
       "0             AMERIA Investment Consulting Company              NaN  NaN   \n",
       "1  International Research & Exchanges Board (IREX)              NaN  NaN   \n",
       "2        Caucasus Environmental NGO Network (CENN)              NaN  NaN   \n",
       "3                                     Manoff Group              NaN  NaN   \n",
       "4                           Yerevan Brandy Company              NaN  NaN   \n",
       "\n",
       "  Eligibility Audience StartDate                             Duration  \\\n",
       "0         NaN      NaN       NaN                                  NaN   \n",
       "1         NaN      NaN       NaN                             3 months   \n",
       "2         NaN      NaN       NaN  Renewable annual contract\\nPOSITION   \n",
       "3         NaN      NaN       NaN                                  NaN   \n",
       "4         NaN      NaN       NaN                                  NaN   \n",
       "\n",
       "                                            Location  \\\n",
       "0                                   Yerevan, Armenia   \n",
       "1  IREX Armenia Main Office; Yerevan, Armenia \\nD...   \n",
       "2                                   Yerevan, Armenia   \n",
       "3                                Manila, Philippines   \n",
       "4                                   Yerevan, Armenia   \n",
       "\n",
       "                                      JobDescription  \\\n",
       "0  AMERIA Investment Consulting Company is seekin...   \n",
       "1                                                NaN   \n",
       "2  Public outreach and strengthening of a growing...   \n",
       "3  The LEAD (Local Enhancement and Development fo...   \n",
       "4                                                NaN   \n",
       "\n",
       "                                       JobRequirment  \\\n",
       "0  - Supervises financial management and administ...   \n",
       "1                                                NaN   \n",
       "2  - Working with the Country Director to provide...   \n",
       "3  - Identify gaps in knowledge and overseeing in...   \n",
       "4  - Rendering technical assistance to Database M...   \n",
       "\n",
       "                                        RequiredQual Salary  \\\n",
       "0  To perform this job successfully, an\\nindividu...    NaN   \n",
       "1  - Bachelor's Degree; Master's is preferred;\\n-...    NaN   \n",
       "2  - Degree in environmentally related field, or ...    NaN   \n",
       "3  - Advanced degree in public health, social sci...    NaN   \n",
       "4  - University degree; economical background is ...    NaN   \n",
       "\n",
       "                                        ApplicationP OpeningDate  \\\n",
       "0  To apply for this position, please submit a\\nc...         NaN   \n",
       "1  Please submit a cover letter and resume to:\\nI...         NaN   \n",
       "2  Please send resume or CV toursula.kazarian@......         NaN   \n",
       "3  Please send cover letter and resume to Amy\\nPe...         NaN   \n",
       "4  Successful candidates should submit\\n- CV; \\n-...         NaN   \n",
       "\n",
       "                                      Deadline Notes  \\\n",
       "0                              26 January 2004   NaN   \n",
       "1                              12 January 2004   NaN   \n",
       "2  20 January 2004\\nSTART DATE:  February 2004   NaN   \n",
       "3      23 January 2004\\nSTART DATE:  Immediate   NaN   \n",
       "4                       20 January 2004, 18:00   NaN   \n",
       "\n",
       "                                              AboutC Attach  Year  Month  \\\n",
       "0                                                NaN    NaN  2004      1   \n",
       "1  The International Research & Exchanges Board (...    NaN  2004      1   \n",
       "2  The Caucasus Environmental NGO Network is a\\nn...    NaN  2004      1   \n",
       "3                                                NaN    NaN  2004      1   \n",
       "4                                                NaN    NaN  2004      1   \n",
       "\n",
       "      IT  \n",
       "0  False  \n",
       "1  False  \n",
       "2  False  \n",
       "3  False  \n",
       "4   True  "
      ]
     },
     "execution_count": 5,
     "metadata": {},
     "output_type": "execute_result"
    }
   ],
   "source": [
    "df.head()"
   ]
  },
  {
   "cell_type": "code",
   "execution_count": 6,
   "metadata": {},
   "outputs": [
    {
     "name": "stdout",
     "output_type": "stream",
     "text": [
      "<class 'pandas.core.frame.DataFrame'>\n",
      "RangeIndex: 19001 entries, 0 to 19000\n",
      "Data columns (total 24 columns):\n",
      " #   Column            Non-Null Count  Dtype \n",
      "---  ------            --------------  ----- \n",
      " 0   jobpost           19001 non-null  object\n",
      " 1   date              19001 non-null  object\n",
      " 2   Title             18973 non-null  object\n",
      " 3   Company           18994 non-null  object\n",
      " 4   AnnouncementCode  1208 non-null   object\n",
      " 5   Term              7676 non-null   object\n",
      " 6   Eligibility       4930 non-null   object\n",
      " 7   Audience          640 non-null    object\n",
      " 8   StartDate         9675 non-null   object\n",
      " 9   Duration          10798 non-null  object\n",
      " 10  Location          18969 non-null  object\n",
      " 11  JobDescription    15109 non-null  object\n",
      " 12  JobRequirment     16479 non-null  object\n",
      " 13  RequiredQual      18517 non-null  object\n",
      " 14  Salary            9622 non-null   object\n",
      " 15  ApplicationP      18941 non-null  object\n",
      " 16  OpeningDate       18295 non-null  object\n",
      " 17  Deadline          18936 non-null  object\n",
      " 18  Notes             2211 non-null   object\n",
      " 19  AboutC            12470 non-null  object\n",
      " 20  Attach            1559 non-null   object\n",
      " 21  Year              19001 non-null  int64 \n",
      " 22  Month             19001 non-null  int64 \n",
      " 23  IT                19001 non-null  bool  \n",
      "dtypes: bool(1), int64(2), object(21)\n",
      "memory usage: 3.4+ MB\n"
     ]
    }
   ],
   "source": [
    "df.info()"
   ]
  },
  {
   "cell_type": "code",
   "execution_count": 7,
   "metadata": {},
   "outputs": [
    {
     "name": "stdout",
     "output_type": "stream",
     "text": [
      "nan\n"
     ]
    }
   ],
   "source": [
    "print(df['AboutC'][0])"
   ]
  },
  {
   "cell_type": "code",
   "execution_count": 8,
   "metadata": {},
   "outputs": [
    {
     "data": {
      "text/html": [
       "<div>\n",
       "<style scoped>\n",
       "    .dataframe tbody tr th:only-of-type {\n",
       "        vertical-align: middle;\n",
       "    }\n",
       "\n",
       "    .dataframe tbody tr th {\n",
       "        vertical-align: top;\n",
       "    }\n",
       "\n",
       "    .dataframe thead th {\n",
       "        text-align: right;\n",
       "    }\n",
       "</style>\n",
       "<table border=\"1\" class=\"dataframe\">\n",
       "  <thead>\n",
       "    <tr style=\"text-align: right;\">\n",
       "      <th></th>\n",
       "      <th>date</th>\n",
       "      <th>OpeningDate</th>\n",
       "    </tr>\n",
       "  </thead>\n",
       "  <tbody>\n",
       "    <tr>\n",
       "      <th>0</th>\n",
       "      <td>Jan 5, 2004</td>\n",
       "      <td>NaN</td>\n",
       "    </tr>\n",
       "    <tr>\n",
       "      <th>1</th>\n",
       "      <td>Jan 7, 2004</td>\n",
       "      <td>NaN</td>\n",
       "    </tr>\n",
       "    <tr>\n",
       "      <th>2</th>\n",
       "      <td>Jan 7, 2004</td>\n",
       "      <td>NaN</td>\n",
       "    </tr>\n",
       "    <tr>\n",
       "      <th>3</th>\n",
       "      <td>Jan 7, 2004</td>\n",
       "      <td>NaN</td>\n",
       "    </tr>\n",
       "    <tr>\n",
       "      <th>4</th>\n",
       "      <td>Jan 10, 2004</td>\n",
       "      <td>NaN</td>\n",
       "    </tr>\n",
       "    <tr>\n",
       "      <th>...</th>\n",
       "      <td>...</td>\n",
       "      <td>...</td>\n",
       "    </tr>\n",
       "    <tr>\n",
       "      <th>18996</th>\n",
       "      <td>Dec 28, 2015</td>\n",
       "      <td>29 December 2015</td>\n",
       "    </tr>\n",
       "    <tr>\n",
       "      <th>18997</th>\n",
       "      <td>Dec 30, 2015</td>\n",
       "      <td>30 December 2015</td>\n",
       "    </tr>\n",
       "    <tr>\n",
       "      <th>18998</th>\n",
       "      <td>Dec 30, 2015</td>\n",
       "      <td>30 December 2015</td>\n",
       "    </tr>\n",
       "    <tr>\n",
       "      <th>18999</th>\n",
       "      <td>Dec 30, 2015</td>\n",
       "      <td>30 December 2015</td>\n",
       "    </tr>\n",
       "    <tr>\n",
       "      <th>19000</th>\n",
       "      <td>Dec 30, 2015</td>\n",
       "      <td>30 December 2015</td>\n",
       "    </tr>\n",
       "  </tbody>\n",
       "</table>\n",
       "<p>19001 rows × 2 columns</p>\n",
       "</div>"
      ],
      "text/plain": [
       "               date       OpeningDate\n",
       "0       Jan 5, 2004               NaN\n",
       "1       Jan 7, 2004               NaN\n",
       "2       Jan 7, 2004               NaN\n",
       "3       Jan 7, 2004               NaN\n",
       "4      Jan 10, 2004               NaN\n",
       "...             ...               ...\n",
       "18996  Dec 28, 2015  29 December 2015\n",
       "18997  Dec 30, 2015  30 December 2015\n",
       "18998  Dec 30, 2015  30 December 2015\n",
       "18999  Dec 30, 2015  30 December 2015\n",
       "19000  Dec 30, 2015  30 December 2015\n",
       "\n",
       "[19001 rows x 2 columns]"
      ]
     },
     "execution_count": 8,
     "metadata": {},
     "output_type": "execute_result"
    }
   ],
   "source": [
    "df[['date', 'OpeningDate']]"
   ]
  },
  {
   "cell_type": "markdown",
   "metadata": {},
   "source": [
    "## Job Postings by Year"
   ]
  },
  {
   "cell_type": "code",
   "execution_count": 9,
   "metadata": {
    "scrolled": false
   },
   "outputs": [
    {
     "data": {
      "text/plain": [
       "Text(0.5, 0, 'Year')"
      ]
     },
     "execution_count": 9,
     "metadata": {},
     "output_type": "execute_result"
    },
    {
     "data": {
      "image/png": "[encoded data removed]",
      "text/plain": [
       "<Figure size 1080x432 with 1 Axes>"
      ]
     },
     "metadata": {
      "needs_background": "light"
     },
     "output_type": "display_data"
    }
   ],
   "source": [
    "plt.figure(figsize=(15, 6))\n",
    "plt.plot(df.groupby('Year')['jobpost'].count(), marker='o')\n",
    "plt.xlabel('Year')"
   ]
  },
  {
   "cell_type": "markdown",
   "metadata": {},
   "source": [
    "## Job postings by Month"
   ]
  },
  {
   "cell_type": "code",
   "execution_count": 10,
   "metadata": {},
   "outputs": [
    {
     "data": {
      "text/plain": [
       "Text(0.5, 0, 'Month')"
      ]
     },
     "execution_count": 10,
     "metadata": {},
     "output_type": "execute_result"
    },
    {
     "data": {
      "image/png": "[encoded data removed]",
      "text/plain": [
       "<Figure size 1080x432 with 1 Axes>"
      ]
     },
     "metadata": {
      "needs_background": "light"
     },
     "output_type": "display_data"
    }
   ],
   "source": [
    "plt.figure(figsize=(15, 6))\n",
    "plt.plot(df.groupby('Month')['jobpost'].count(), marker='o')\n",
    "plt.xlabel('Month')"
   ]
  },
  {
   "cell_type": "markdown",
   "metadata": {},
   "source": [
    "## Top 20 companies posting Jobs"
   ]
  },
  {
   "cell_type": "code",
   "execution_count": 11,
   "metadata": {},
   "outputs": [
    {
     "data": {
      "text/html": [
       "<div>\n",
       "<style scoped>\n",
       "    .dataframe tbody tr th:only-of-type {\n",
       "        vertical-align: middle;\n",
       "    }\n",
       "\n",
       "    .dataframe tbody tr th {\n",
       "        vertical-align: top;\n",
       "    }\n",
       "\n",
       "    .dataframe thead th {\n",
       "        text-align: right;\n",
       "    }\n",
       "</style>\n",
       "<table border=\"1\" class=\"dataframe\">\n",
       "  <thead>\n",
       "    <tr style=\"text-align: right;\">\n",
       "      <th></th>\n",
       "      <th>Company</th>\n",
       "    </tr>\n",
       "  </thead>\n",
       "  <tbody>\n",
       "    <tr>\n",
       "      <th>ArmenTel CJSC</th>\n",
       "      <td>353</td>\n",
       "    </tr>\n",
       "    <tr>\n",
       "      <th>World Vision Armenia</th>\n",
       "      <td>239</td>\n",
       "    </tr>\n",
       "    <tr>\n",
       "      <th>Mentor Graphics Development Services CJSC</th>\n",
       "      <td>236</td>\n",
       "    </tr>\n",
       "    <tr>\n",
       "      <th>Career Center NGO</th>\n",
       "      <td>229</td>\n",
       "    </tr>\n",
       "    <tr>\n",
       "      <th>Orange Armenia</th>\n",
       "      <td>203</td>\n",
       "    </tr>\n",
       "    <tr>\n",
       "      <th>Ameriabank CJSC</th>\n",
       "      <td>196</td>\n",
       "    </tr>\n",
       "    <tr>\n",
       "      <th>Converse Bank CJSC</th>\n",
       "      <td>161</td>\n",
       "    </tr>\n",
       "    <tr>\n",
       "      <th>SAS Group LLC</th>\n",
       "      <td>150</td>\n",
       "    </tr>\n",
       "    <tr>\n",
       "      <th>UNDP Armenia Office</th>\n",
       "      <td>132</td>\n",
       "    </tr>\n",
       "    <tr>\n",
       "      <th>Central Bank of Armenia</th>\n",
       "      <td>126</td>\n",
       "    </tr>\n",
       "    <tr>\n",
       "      <th>Energize Global Services CJSC</th>\n",
       "      <td>126</td>\n",
       "    </tr>\n",
       "    <tr>\n",
       "      <th>OSCE Office in Yerevan</th>\n",
       "      <td>125</td>\n",
       "    </tr>\n",
       "    <tr>\n",
       "      <th>HSBC Bank Armenia CJSC</th>\n",
       "      <td>117</td>\n",
       "    </tr>\n",
       "    <tr>\n",
       "      <th>Inecobank CJSC</th>\n",
       "      <td>113</td>\n",
       "    </tr>\n",
       "    <tr>\n",
       "      <th>VTB Bank (Armenia) CJSC</th>\n",
       "      <td>113</td>\n",
       "    </tr>\n",
       "    <tr>\n",
       "      <th>Synopsys Armenia</th>\n",
       "      <td>112</td>\n",
       "    </tr>\n",
       "    <tr>\n",
       "      <th>Ardshininvestbank CJSC</th>\n",
       "      <td>108</td>\n",
       "    </tr>\n",
       "    <tr>\n",
       "      <th>\"Coca-Cola Hellenic Bottling Company Armenia\" CJSC</th>\n",
       "      <td>105</td>\n",
       "    </tr>\n",
       "    <tr>\n",
       "      <th>Lycos Europe</th>\n",
       "      <td>103</td>\n",
       "    </tr>\n",
       "    <tr>\n",
       "      <th>Boomerang Software LLC</th>\n",
       "      <td>84</td>\n",
       "    </tr>\n",
       "  </tbody>\n",
       "</table>\n",
       "</div>"
      ],
      "text/plain": [
       "                                                    Company\n",
       "ArmenTel CJSC                                           353\n",
       "World Vision Armenia                                    239\n",
       "Mentor Graphics Development Services CJSC               236\n",
       "Career Center NGO                                       229\n",
       "Orange Armenia                                          203\n",
       "Ameriabank CJSC                                         196\n",
       "Converse Bank CJSC                                      161\n",
       "SAS Group LLC                                           150\n",
       "UNDP Armenia Office                                     132\n",
       "Central Bank of Armenia                                 126\n",
       "Energize Global Services CJSC                           126\n",
       "OSCE Office in Yerevan                                  125\n",
       "HSBC Bank Armenia CJSC                                  117\n",
       "Inecobank CJSC                                          113\n",
       "VTB Bank (Armenia) CJSC                                 113\n",
       "Synopsys Armenia                                        112\n",
       "Ardshininvestbank CJSC                                  108\n",
       "\"Coca-Cola Hellenic Bottling Company Armenia\" CJSC      105\n",
       "Lycos Europe                                            103\n",
       "Boomerang Software LLC                                   84"
      ]
     },
     "execution_count": 11,
     "metadata": {},
     "output_type": "execute_result"
    }
   ],
   "source": [
    "pd.DataFrame(df['Company'].value_counts()).head(20)"
   ]
  },
  {
   "cell_type": "markdown",
   "metadata": {},
   "source": [
    "## Length of Job Post for Each Entry"
   ]
  },
  {
   "cell_type": "code",
   "execution_count": 12,
   "metadata": {},
   "outputs": [
    {
     "data": {
      "text/plain": [
       "[<matplotlib.lines.Line2D at 0x1f8e10526a0>]"
      ]
     },
     "execution_count": 12,
     "metadata": {},
     "output_type": "execute_result"
    },
    {
     "data": {
      "image/png": "[encoded data removed]",
      "text/plain": [
       "<Figure size 1440x432 with 1 Axes>"
      ]
     },
     "metadata": {
      "needs_background": "light"
     },
     "output_type": "display_data"
    }
   ],
   "source": [
    "plt.figure(figsize=(20, 6))\n",
    "plt.plot(df['jobpost'].str.len())"
   ]
  },
  {
   "cell_type": "markdown",
   "metadata": {},
   "source": [
    "## Data Quality"
   ]
  },
  {
   "cell_type": "markdown",
   "metadata": {},
   "source": [
    "### Duplicate Posts"
   ]
  },
  {
   "cell_type": "code",
   "execution_count": 13,
   "metadata": {},
   "outputs": [
    {
     "data": {
      "text/plain": [
       "109"
      ]
     },
     "execution_count": 13,
     "metadata": {},
     "output_type": "execute_result"
    }
   ],
   "source": [
    "len(df[df.duplicated(['jobpost', 'Title'])])"
   ]
  },
  {
   "cell_type": "code",
   "execution_count": 14,
   "metadata": {},
   "outputs": [],
   "source": [
    "df.drop_duplicates(['jobpost', 'Title'], inplace=True)"
   ]
  },
  {
   "cell_type": "code",
   "execution_count": 15,
   "metadata": {},
   "outputs": [
    {
     "data": {
      "text/plain": [
       "0"
      ]
     },
     "execution_count": 15,
     "metadata": {},
     "output_type": "execute_result"
    }
   ],
   "source": [
    "len(df[df.duplicated(['jobpost', 'Title'])])"
   ]
  },
  {
   "cell_type": "code",
   "execution_count": 16,
   "metadata": {},
   "outputs": [
    {
     "data": {
      "text/html": [
       "<div>\n",
       "<style scoped>\n",
       "    .dataframe tbody tr th:only-of-type {\n",
       "        vertical-align: middle;\n",
       "    }\n",
       "\n",
       "    .dataframe tbody tr th {\n",
       "        vertical-align: top;\n",
       "    }\n",
       "\n",
       "    .dataframe thead th {\n",
       "        text-align: right;\n",
       "    }\n",
       "</style>\n",
       "<table border=\"1\" class=\"dataframe\">\n",
       "  <thead>\n",
       "    <tr style=\"text-align: right;\">\n",
       "      <th></th>\n",
       "      <th>jobpost</th>\n",
       "      <th>date</th>\n",
       "      <th>Title</th>\n",
       "      <th>Company</th>\n",
       "      <th>AnnouncementCode</th>\n",
       "      <th>Term</th>\n",
       "      <th>Eligibility</th>\n",
       "      <th>Audience</th>\n",
       "      <th>StartDate</th>\n",
       "      <th>Duration</th>\n",
       "      <th>Location</th>\n",
       "      <th>JobDescription</th>\n",
       "      <th>JobRequirment</th>\n",
       "      <th>RequiredQual</th>\n",
       "      <th>Salary</th>\n",
       "      <th>ApplicationP</th>\n",
       "      <th>OpeningDate</th>\n",
       "      <th>Deadline</th>\n",
       "      <th>Notes</th>\n",
       "      <th>AboutC</th>\n",
       "      <th>Attach</th>\n",
       "      <th>Year</th>\n",
       "      <th>Month</th>\n",
       "      <th>IT</th>\n",
       "    </tr>\n",
       "  </thead>\n",
       "  <tbody>\n",
       "    <tr>\n",
       "      <th>0</th>\n",
       "      <td>AMERIA Investment Consulting Company\\nJOB TITL...</td>\n",
       "      <td>Jan 5, 2004</td>\n",
       "      <td>Chief Financial Officer</td>\n",
       "      <td>AMERIA Investment Consulting Company</td>\n",
       "      <td>NaN</td>\n",
       "      <td>NaN</td>\n",
       "      <td>NaN</td>\n",
       "      <td>NaN</td>\n",
       "      <td>NaN</td>\n",
       "      <td>NaN</td>\n",
       "      <td>Yerevan, Armenia</td>\n",
       "      <td>AMERIA Investment Consulting Company is seekin...</td>\n",
       "      <td>- Supervises financial management and administ...</td>\n",
       "      <td>To perform this job successfully, an\\nindividu...</td>\n",
       "      <td>NaN</td>\n",
       "      <td>To apply for this position, please submit a\\nc...</td>\n",
       "      <td>NaN</td>\n",
       "      <td>26 January 2004</td>\n",
       "      <td>NaN</td>\n",
       "      <td>NaN</td>\n",
       "      <td>NaN</td>\n",
       "      <td>2004</td>\n",
       "      <td>1</td>\n",
       "      <td>False</td>\n",
       "    </tr>\n",
       "    <tr>\n",
       "      <th>1</th>\n",
       "      <td>International Research &amp; Exchanges Board (IREX...</td>\n",
       "      <td>Jan 7, 2004</td>\n",
       "      <td>Full-time Community Connections Intern (paid i...</td>\n",
       "      <td>International Research &amp; Exchanges Board (IREX)</td>\n",
       "      <td>NaN</td>\n",
       "      <td>NaN</td>\n",
       "      <td>NaN</td>\n",
       "      <td>NaN</td>\n",
       "      <td>NaN</td>\n",
       "      <td>3 months</td>\n",
       "      <td>IREX Armenia Main Office; Yerevan, Armenia \\nD...</td>\n",
       "      <td>NaN</td>\n",
       "      <td>NaN</td>\n",
       "      <td>- Bachelor's Degree; Master's is preferred;\\n-...</td>\n",
       "      <td>NaN</td>\n",
       "      <td>Please submit a cover letter and resume to:\\nI...</td>\n",
       "      <td>NaN</td>\n",
       "      <td>12 January 2004</td>\n",
       "      <td>NaN</td>\n",
       "      <td>The International Research &amp; Exchanges Board (...</td>\n",
       "      <td>NaN</td>\n",
       "      <td>2004</td>\n",
       "      <td>1</td>\n",
       "      <td>False</td>\n",
       "    </tr>\n",
       "    <tr>\n",
       "      <th>2</th>\n",
       "      <td>Caucasus Environmental NGO Network (CENN)\\nJOB...</td>\n",
       "      <td>Jan 7, 2004</td>\n",
       "      <td>Country Coordinator</td>\n",
       "      <td>Caucasus Environmental NGO Network (CENN)</td>\n",
       "      <td>NaN</td>\n",
       "      <td>NaN</td>\n",
       "      <td>NaN</td>\n",
       "      <td>NaN</td>\n",
       "      <td>NaN</td>\n",
       "      <td>Renewable annual contract\\nPOSITION</td>\n",
       "      <td>Yerevan, Armenia</td>\n",
       "      <td>Public outreach and strengthening of a growing...</td>\n",
       "      <td>- Working with the Country Director to provide...</td>\n",
       "      <td>- Degree in environmentally related field, or ...</td>\n",
       "      <td>NaN</td>\n",
       "      <td>Please send resume or CV toursula.kazarian@......</td>\n",
       "      <td>NaN</td>\n",
       "      <td>20 January 2004\\nSTART DATE:  February 2004</td>\n",
       "      <td>NaN</td>\n",
       "      <td>The Caucasus Environmental NGO Network is a\\nn...</td>\n",
       "      <td>NaN</td>\n",
       "      <td>2004</td>\n",
       "      <td>1</td>\n",
       "      <td>False</td>\n",
       "    </tr>\n",
       "    <tr>\n",
       "      <th>3</th>\n",
       "      <td>Manoff Group\\nJOB TITLE:  BCC Specialist\\nPOSI...</td>\n",
       "      <td>Jan 7, 2004</td>\n",
       "      <td>BCC Specialist</td>\n",
       "      <td>Manoff Group</td>\n",
       "      <td>NaN</td>\n",
       "      <td>NaN</td>\n",
       "      <td>NaN</td>\n",
       "      <td>NaN</td>\n",
       "      <td>NaN</td>\n",
       "      <td>NaN</td>\n",
       "      <td>Manila, Philippines</td>\n",
       "      <td>The LEAD (Local Enhancement and Development fo...</td>\n",
       "      <td>- Identify gaps in knowledge and overseeing in...</td>\n",
       "      <td>- Advanced degree in public health, social sci...</td>\n",
       "      <td>NaN</td>\n",
       "      <td>Please send cover letter and resume to Amy\\nPe...</td>\n",
       "      <td>NaN</td>\n",
       "      <td>23 January 2004\\nSTART DATE:  Immediate</td>\n",
       "      <td>NaN</td>\n",
       "      <td>NaN</td>\n",
       "      <td>NaN</td>\n",
       "      <td>2004</td>\n",
       "      <td>1</td>\n",
       "      <td>False</td>\n",
       "    </tr>\n",
       "    <tr>\n",
       "      <th>4</th>\n",
       "      <td>Yerevan Brandy Company\\nJOB TITLE:  Software D...</td>\n",
       "      <td>Jan 10, 2004</td>\n",
       "      <td>Software Developer</td>\n",
       "      <td>Yerevan Brandy Company</td>\n",
       "      <td>NaN</td>\n",
       "      <td>NaN</td>\n",
       "      <td>NaN</td>\n",
       "      <td>NaN</td>\n",
       "      <td>NaN</td>\n",
       "      <td>NaN</td>\n",
       "      <td>Yerevan, Armenia</td>\n",
       "      <td>NaN</td>\n",
       "      <td>- Rendering technical assistance to Database M...</td>\n",
       "      <td>- University degree; economical background is ...</td>\n",
       "      <td>NaN</td>\n",
       "      <td>Successful candidates should submit\\n- CV; \\n-...</td>\n",
       "      <td>NaN</td>\n",
       "      <td>20 January 2004, 18:00</td>\n",
       "      <td>NaN</td>\n",
       "      <td>NaN</td>\n",
       "      <td>NaN</td>\n",
       "      <td>2004</td>\n",
       "      <td>1</td>\n",
       "      <td>True</td>\n",
       "    </tr>\n",
       "  </tbody>\n",
       "</table>\n",
       "</div>"
      ],
      "text/plain": [
       "                                             jobpost          date  \\\n",
       "0  AMERIA Investment Consulting Company\\nJOB TITL...   Jan 5, 2004   \n",
       "1  International Research & Exchanges Board (IREX...   Jan 7, 2004   \n",
       "2  Caucasus Environmental NGO Network (CENN)\\nJOB...   Jan 7, 2004   \n",
       "3  Manoff Group\\nJOB TITLE:  BCC Specialist\\nPOSI...   Jan 7, 2004   \n",
       "4  Yerevan Brandy Company\\nJOB TITLE:  Software D...  Jan 10, 2004   \n",
       "\n",
       "                                               Title  \\\n",
       "0                            Chief Financial Officer   \n",
       "1  Full-time Community Connections Intern (paid i...   \n",
       "2                                Country Coordinator   \n",
       "3                                     BCC Specialist   \n",
       "4                                 Software Developer   \n",
       "\n",
       "                                           Company AnnouncementCode Term  \\\n",
       "0             AMERIA Investment Consulting Company              NaN  NaN   \n",
       "1  International Research & Exchanges Board (IREX)              NaN  NaN   \n",
       "2        Caucasus Environmental NGO Network (CENN)              NaN  NaN   \n",
       "3                                     Manoff Group              NaN  NaN   \n",
       "4                           Yerevan Brandy Company              NaN  NaN   \n",
       "\n",
       "  Eligibility Audience StartDate                             Duration  \\\n",
       "0         NaN      NaN       NaN                                  NaN   \n",
       "1         NaN      NaN       NaN                             3 months   \n",
       "2         NaN      NaN       NaN  Renewable annual contract\\nPOSITION   \n",
       "3         NaN      NaN       NaN                                  NaN   \n",
       "4         NaN      NaN       NaN                                  NaN   \n",
       "\n",
       "                                            Location  \\\n",
       "0                                   Yerevan, Armenia   \n",
       "1  IREX Armenia Main Office; Yerevan, Armenia \\nD...   \n",
       "2                                   Yerevan, Armenia   \n",
       "3                                Manila, Philippines   \n",
       "4                                   Yerevan, Armenia   \n",
       "\n",
       "                                      JobDescription  \\\n",
       "0  AMERIA Investment Consulting Company is seekin...   \n",
       "1                                                NaN   \n",
       "2  Public outreach and strengthening of a growing...   \n",
       "3  The LEAD (Local Enhancement and Development fo...   \n",
       "4                                                NaN   \n",
       "\n",
       "                                       JobRequirment  \\\n",
       "0  - Supervises financial management and administ...   \n",
       "1                                                NaN   \n",
       "2  - Working with the Country Director to provide...   \n",
       "3  - Identify gaps in knowledge and overseeing in...   \n",
       "4  - Rendering technical assistance to Database M...   \n",
       "\n",
       "                                        RequiredQual Salary  \\\n",
       "0  To perform this job successfully, an\\nindividu...    NaN   \n",
       "1  - Bachelor's Degree; Master's is preferred;\\n-...    NaN   \n",
       "2  - Degree in environmentally related field, or ...    NaN   \n",
       "3  - Advanced degree in public health, social sci...    NaN   \n",
       "4  - University degree; economical background is ...    NaN   \n",
       "\n",
       "                                        ApplicationP OpeningDate  \\\n",
       "0  To apply for this position, please submit a\\nc...         NaN   \n",
       "1  Please submit a cover letter and resume to:\\nI...         NaN   \n",
       "2  Please send resume or CV toursula.kazarian@......         NaN   \n",
       "3  Please send cover letter and resume to Amy\\nPe...         NaN   \n",
       "4  Successful candidates should submit\\n- CV; \\n-...         NaN   \n",
       "\n",
       "                                      Deadline Notes  \\\n",
       "0                              26 January 2004   NaN   \n",
       "1                              12 January 2004   NaN   \n",
       "2  20 January 2004\\nSTART DATE:  February 2004   NaN   \n",
       "3      23 January 2004\\nSTART DATE:  Immediate   NaN   \n",
       "4                       20 January 2004, 18:00   NaN   \n",
       "\n",
       "                                              AboutC Attach  Year  Month  \\\n",
       "0                                                NaN    NaN  2004      1   \n",
       "1  The International Research & Exchanges Board (...    NaN  2004      1   \n",
       "2  The Caucasus Environmental NGO Network is a\\nn...    NaN  2004      1   \n",
       "3                                                NaN    NaN  2004      1   \n",
       "4                                                NaN    NaN  2004      1   \n",
       "\n",
       "      IT  \n",
       "0  False  \n",
       "1  False  \n",
       "2  False  \n",
       "3  False  \n",
       "4   True  "
      ]
     },
     "execution_count": 16,
     "metadata": {},
     "output_type": "execute_result"
    }
   ],
   "source": [
    "df.head()"
   ]
  },
  {
   "cell_type": "code",
   "execution_count": 17,
   "metadata": {},
   "outputs": [
    {
     "data": {
      "text/plain": [
       "(18892, 24)"
      ]
     },
     "execution_count": 17,
     "metadata": {},
     "output_type": "execute_result"
    }
   ],
   "source": [
    "df.shape"
   ]
  },
  {
   "cell_type": "markdown",
   "metadata": {},
   "source": [
    "## Data Pre-Processing"
   ]
  },
  {
   "cell_type": "markdown",
   "metadata": {},
   "source": [
    "### Removing Newlines and Single Quotes"
   ]
  },
  {
   "cell_type": "code",
   "execution_count": 18,
   "metadata": {},
   "outputs": [],
   "source": [
    "df['jobpost'] = df['jobpost'].apply(lambda x: x.replace('\\n', ' '))"
   ]
  },
  {
   "cell_type": "code",
   "execution_count": 19,
   "metadata": {},
   "outputs": [],
   "source": [
    "df['jobpost'] = df['jobpost'].apply(lambda x: x.replace(\"'\", ''))"
   ]
  },
  {
   "cell_type": "markdown",
   "metadata": {},
   "source": [
    "### Removal of Emails, Web addresses and Telephone numbers"
   ]
  },
  {
   "cell_type": "code",
   "execution_count": 20,
   "metadata": {},
   "outputs": [],
   "source": [
    "pattern_phone = r'\\d+-\\d+-\\d+ | \\d{6}'\n",
    "pattern_email = r'[\\w]+@[\\w]+\\.+[\\w]+'\n",
    "pattern_web = r'(?:(?:https?|ftp)://)?[\\w\\-?=%.]+\\.[\\w\\-?=%.]+'"
   ]
  },
  {
   "cell_type": "code",
   "execution_count": 21,
   "metadata": {},
   "outputs": [],
   "source": [
    "import re"
   ]
  },
  {
   "cell_type": "code",
   "execution_count": 22,
   "metadata": {},
   "outputs": [
    {
     "data": {
      "text/plain": [
       "['374-1-546800 ', ' 524040', ' 524140']"
      ]
     },
     "execution_count": 22,
     "metadata": {},
     "output_type": "execute_result"
    }
   ],
   "source": [
    "re.findall(pattern_phone, df['jobpost'][0])"
   ]
  },
  {
   "cell_type": "markdown",
   "metadata": {},
   "source": [
    "### Many email addresses had the pattern '@...'. So I replaced them with '@gmail.com' for the ease in creating the regular expression pattern."
   ]
  },
  {
   "cell_type": "code",
   "execution_count": 23,
   "metadata": {},
   "outputs": [],
   "source": [
    "df['jobpost'] = df['jobpost'].apply(lambda x: x.replace('@...', '@gmail.com'))"
   ]
  },
  {
   "cell_type": "markdown",
   "metadata": {},
   "source": [
    "### Removing all the phone numbers"
   ]
  },
  {
   "cell_type": "code",
   "execution_count": 24,
   "metadata": {},
   "outputs": [],
   "source": [
    "df['jobpost'] = df['jobpost'].apply(lambda x: re.sub(pattern_phone, '', x))"
   ]
  },
  {
   "cell_type": "markdown",
   "metadata": {},
   "source": [
    "### Removing all the Email Addresses"
   ]
  },
  {
   "cell_type": "code",
   "execution_count": 25,
   "metadata": {},
   "outputs": [],
   "source": [
    "df['jobpost'] = df['jobpost'].apply(lambda x: re.sub(pattern_email, '', x))"
   ]
  },
  {
   "cell_type": "markdown",
   "metadata": {},
   "source": [
    "### Removing all the Web Addresses"
   ]
  },
  {
   "cell_type": "code",
   "execution_count": 26,
   "metadata": {},
   "outputs": [],
   "source": [
    "df['jobpost'] = df['jobpost'].apply(lambda x: re.sub(pattern_web, '', x))"
   ]
  },
  {
   "cell_type": "code",
   "execution_count": 27,
   "metadata": {},
   "outputs": [],
   "source": [
    "df['jobpost'] = df['jobpost'].apply(lambda x: x.replace(\"/\", ' '))"
   ]
  },
  {
   "cell_type": "markdown",
   "metadata": {},
   "source": [
    "## Extending stop words"
   ]
  },
  {
   "cell_type": "code",
   "execution_count": 28,
   "metadata": {},
   "outputs": [],
   "source": [
    "stop_add = ['armenian', 'armenia', 'job', 'title', 'position', 'location', 'responsibilities',\n",
    "             'application', 'procedures', 'deadline', 'required', 'qualifications', 'renumeration', \n",
    "             'salary', 'date', 'company', 'llc']"
   ]
  },
  {
   "cell_type": "code",
   "execution_count": 29,
   "metadata": {},
   "outputs": [],
   "source": [
    "for i in stop_add:\n",
    "    nlp.Defaults.stop_words.add(i)\n",
    "    nlp.vocab[i].is_stop = True"
   ]
  },
  {
   "cell_type": "code",
   "execution_count": 30,
   "metadata": {},
   "outputs": [
    {
     "data": {
      "text/plain": [
       "{\"'d\",\n",
       " \"'ll\",\n",
       " \"'m\",\n",
       " \"'re\",\n",
       " \"'s\",\n",
       " \"'ve\",\n",
       " 'a',\n",
       " 'about',\n",
       " 'above',\n",
       " 'across',\n",
       " 'after',\n",
       " 'afterwards',\n",
       " 'again',\n",
       " 'against',\n",
       " 'all',\n",
       " 'almost',\n",
       " 'alone',\n",
       " 'along',\n",
       " 'already',\n",
       " 'also',\n",
       " 'although',\n",
       " 'always',\n",
       " 'am',\n",
       " 'among',\n",
       " 'amongst',\n",
       " 'amount',\n",
       " 'an',\n",
       " 'and',\n",
       " 'another',\n",
       " 'any',\n",
       " 'anyhow',\n",
       " 'anyone',\n",
       " 'anything',\n",
       " 'anyway',\n",
       " 'anywhere',\n",
       " 'application',\n",
       " 'are',\n",
       " 'armenia',\n",
       " 'armenian',\n",
       " 'around',\n",
       " 'as',\n",
       " 'at',\n",
       " 'back',\n",
       " 'be',\n",
       " 'became',\n",
       " 'because',\n",
       " 'become',\n",
       " 'becomes',\n",
       " 'becoming',\n",
       " 'been',\n",
       " 'before',\n",
       " 'beforehand',\n",
       " 'behind',\n",
       " 'being',\n",
       " 'below',\n",
       " 'beside',\n",
       " 'besides',\n",
       " 'between',\n",
       " 'beyond',\n",
       " 'both',\n",
       " 'bottom',\n",
       " 'but',\n",
       " 'by',\n",
       " 'ca',\n",
       " 'call',\n",
       " 'can',\n",
       " 'cannot',\n",
       " 'company',\n",
       " 'could',\n",
       " 'date',\n",
       " 'deadline',\n",
       " 'did',\n",
       " 'do',\n",
       " 'does',\n",
       " 'doing',\n",
       " 'done',\n",
       " 'down',\n",
       " 'due',\n",
       " 'during',\n",
       " 'each',\n",
       " 'eight',\n",
       " 'either',\n",
       " 'eleven',\n",
       " 'else',\n",
       " 'elsewhere',\n",
       " 'empty',\n",
       " 'enough',\n",
       " 'even',\n",
       " 'ever',\n",
       " 'every',\n",
       " 'everyone',\n",
       " 'everything',\n",
       " 'everywhere',\n",
       " 'except',\n",
       " 'few',\n",
       " 'fifteen',\n",
       " 'fifty',\n",
       " 'first',\n",
       " 'five',\n",
       " 'for',\n",
       " 'former',\n",
       " 'formerly',\n",
       " 'forty',\n",
       " 'four',\n",
       " 'from',\n",
       " 'front',\n",
       " 'full',\n",
       " 'further',\n",
       " 'get',\n",
       " 'give',\n",
       " 'go',\n",
       " 'had',\n",
       " 'has',\n",
       " 'have',\n",
       " 'he',\n",
       " 'hence',\n",
       " 'her',\n",
       " 'here',\n",
       " 'hereafter',\n",
       " 'hereby',\n",
       " 'herein',\n",
       " 'hereupon',\n",
       " 'hers',\n",
       " 'herself',\n",
       " 'him',\n",
       " 'himself',\n",
       " 'his',\n",
       " 'how',\n",
       " 'however',\n",
       " 'hundred',\n",
       " 'i',\n",
       " 'if',\n",
       " 'in',\n",
       " 'indeed',\n",
       " 'into',\n",
       " 'is',\n",
       " 'it',\n",
       " 'its',\n",
       " 'itself',\n",
       " 'job',\n",
       " 'just',\n",
       " 'keep',\n",
       " 'last',\n",
       " 'latter',\n",
       " 'latterly',\n",
       " 'least',\n",
       " 'less',\n",
       " 'llc',\n",
       " 'location',\n",
       " 'made',\n",
       " 'make',\n",
       " 'many',\n",
       " 'may',\n",
       " 'me',\n",
       " 'meanwhile',\n",
       " 'might',\n",
       " 'mine',\n",
       " 'more',\n",
       " 'moreover',\n",
       " 'most',\n",
       " 'mostly',\n",
       " 'move',\n",
       " 'much',\n",
       " 'must',\n",
       " 'my',\n",
       " 'myself',\n",
       " \"n't\",\n",
       " 'name',\n",
       " 'namely',\n",
       " 'neither',\n",
       " 'never',\n",
       " 'nevertheless',\n",
       " 'next',\n",
       " 'nine',\n",
       " 'no',\n",
       " 'nobody',\n",
       " 'none',\n",
       " 'noone',\n",
       " 'nor',\n",
       " 'not',\n",
       " 'nothing',\n",
       " 'now',\n",
       " 'nowhere',\n",
       " 'n‘t',\n",
       " 'n’t',\n",
       " 'of',\n",
       " 'off',\n",
       " 'often',\n",
       " 'on',\n",
       " 'once',\n",
       " 'one',\n",
       " 'only',\n",
       " 'onto',\n",
       " 'or',\n",
       " 'other',\n",
       " 'others',\n",
       " 'otherwise',\n",
       " 'our',\n",
       " 'ours',\n",
       " 'ourselves',\n",
       " 'out',\n",
       " 'over',\n",
       " 'own',\n",
       " 'part',\n",
       " 'per',\n",
       " 'perhaps',\n",
       " 'please',\n",
       " 'position',\n",
       " 'procedures',\n",
       " 'put',\n",
       " 'qualifications',\n",
       " 'quite',\n",
       " 'rather',\n",
       " 're',\n",
       " 'really',\n",
       " 'regarding',\n",
       " 'renumeration',\n",
       " 'required',\n",
       " 'responsibilities',\n",
       " 'salary',\n",
       " 'same',\n",
       " 'say',\n",
       " 'see',\n",
       " 'seem',\n",
       " 'seemed',\n",
       " 'seeming',\n",
       " 'seems',\n",
       " 'serious',\n",
       " 'several',\n",
       " 'she',\n",
       " 'should',\n",
       " 'show',\n",
       " 'side',\n",
       " 'since',\n",
       " 'six',\n",
       " 'sixty',\n",
       " 'so',\n",
       " 'some',\n",
       " 'somehow',\n",
       " 'someone',\n",
       " 'something',\n",
       " 'sometime',\n",
       " 'sometimes',\n",
       " 'somewhere',\n",
       " 'still',\n",
       " 'such',\n",
       " 'take',\n",
       " 'ten',\n",
       " 'than',\n",
       " 'that',\n",
       " 'the',\n",
       " 'their',\n",
       " 'them',\n",
       " 'themselves',\n",
       " 'then',\n",
       " 'thence',\n",
       " 'there',\n",
       " 'thereafter',\n",
       " 'thereby',\n",
       " 'therefore',\n",
       " 'therein',\n",
       " 'thereupon',\n",
       " 'these',\n",
       " 'they',\n",
       " 'third',\n",
       " 'this',\n",
       " 'those',\n",
       " 'though',\n",
       " 'three',\n",
       " 'through',\n",
       " 'throughout',\n",
       " 'thru',\n",
       " 'thus',\n",
       " 'title',\n",
       " 'to',\n",
       " 'together',\n",
       " 'too',\n",
       " 'top',\n",
       " 'toward',\n",
       " 'towards',\n",
       " 'twelve',\n",
       " 'twenty',\n",
       " 'two',\n",
       " 'under',\n",
       " 'unless',\n",
       " 'until',\n",
       " 'up',\n",
       " 'upon',\n",
       " 'us',\n",
       " 'used',\n",
       " 'using',\n",
       " 'various',\n",
       " 'very',\n",
       " 'via',\n",
       " 'was',\n",
       " 'we',\n",
       " 'well',\n",
       " 'were',\n",
       " 'what',\n",
       " 'whatever',\n",
       " 'when',\n",
       " 'whence',\n",
       " 'whenever',\n",
       " 'where',\n",
       " 'whereafter',\n",
       " 'whereas',\n",
       " 'whereby',\n",
       " 'wherein',\n",
       " 'whereupon',\n",
       " 'wherever',\n",
       " 'whether',\n",
       " 'which',\n",
       " 'while',\n",
       " 'whither',\n",
       " 'who',\n",
       " 'whoever',\n",
       " 'whole',\n",
       " 'whom',\n",
       " 'whose',\n",
       " 'why',\n",
       " 'will',\n",
       " 'with',\n",
       " 'within',\n",
       " 'without',\n",
       " 'would',\n",
       " 'yet',\n",
       " 'you',\n",
       " 'your',\n",
       " 'yours',\n",
       " 'yourself',\n",
       " 'yourselves',\n",
       " '‘d',\n",
       " '‘ll',\n",
       " '‘m',\n",
       " '‘re',\n",
       " '‘s',\n",
       " '‘ve',\n",
       " '’d',\n",
       " '’ll',\n",
       " '’m',\n",
       " '’re',\n",
       " '’s',\n",
       " '’ve'}"
      ]
     },
     "execution_count": 30,
     "metadata": {},
     "output_type": "execute_result"
    }
   ],
   "source": [
    "nlp.Defaults.stop_words"
   ]
  },
  {
   "cell_type": "code",
   "execution_count": null,
   "metadata": {},
   "outputs": [],
   "source": []
  },
  {
   "cell_type": "markdown",
   "metadata": {},
   "source": [
    "## Tokenization, Lemmatization, and Removal of Stop words and Punctuations"
   ]
  },
  {
   "cell_type": "code",
   "execution_count": 31,
   "metadata": {},
   "outputs": [],
   "source": [
    "def token_freq(text):\n",
    "    word_freq = {}\n",
    "    for token in nlp(text):\n",
    "        if (token.is_punct) | (nlp.vocab[token.text].is_stop) | (token.text.isspace()) | (token.text.isdigit()):\n",
    "            continue\n",
    "        else:\n",
    "            if token.lemma_ not in word_freq.keys():\n",
    "                word_freq[token.lemma_] = 1\n",
    "            elif token.lemma_ in word_freq.keys():\n",
    "                word_freq[token.lemma_] += 1\n",
    "    return word_freq"
   ]
  },
  {
   "cell_type": "code",
   "execution_count": 32,
   "metadata": {},
   "outputs": [],
   "source": [
    "def preprocessing(text):\n",
    "    import string\n",
    "    if text.isdigit() == False:\n",
    "        text = text.lower()\n",
    "        text = re.sub(r\"[{}]\".format(string.punctuation), \" \", text)\n",
    "        return text"
   ]
  },
  {
   "cell_type": "code",
   "execution_count": 33,
   "metadata": {},
   "outputs": [],
   "source": [
    "df['Word Frequency'] = df['jobpost'].apply(token_freq)"
   ]
  },
  {
   "cell_type": "code",
   "execution_count": 34,
   "metadata": {},
   "outputs": [
    {
     "data": {
      "text/plain": [
       "{'AMERIA': 2,\n",
       " 'Investment': 3,\n",
       " 'Consulting': 2,\n",
       " 'Company': 2,\n",
       " 'JOB': 2,\n",
       " 'title': 1,\n",
       " 'Chief': 2,\n",
       " 'Financial': 2,\n",
       " 'Officer': 2,\n",
       " 'POSITION': 1,\n",
       " 'LOCATION': 1,\n",
       " 'Yerevan': 1,\n",
       " 'Armenia': 1,\n",
       " 'description': 1,\n",
       " 'seek': 1,\n",
       " 'manage': 4,\n",
       " 'companys': 4,\n",
       " 'fiscal': 3,\n",
       " 'administrative': 7,\n",
       " 'function': 3,\n",
       " 'provide': 2,\n",
       " 'highly': 2,\n",
       " 'responsible': 1,\n",
       " 'technically': 1,\n",
       " 'complex': 2,\n",
       " 'staff': 3,\n",
       " 'assistance': 1,\n",
       " 'Executive': 2,\n",
       " 'Director': 1,\n",
       " 'work': 5,\n",
       " 'perform': 3,\n",
       " 'require': 1,\n",
       " 'high': 2,\n",
       " 'level': 2,\n",
       " 'technical': 2,\n",
       " 'proficiency': 1,\n",
       " 'financial': 15,\n",
       " 'management': 17,\n",
       " 'investment': 5,\n",
       " 'supervisory': 2,\n",
       " 'skill': 6,\n",
       " 'job': 1,\n",
       " 'responsibility': 1,\n",
       " 'Supervises': 1,\n",
       " 'include': 10,\n",
       " 'assign': 2,\n",
       " 'review': 1,\n",
       " 'employee': 3,\n",
       " 'process': 2,\n",
       " 'product': 1,\n",
       " 'counsel': 1,\n",
       " 'give': 1,\n",
       " 'performance': 2,\n",
       " 'evaluation': 2,\n",
       " 'recommend': 2,\n",
       " 'disciplinary': 1,\n",
       " 'action': 1,\n",
       " 'serve': 2,\n",
       " 'member': 1,\n",
       " 'team': 4,\n",
       " 'participate': 1,\n",
       " 'strategic': 2,\n",
       " 'operational': 1,\n",
       " 'planning': 3,\n",
       " 'direct': 2,\n",
       " 'oversee': 4,\n",
       " 'activity': 3,\n",
       " 'establish': 1,\n",
       " 'monitor': 4,\n",
       " 'internal': 3,\n",
       " 'control': 3,\n",
       " 'cash': 1,\n",
       " 'portfolio': 1,\n",
       " 'collaboration': 1,\n",
       " 'leader': 1,\n",
       " 'limit': 1,\n",
       " 'risk': 4,\n",
       " 'concentration': 1,\n",
       " 'fund': 2,\n",
       " 'deployment': 1,\n",
       " 'adequacy': 1,\n",
       " 'loss': 2,\n",
       " 'liquidity': 1,\n",
       " 'reserve': 1,\n",
       " 'assist': 1,\n",
       " 'development': 2,\n",
       " 'proper': 1,\n",
       " 'documentation': 1,\n",
       " 'system': 6,\n",
       " 'annual': 1,\n",
       " 'budgeting': 3,\n",
       " 'develop': 3,\n",
       " 'projection': 1,\n",
       " 'prepare': 3,\n",
       " 'budget': 1,\n",
       " 'external': 1,\n",
       " 'report': 4,\n",
       " 'audit': 1,\n",
       " 'statement': 1,\n",
       " 'tax': 1,\n",
       " 'return': 1,\n",
       " 'board': 1,\n",
       " 'director': 1,\n",
       " 'implement': 2,\n",
       " 'maintain': 1,\n",
       " 'efficient': 1,\n",
       " 'effective': 1,\n",
       " 'accounting': 8,\n",
       " 'ensure': 2,\n",
       " 'compliance': 4,\n",
       " 'national': 1,\n",
       " 'international': 1,\n",
       " 'standard': 2,\n",
       " 'principle': 7,\n",
       " 'sufficiency': 1,\n",
       " 'comprehensiveness': 1,\n",
       " 'datum': 1,\n",
       " 'reporting': 4,\n",
       " 'requirement': 3,\n",
       " 'contract': 4,\n",
       " 'interpret': 1,\n",
       " 'client': 1,\n",
       " 'submit': 2,\n",
       " 'covenant': 1,\n",
       " 'term': 1,\n",
       " 'design': 2,\n",
       " 'implementation': 2,\n",
       " 'maintenance': 2,\n",
       " 'computer': 3,\n",
       " 'base': 2,\n",
       " 'information': 4,\n",
       " 'record': 3,\n",
       " 'retention': 1,\n",
       " 'manual': 1,\n",
       " 'file': 1,\n",
       " 'manager': 1,\n",
       " 'evaluate': 2,\n",
       " 'exposure': 1,\n",
       " 'obtain': 1,\n",
       " 'insurance': 1,\n",
       " 'appropriate': 1,\n",
       " 'operation': 3,\n",
       " 'facility': 1,\n",
       " 'payroll': 1,\n",
       " 'administration': 1,\n",
       " 'office': 1,\n",
       " 'support': 3,\n",
       " 'corporate': 2,\n",
       " 'law': 1,\n",
       " 'article': 1,\n",
       " 'incorporation': 1,\n",
       " 'registration': 1,\n",
       " 'fundraising': 1,\n",
       " 'REQUIRED': 1,\n",
       " 'qualification': 2,\n",
       " 'successfully': 1,\n",
       " 'individual': 1,\n",
       " 'able': 2,\n",
       " 'essential': 1,\n",
       " 'duty': 1,\n",
       " 'satisfactorily': 1,\n",
       " 'list': 1,\n",
       " 'representative': 1,\n",
       " 'knowledge': 3,\n",
       " 'ability': 3,\n",
       " 'generally': 1,\n",
       " 'accept': 1,\n",
       " 'local': 1,\n",
       " 'legislation': 1,\n",
       " 'state': 1,\n",
       " 'pertain': 1,\n",
       " 'practice': 7,\n",
       " 'analysis': 2,\n",
       " 'supervision': 1,\n",
       " 'apply': 2,\n",
       " 'sound': 1,\n",
       " 'plan': 1,\n",
       " 'organize': 1,\n",
       " 'supervise': 1,\n",
       " 'subordinate': 1,\n",
       " 'train': 1,\n",
       " 'feedback': 1,\n",
       " 'critically': 1,\n",
       " 'analyze': 1,\n",
       " 'policy': 1,\n",
       " 'change': 1,\n",
       " 'need': 2,\n",
       " 'gather': 1,\n",
       " 'synthesize': 1,\n",
       " 'variety': 2,\n",
       " 'source': 1,\n",
       " 'present': 1,\n",
       " 'audience': 1,\n",
       " 'differ': 1,\n",
       " 'expertise': 1,\n",
       " 'detailed': 1,\n",
       " 'comprehensive': 1,\n",
       " 'explanatory': 1,\n",
       " 'text': 1,\n",
       " 'operate': 2,\n",
       " 'IBM': 1,\n",
       " 'compatible': 1,\n",
       " 'personal': 1,\n",
       " 'word': 1,\n",
       " 'processing': 1,\n",
       " 'spreadsheet': 1,\n",
       " 'database': 1,\n",
       " 'software': 2,\n",
       " 'application': 4,\n",
       " 'specialized': 1,\n",
       " 'minimum': 1,\n",
       " 'year': 1,\n",
       " 'account': 2,\n",
       " 'Corporate': 1,\n",
       " 'Finance': 2,\n",
       " 'banking': 1,\n",
       " 'experience': 3,\n",
       " 'role': 1,\n",
       " 'CFO': 1,\n",
       " 'excellent': 3,\n",
       " 'finance': 4,\n",
       " 'couple': 1,\n",
       " 'demonstrate': 1,\n",
       " 'key': 1,\n",
       " 'consult': 1,\n",
       " 'context': 1,\n",
       " 'treasury': 1,\n",
       " 'reserving': 1,\n",
       " 'strong': 1,\n",
       " 'analytical': 2,\n",
       " 'closely': 1,\n",
       " 'ceo': 1,\n",
       " 'executive': 2,\n",
       " 'leadership': 1,\n",
       " 'track': 1,\n",
       " 'attract': 1,\n",
       " 'select': 1,\n",
       " 'rewarding': 1,\n",
       " 'retain': 1,\n",
       " 'caliber': 1,\n",
       " 'achieve': 1,\n",
       " 'business': 2,\n",
       " 'goal': 2,\n",
       " 'undergraduate': 1,\n",
       " 'degree': 2,\n",
       " 'related': 1,\n",
       " 'discipline': 1,\n",
       " 'cpa': 1,\n",
       " 'CFA': 1,\n",
       " 'ACCA': 1,\n",
       " 'certification': 1,\n",
       " 'prefer': 1,\n",
       " 'Masters': 1,\n",
       " 'Business': 1,\n",
       " 'Administration': 1,\n",
       " 'Accounting': 1,\n",
       " 'Fluency': 1,\n",
       " 'English': 1,\n",
       " 'armenian': 1,\n",
       " 'russian': 1,\n",
       " 'outstanding': 1,\n",
       " 'writing': 1,\n",
       " 'communication': 1,\n",
       " 'teamwork': 1,\n",
       " 'interpersonal': 1,\n",
       " 'organized': 1,\n",
       " 'detail': 1,\n",
       " 'orient': 1,\n",
       " 'result': 1,\n",
       " 'drive': 1,\n",
       " 'deal': 1,\n",
       " 'issue': 1,\n",
       " 'procedure': 1,\n",
       " 'cover': 1,\n",
       " 'letter': 2,\n",
       " 'resume': 1,\n",
       " 'address': 1,\n",
       " 'relevant': 1,\n",
       " 'professional': 1,\n",
       " 'reference': 1,\n",
       " 'strictly': 1,\n",
       " 'Tatevik': 1,\n",
       " 'Hovhannisyan': 1,\n",
       " 'Assistant': 1,\n",
       " 'fax': 1,\n",
       " 'e': 2,\n",
       " 'mail': 2,\n",
       " 'Tel': 1,\n",
       " 'shortlisted': 1,\n",
       " 'candidate': 1,\n",
       " 'notify': 1,\n",
       " 'interview': 1,\n",
       " 'clearly': 1,\n",
       " 'mention': 2,\n",
       " 'learn': 1,\n",
       " 'opportunity': 2,\n",
       " 'Career': 1,\n",
       " 'Center': 1,\n",
       " 'url': 1,\n",
       " 'website': 2,\n",
       " 'thank': 1,\n",
       " 'deadline': 1,\n",
       " 'January': 1,\n",
       " 'place': 1,\n",
       " 'free': 1,\n",
       " 'posting': 1,\n",
       " 'career': 1,\n",
       " 'relate': 1,\n",
       " 'organization': 1}"
      ]
     },
     "execution_count": 34,
     "metadata": {},
     "output_type": "execute_result"
    }
   ],
   "source": [
    "df['Word Frequency'][0]"
   ]
  },
  {
   "cell_type": "markdown",
   "metadata": {},
   "source": [
    "# Jobposts Word Cloud which based on the Title 'Software Developer' (Single Row)"
   ]
  },
  {
   "cell_type": "code",
   "execution_count": 35,
   "metadata": {},
   "outputs": [],
   "source": [
    "first_soft = df[df['Title'] == 'Software Developer']['Word Frequency'][4]"
   ]
  },
  {
   "cell_type": "code",
   "execution_count": 36,
   "metadata": {},
   "outputs": [],
   "source": [
    "from PIL import Image\n",
    "from wordcloud import WordCloud"
   ]
  },
  {
   "cell_type": "code",
   "execution_count": 37,
   "metadata": {},
   "outputs": [
    {
     "data": {
      "text/plain": [
       "<matplotlib.image.AxesImage at 0x1f9131b5fd0>"
      ]
     },
     "execution_count": 37,
     "metadata": {},
     "output_type": "execute_result"
    },
    {
     "data": {
      "image/png": "[encoded data removed]",
      "text/plain": [
       "<Figure size 1080x360 with 1 Axes>"
      ]
     },
     "metadata": {
      "needs_background": "light"
     },
     "output_type": "display_data"
    }
   ],
   "source": [
    "wc = WordCloud(background_color=\"white\", width=600, height=400, relative_scaling=0.5, normalize_plurals=False).generate_from_frequencies(first_soft)\n",
    "plt.figure(figsize=(15,5))\n",
    "plt.axis(\"off\")\n",
    "plt.tight_layout(pad=0)\n",
    "plt.imshow(wc)"
   ]
  },
  {
   "cell_type": "markdown",
   "metadata": {},
   "source": [
    "#### Saving the data till now in order to save time"
   ]
  },
  {
   "cell_type": "code",
   "execution_count": 38,
   "metadata": {},
   "outputs": [],
   "source": [
    "# df.to_csv('data job posts updated.csv',index=False)"
   ]
  },
  {
   "cell_type": "code",
   "execution_count": 39,
   "metadata": {},
   "outputs": [],
   "source": [
    "# df = pd.read_csv('data job posts updated.csv')"
   ]
  },
  {
   "cell_type": "markdown",
   "metadata": {},
   "source": [
    "# Supervised Learning"
   ]
  },
  {
   "cell_type": "markdown",
   "metadata": {},
   "source": [
    "## Selecting the Independent and Target variable in order to classify if a job posting is related to IT sector."
   ]
  },
  {
   "cell_type": "code",
   "execution_count": 40,
   "metadata": {},
   "outputs": [],
   "source": [
    "X = df['jobpost']\n",
    "y = df['IT']"
   ]
  },
  {
   "cell_type": "code",
   "execution_count": 41,
   "metadata": {},
   "outputs": [
    {
     "data": {
      "text/plain": [
       "Text(0.5, 1.0, 'IT Job Class Distribution')"
      ]
     },
     "execution_count": 41,
     "metadata": {},
     "output_type": "execute_result"
    },
    {
     "data": {
      "image/png": "[encoded data removed]",
      "text/plain": [
       "<Figure size 864x540 with 1 Axes>"
      ]
     },
     "metadata": {
      "needs_background": "light"
     },
     "output_type": "display_data"
    }
   ],
   "source": [
    "plt.figure(figsize=(12, 7.5))\n",
    "df['IT'].value_counts().plot(kind='bar')\n",
    "plt.xlabel('IT')\n",
    "plt.ylabel('count')\n",
    "plt.title('IT Job Class Distribution')"
   ]
  },
  {
   "cell_type": "markdown",
   "metadata": {},
   "source": [
    "## Splitting the data into training and test sets"
   ]
  },
  {
   "cell_type": "code",
   "execution_count": 42,
   "metadata": {},
   "outputs": [],
   "source": [
    "from sklearn.model_selection import train_test_split"
   ]
  },
  {
   "cell_type": "code",
   "execution_count": 43,
   "metadata": {},
   "outputs": [],
   "source": [
    "X_train, X_test, y_train, y_test = train_test_split(X, y, test_size=0.33)"
   ]
  },
  {
   "cell_type": "markdown",
   "metadata": {},
   "source": [
    "# Building a Pipeline"
   ]
  },
  {
   "cell_type": "code",
   "execution_count": 44,
   "metadata": {},
   "outputs": [],
   "source": [
    "from sklearn.pipeline import Pipeline"
   ]
  },
  {
   "cell_type": "code",
   "execution_count": 45,
   "metadata": {},
   "outputs": [],
   "source": [
    "from sklearn.feature_extraction.text import TfidfVectorizer"
   ]
  },
  {
   "cell_type": "code",
   "execution_count": 46,
   "metadata": {},
   "outputs": [],
   "source": [
    "from sklearn.svm import LinearSVC"
   ]
  },
  {
   "cell_type": "code",
   "execution_count": 47,
   "metadata": {},
   "outputs": [],
   "source": [
    "text_clf = Pipeline([('tfidf', TfidfVectorizer(preprocessor=preprocessing)), ('clf', LinearSVC())])"
   ]
  },
  {
   "cell_type": "code",
   "execution_count": 48,
   "metadata": {},
   "outputs": [
    {
     "data": {
      "text/plain": [
       "Pipeline(memory=None,\n",
       "         steps=[('tfidf',\n",
       "                 TfidfVectorizer(analyzer='word', binary=False,\n",
       "                                 decode_error='strict',\n",
       "                                 dtype=<class 'numpy.float64'>,\n",
       "                                 encoding='utf-8', input='content',\n",
       "                                 lowercase=True, max_df=1.0, max_features=None,\n",
       "                                 min_df=1, ngram_range=(1, 1), norm='l2',\n",
       "                                 preprocessor=<function preprocessing at 0x000001F8E1371EA0>,\n",
       "                                 smooth_idf=True, stop_words=None,\n",
       "                                 strip_accents=None, sublinear_tf=False,\n",
       "                                 token_pattern='(?u)\\\\b\\\\w\\\\w+\\\\b',\n",
       "                                 tokenizer=None, use_idf=True,\n",
       "                                 vocabulary=None)),\n",
       "                ('clf',\n",
       "                 LinearSVC(C=1.0, class_weight=None, dual=True,\n",
       "                           fit_intercept=True, intercept_scaling=1,\n",
       "                           loss='squared_hinge', max_iter=1000,\n",
       "                           multi_class='ovr', penalty='l2', random_state=None,\n",
       "                           tol=0.0001, verbose=0))],\n",
       "         verbose=False)"
      ]
     },
     "execution_count": 48,
     "metadata": {},
     "output_type": "execute_result"
    }
   ],
   "source": [
    "text_clf.fit(X_train, y_train)"
   ]
  },
  {
   "cell_type": "code",
   "execution_count": 49,
   "metadata": {},
   "outputs": [],
   "source": [
    "y_pred = text_clf.predict(X_test)"
   ]
  },
  {
   "cell_type": "code",
   "execution_count": 50,
   "metadata": {},
   "outputs": [],
   "source": [
    "from sklearn.metrics import confusion_matrix, classification_report, accuracy_score"
   ]
  },
  {
   "cell_type": "code",
   "execution_count": 51,
   "metadata": {},
   "outputs": [
    {
     "name": "stdout",
     "output_type": "stream",
     "text": [
      "[[4893   94]\n",
      " [ 180 1068]]\n"
     ]
    }
   ],
   "source": [
    "print(confusion_matrix(y_test, y_pred))"
   ]
  },
  {
   "cell_type": "code",
   "execution_count": 52,
   "metadata": {},
   "outputs": [
    {
     "name": "stdout",
     "output_type": "stream",
     "text": [
      "              precision    recall  f1-score   support\n",
      "\n",
      "       False       0.96      0.98      0.97      4987\n",
      "        True       0.92      0.86      0.89      1248\n",
      "\n",
      "    accuracy                           0.96      6235\n",
      "   macro avg       0.94      0.92      0.93      6235\n",
      "weighted avg       0.96      0.96      0.96      6235\n",
      "\n"
     ]
    }
   ],
   "source": [
    "print(classification_report(y_test, y_pred))"
   ]
  },
  {
   "cell_type": "code",
   "execution_count": 53,
   "metadata": {},
   "outputs": [
    {
     "name": "stdout",
     "output_type": "stream",
     "text": [
      "0.9560545308740979\n"
     ]
    }
   ],
   "source": [
    "print(accuracy_score(y_test, y_pred))"
   ]
  },
  {
   "cell_type": "markdown",
   "metadata": {},
   "source": [
    "## Side-by-Side comparison between the Actual and the Predicted Target Variable"
   ]
  },
  {
   "cell_type": "code",
   "execution_count": 54,
   "metadata": {},
   "outputs": [],
   "source": [
    "df1 = pd.DataFrame({'Actual': y_test, 'Predicted': y_pred})"
   ]
  },
  {
   "cell_type": "code",
   "execution_count": 55,
   "metadata": {},
   "outputs": [
    {
     "data": {
      "text/html": [
       "<div>\n",
       "<style scoped>\n",
       "    .dataframe tbody tr th:only-of-type {\n",
       "        vertical-align: middle;\n",
       "    }\n",
       "\n",
       "    .dataframe tbody tr th {\n",
       "        vertical-align: top;\n",
       "    }\n",
       "\n",
       "    .dataframe thead th {\n",
       "        text-align: right;\n",
       "    }\n",
       "</style>\n",
       "<table border=\"1\" class=\"dataframe\">\n",
       "  <thead>\n",
       "    <tr style=\"text-align: right;\">\n",
       "      <th></th>\n",
       "      <th>Actual</th>\n",
       "      <th>Predicted</th>\n",
       "    </tr>\n",
       "  </thead>\n",
       "  <tbody>\n",
       "    <tr>\n",
       "      <th>3971</th>\n",
       "      <td>False</td>\n",
       "      <td>False</td>\n",
       "    </tr>\n",
       "    <tr>\n",
       "      <th>11790</th>\n",
       "      <td>False</td>\n",
       "      <td>False</td>\n",
       "    </tr>\n",
       "    <tr>\n",
       "      <th>6320</th>\n",
       "      <td>False</td>\n",
       "      <td>False</td>\n",
       "    </tr>\n",
       "    <tr>\n",
       "      <th>52</th>\n",
       "      <td>False</td>\n",
       "      <td>False</td>\n",
       "    </tr>\n",
       "    <tr>\n",
       "      <th>3854</th>\n",
       "      <td>False</td>\n",
       "      <td>False</td>\n",
       "    </tr>\n",
       "    <tr>\n",
       "      <th>18137</th>\n",
       "      <td>False</td>\n",
       "      <td>False</td>\n",
       "    </tr>\n",
       "    <tr>\n",
       "      <th>11229</th>\n",
       "      <td>False</td>\n",
       "      <td>False</td>\n",
       "    </tr>\n",
       "    <tr>\n",
       "      <th>6088</th>\n",
       "      <td>False</td>\n",
       "      <td>False</td>\n",
       "    </tr>\n",
       "    <tr>\n",
       "      <th>11157</th>\n",
       "      <td>False</td>\n",
       "      <td>False</td>\n",
       "    </tr>\n",
       "    <tr>\n",
       "      <th>6226</th>\n",
       "      <td>False</td>\n",
       "      <td>False</td>\n",
       "    </tr>\n",
       "  </tbody>\n",
       "</table>\n",
       "</div>"
      ],
      "text/plain": [
       "       Actual  Predicted\n",
       "3971    False      False\n",
       "11790   False      False\n",
       "6320    False      False\n",
       "52      False      False\n",
       "3854    False      False\n",
       "18137   False      False\n",
       "11229   False      False\n",
       "6088    False      False\n",
       "11157   False      False\n",
       "6226    False      False"
      ]
     },
     "execution_count": 55,
     "metadata": {},
     "output_type": "execute_result"
    }
   ],
   "source": [
    "df1.sample(10)"
   ]
  },
  {
   "cell_type": "markdown",
   "metadata": {},
   "source": [
    "# Unsupervised Learning"
   ]
  },
  {
   "cell_type": "markdown",
   "metadata": {},
   "source": [
    "## Pre-Processing the data"
   ]
  },
  {
   "cell_type": "code",
   "execution_count": 56,
   "metadata": {},
   "outputs": [],
   "source": [
    "df['RequiredQual'].replace(np.nan, '', regex=True, inplace=True)"
   ]
  },
  {
   "cell_type": "code",
   "execution_count": 57,
   "metadata": {},
   "outputs": [],
   "source": [
    "df['RequiredQual'] = df['RequiredQual'].apply(lambda x: x.replace('\\n', ' '))"
   ]
  },
  {
   "cell_type": "code",
   "execution_count": 58,
   "metadata": {},
   "outputs": [
    {
     "data": {
      "text/plain": [
       "7         \n",
       "10        \n",
       "11        \n",
       "16        \n",
       "26        \n",
       "        ..\n",
       "18683     \n",
       "18700     \n",
       "18794     \n",
       "18868     \n",
       "18946     \n",
       "Name: RequiredQual, Length: 434, dtype: object"
      ]
     },
     "execution_count": 58,
     "metadata": {},
     "output_type": "execute_result"
    }
   ],
   "source": [
    "(df[df['RequiredQual'] == '']['RequiredQual'])"
   ]
  },
  {
   "cell_type": "code",
   "execution_count": 59,
   "metadata": {},
   "outputs": [],
   "source": [
    "df['RequiredQual'] = df['RequiredQual'].apply(lambda x: x.replace(\"'\", ''))"
   ]
  },
  {
   "cell_type": "code",
   "execution_count": 60,
   "metadata": {},
   "outputs": [],
   "source": [
    "df['RequiredQual'] = df['RequiredQual'].apply(lambda x: x.replace('@...', '@gmail.com'))"
   ]
  },
  {
   "cell_type": "code",
   "execution_count": 61,
   "metadata": {},
   "outputs": [],
   "source": [
    "df['RequiredQual'] = df['RequiredQual'].apply(lambda x: re.sub(pattern_phone, '', x))"
   ]
  },
  {
   "cell_type": "code",
   "execution_count": 62,
   "metadata": {},
   "outputs": [],
   "source": [
    "df['RequiredQual'] = df['RequiredQual'].apply(lambda x: re.sub(pattern_email, '', x))"
   ]
  },
  {
   "cell_type": "code",
   "execution_count": 63,
   "metadata": {},
   "outputs": [],
   "source": [
    "df['RequiredQual'] = df['RequiredQual'].apply(lambda x: re.sub(pattern_web, '', x))"
   ]
  },
  {
   "cell_type": "code",
   "execution_count": 64,
   "metadata": {},
   "outputs": [],
   "source": [
    "df['RequiredQual'] = df['RequiredQual'].apply(lambda x: x.replace(\"/\", ' '))"
   ]
  },
  {
   "cell_type": "markdown",
   "metadata": {},
   "source": [
    "## Clustering similar terms"
   ]
  },
  {
   "cell_type": "code",
   "execution_count": 65,
   "metadata": {},
   "outputs": [],
   "source": [
    "from sklearn.feature_extraction.text import TfidfVectorizer"
   ]
  },
  {
   "cell_type": "code",
   "execution_count": 66,
   "metadata": {},
   "outputs": [],
   "source": [
    "from sklearn.cluster import KMeans"
   ]
  },
  {
   "cell_type": "markdown",
   "metadata": {},
   "source": [
    "### Creating Tfidf vector of the column 'RequiredQual' since it's our point of interest"
   ]
  },
  {
   "cell_type": "code",
   "execution_count": 67,
   "metadata": {},
   "outputs": [],
   "source": [
    "tfidf2 = TfidfVectorizer(max_df=0.7, min_df=3, stop_words=list(nlp.Defaults.stop_words), preprocessor=preprocessing)"
   ]
  },
  {
   "cell_type": "code",
   "execution_count": 68,
   "metadata": {},
   "outputs": [
    {
     "name": "stderr",
     "output_type": "stream",
     "text": [
      "C:\\Users\\Abhishek\\Anaconda3\\lib\\site-packages\\sklearn\\feature_extraction\\text.py:385: UserWarning: Your stop_words may be inconsistent with your preprocessing. Tokenizing the stop words generated tokens ['ll', 've'] not in stop_words.\n",
      "  'stop_words.' % sorted(inconsistent))\n"
     ]
    },
    {
     "data": {
      "text/plain": [
       "TfidfVectorizer(analyzer='word', binary=False, decode_error='strict',\n",
       "                dtype=<class 'numpy.float64'>, encoding='utf-8',\n",
       "                input='content', lowercase=True, max_df=0.7, max_features=None,\n",
       "                min_df=3, ngram_range=(1, 1), norm='l2',\n",
       "                preprocessor=<function preprocessing at 0x000001F8E1371EA0>,\n",
       "                smooth_idf=True,\n",
       "                stop_words=['up', 'last', '’ve', 'front', 'formerly', 'amount',\n",
       "                            'why', 'somehow', 'itself', 'hereupon', 'made',\n",
       "                            'n‘t', 'your', 'thereafter', 'beyond', 'various',\n",
       "                            'n’t', 'four', 'it', 'cannot', 'someone', 'and',\n",
       "                            'since', 'whenever', 'doing', '’s', 'when', 'not',\n",
       "                            'twenty', 'her', ...],\n",
       "                strip_accents=None, sublinear_tf=False,\n",
       "                token_pattern='(?u)\\\\b\\\\w\\\\w+\\\\b', tokenizer=None, use_idf=True,\n",
       "                vocabulary=None)"
      ]
     },
     "execution_count": 68,
     "metadata": {},
     "output_type": "execute_result"
    }
   ],
   "source": [
    "tfidf2.fit(df['RequiredQual'])"
   ]
  },
  {
   "cell_type": "code",
   "execution_count": 69,
   "metadata": {},
   "outputs": [],
   "source": [
    "tfid_qual = tfidf2.transform(df['RequiredQual'])"
   ]
  },
  {
   "cell_type": "markdown",
   "metadata": {},
   "source": [
    "### Creating an object km of KMeans()"
   ]
  },
  {
   "cell_type": "code",
   "execution_count": 70,
   "metadata": {},
   "outputs": [],
   "source": [
    "km = KMeans(n_clusters=7, random_state=42)"
   ]
  },
  {
   "cell_type": "code",
   "execution_count": 71,
   "metadata": {},
   "outputs": [
    {
     "data": {
      "text/plain": [
       "KMeans(algorithm='auto', copy_x=True, init='k-means++', max_iter=300,\n",
       "       n_clusters=7, n_init=10, n_jobs=None, precompute_distances='auto',\n",
       "       random_state=42, tol=0.0001, verbose=0)"
      ]
     },
     "execution_count": 71,
     "metadata": {},
     "output_type": "execute_result"
    }
   ],
   "source": [
    "km.fit(tfid_qual)"
   ]
  },
  {
   "cell_type": "code",
   "execution_count": 72,
   "metadata": {},
   "outputs": [],
   "source": [
    "predictions = km.predict(tfid_qual)"
   ]
  },
  {
   "cell_type": "code",
   "execution_count": 73,
   "metadata": {},
   "outputs": [
    {
     "data": {
      "text/plain": [
       "array([4, 2, 2, ..., 0, 0, 3])"
      ]
     },
     "execution_count": 73,
     "metadata": {},
     "output_type": "execute_result"
    }
   ],
   "source": [
    "predictions"
   ]
  },
  {
   "cell_type": "markdown",
   "metadata": {},
   "source": [
    "## Checking the Silhouette Score"
   ]
  },
  {
   "cell_type": "code",
   "execution_count": 74,
   "metadata": {},
   "outputs": [],
   "source": [
    "from sklearn.metrics import silhouette_score"
   ]
  },
  {
   "cell_type": "code",
   "execution_count": 75,
   "metadata": {},
   "outputs": [],
   "source": [
    "score = silhouette_score(tfid_qual, predictions)"
   ]
  },
  {
   "cell_type": "code",
   "execution_count": 76,
   "metadata": {},
   "outputs": [
    {
     "data": {
      "text/plain": [
       "0.015084793870435225"
      ]
     },
     "execution_count": 76,
     "metadata": {},
     "output_type": "execute_result"
    }
   ],
   "source": [
    "score"
   ]
  },
  {
   "cell_type": "markdown",
   "metadata": {},
   "source": [
    "### Sorting the clusters"
   ]
  },
  {
   "cell_type": "code",
   "execution_count": 77,
   "metadata": {},
   "outputs": [],
   "source": [
    "order_centroids = km.cluster_centers_.argsort()[:, ::-1]"
   ]
  },
  {
   "cell_type": "code",
   "execution_count": 78,
   "metadata": {},
   "outputs": [],
   "source": [
    "terms = tfidf2.get_feature_names()"
   ]
  },
  {
   "cell_type": "code",
   "execution_count": 79,
   "metadata": {},
   "outputs": [],
   "source": [
    "# for i in range(7):\n",
    "#     print(f'Cluster {i}:')\n",
    "#     for ind in order_centroids[i, :10]:\n",
    "#         print(f'{terms[ind]}')\n",
    "#     print('\\n')"
   ]
  },
  {
   "cell_type": "code",
   "execution_count": 80,
   "metadata": {},
   "outputs": [],
   "source": [
    "clusters = []\n",
    "for i in range(7):\n",
    "    for ind in order_centroids[i, :10]:\n",
    "        clusters.append((i, terms[ind]))"
   ]
  },
  {
   "cell_type": "code",
   "execution_count": 81,
   "metadata": {},
   "outputs": [],
   "source": [
    "first_cluster = [x[1] for x in clusters if x[0] == 0]\n",
    "second_cluster = [x[1] for x in clusters if x[0] == 1]\n",
    "third_cluster = [x[1] for x in clusters if x[0] == 2]\n",
    "fourth_cluster = [x[1] for x in clusters if x[0] == 3]\n",
    "fifth_cluster = [x[1] for x in clusters if x[0] == 4]\n",
    "sixth_cluster = [x[1] for x in clusters if x[0] == 5]\n",
    "seventh_cluster = [x[1] for x in clusters if x[0] == 6]"
   ]
  },
  {
   "cell_type": "code",
   "execution_count": 82,
   "metadata": {},
   "outputs": [],
   "source": [
    "all_cluster_terms = [first_cluster, second_cluster, third_cluster, fourth_cluster, fifth_cluster, sixth_cluster, seventh_cluster]"
   ]
  },
  {
   "cell_type": "markdown",
   "metadata": {},
   "source": [
    "### Check all the terms in all the 7 clusters"
   ]
  },
  {
   "cell_type": "code",
   "execution_count": 83,
   "metadata": {},
   "outputs": [
    {
     "name": "stdout",
     "output_type": "stream",
     "text": [
      "Cluster 1:\n",
      "\n",
      "\n",
      "['ability', 'management', 'work', 'excellent', 'strong', 'degree', 'international', 'years', 'written', 'business']\n",
      "\n",
      "\n",
      "Cluster 2:\n",
      "\n",
      "\n",
      "['excellent', 'work', 'university', 'russian', 'languages', 'degree', 'ability', 'good', 'communication', 'ms']\n",
      "\n",
      "\n",
      "Cluster 3:\n",
      "\n",
      "\n",
      "['language', 'good', 'work', 'ability', 'degree', 'years', 'plus', 'languages', 'field', 'computer']\n",
      "\n",
      "\n",
      "Cluster 4:\n",
      "\n",
      "\n",
      "['higher', 'education', 'work', 'excellent', 'russian', 'languages', 'ability', 'good', 'computer', 'field']\n",
      "\n",
      "\n",
      "Cluster 5:\n",
      "\n",
      "\n",
      "['accounting', 'finance', 'tax', 'work', 'financial', 'standards', 'legislation', 'excellent', 'good', 'software']\n",
      "\n",
      "\n",
      "Cluster 6:\n",
      "\n",
      "\n",
      "['testing', 'development', 'software', 'programming', 'ability', 'design', 'good', 'linux', 'plus', 'test']\n",
      "\n",
      "\n",
      "Cluster 7:\n",
      "\n",
      "\n",
      "['sql', 'web', 'development', 'good', 'javascript', 'work', 'server', 'java', 'html', 'php']\n",
      "\n",
      "\n"
     ]
    }
   ],
   "source": [
    "for i, terms_cluster in enumerate(all_cluster_terms):\n",
    "    print(f'Cluster {i+1}:')\n",
    "    print('\\n')\n",
    "    print(terms_cluster)\n",
    "    print('\\n')"
   ]
  },
  {
   "cell_type": "code",
   "execution_count": 84,
   "metadata": {},
   "outputs": [
    {
     "data": {
      "text/plain": [
       "'ability management work excellent strong degree international years written business'"
      ]
     },
     "execution_count": 84,
     "metadata": {},
     "output_type": "execute_result"
    }
   ],
   "source": [
    "' '.join(all_cluster_terms[0])"
   ]
  },
  {
   "cell_type": "markdown",
   "metadata": {},
   "source": [
    "### Creating a df_clusters data frame"
   ]
  },
  {
   "cell_type": "code",
   "execution_count": 85,
   "metadata": {},
   "outputs": [],
   "source": [
    "df_clusters = pd.DataFrame()"
   ]
  },
  {
   "cell_type": "code",
   "execution_count": 86,
   "metadata": {},
   "outputs": [],
   "source": [
    "df_clusters['Cluster number'] = [1, 2, 3, 4, 5, 6, 7]"
   ]
  },
  {
   "cell_type": "code",
   "execution_count": 87,
   "metadata": {},
   "outputs": [],
   "source": [
    "df_clusters['Terms'] = [' '.join(x) for x in all_cluster_terms]"
   ]
  },
  {
   "cell_type": "markdown",
   "metadata": {},
   "source": [
    "### Mapping the interpreted cluster names to their numbers"
   ]
  },
  {
   "cell_type": "code",
   "execution_count": 88,
   "metadata": {},
   "outputs": [],
   "source": [
    "cluster_map = {6: 'IT operations', 1: 'Project management', 3: 'Marketing and Sales', 5: 'Accounting and finance',\n",
    "               2: 'Communication', 7: 'IT application development', 4: 'Higher education and language'}"
   ]
  },
  {
   "cell_type": "code",
   "execution_count": 89,
   "metadata": {},
   "outputs": [],
   "source": [
    "df_clusters['Interpretation'] = df_clusters['Cluster number'].map(cluster_map)"
   ]
  },
  {
   "cell_type": "markdown",
   "metadata": {},
   "source": [
    "## Interpretation of required qualification clusters over every job postings"
   ]
  },
  {
   "cell_type": "code",
   "execution_count": 90,
   "metadata": {},
   "outputs": [
    {
     "data": {
      "text/html": [
       "<style  type=\"text/css\" >\n",
       "    #T_7ef1304a_7a47_11ea_9c13_b8819875525arow0_col1 {\n",
       "            width:  300px;\n",
       "        }    #T_7ef1304a_7a47_11ea_9c13_b8819875525arow1_col1 {\n",
       "            width:  300px;\n",
       "        }    #T_7ef1304a_7a47_11ea_9c13_b8819875525arow2_col1 {\n",
       "            width:  300px;\n",
       "        }    #T_7ef1304a_7a47_11ea_9c13_b8819875525arow3_col1 {\n",
       "            width:  300px;\n",
       "        }    #T_7ef1304a_7a47_11ea_9c13_b8819875525arow4_col1 {\n",
       "            width:  300px;\n",
       "        }    #T_7ef1304a_7a47_11ea_9c13_b8819875525arow5_col1 {\n",
       "            width:  300px;\n",
       "        }    #T_7ef1304a_7a47_11ea_9c13_b8819875525arow6_col1 {\n",
       "            width:  300px;\n",
       "        }</style><table id=\"T_7ef1304a_7a47_11ea_9c13_b8819875525a\" ><thead>    <tr>        <th class=\"blank level0\" ></th>        <th class=\"col_heading level0 col0\" >Cluster number</th>        <th class=\"col_heading level0 col1\" >Terms</th>        <th class=\"col_heading level0 col2\" >Interpretation</th>    </tr></thead><tbody>\n",
       "                <tr>\n",
       "                        <th id=\"T_7ef1304a_7a47_11ea_9c13_b8819875525alevel0_row0\" class=\"row_heading level0 row0\" >0</th>\n",
       "                        <td id=\"T_7ef1304a_7a47_11ea_9c13_b8819875525arow0_col0\" class=\"data row0 col0\" >1</td>\n",
       "                        <td id=\"T_7ef1304a_7a47_11ea_9c13_b8819875525arow0_col1\" class=\"data row0 col1\" >ability management work excellent strong degree international years written business</td>\n",
       "                        <td id=\"T_7ef1304a_7a47_11ea_9c13_b8819875525arow0_col2\" class=\"data row0 col2\" >Project management</td>\n",
       "            </tr>\n",
       "            <tr>\n",
       "                        <th id=\"T_7ef1304a_7a47_11ea_9c13_b8819875525alevel0_row1\" class=\"row_heading level0 row1\" >1</th>\n",
       "                        <td id=\"T_7ef1304a_7a47_11ea_9c13_b8819875525arow1_col0\" class=\"data row1 col0\" >2</td>\n",
       "                        <td id=\"T_7ef1304a_7a47_11ea_9c13_b8819875525arow1_col1\" class=\"data row1 col1\" >excellent work university russian languages degree ability good communication ms</td>\n",
       "                        <td id=\"T_7ef1304a_7a47_11ea_9c13_b8819875525arow1_col2\" class=\"data row1 col2\" >Communication</td>\n",
       "            </tr>\n",
       "            <tr>\n",
       "                        <th id=\"T_7ef1304a_7a47_11ea_9c13_b8819875525alevel0_row2\" class=\"row_heading level0 row2\" >2</th>\n",
       "                        <td id=\"T_7ef1304a_7a47_11ea_9c13_b8819875525arow2_col0\" class=\"data row2 col0\" >3</td>\n",
       "                        <td id=\"T_7ef1304a_7a47_11ea_9c13_b8819875525arow2_col1\" class=\"data row2 col1\" >language good work ability degree years plus languages field computer</td>\n",
       "                        <td id=\"T_7ef1304a_7a47_11ea_9c13_b8819875525arow2_col2\" class=\"data row2 col2\" >Marketing and Sales</td>\n",
       "            </tr>\n",
       "            <tr>\n",
       "                        <th id=\"T_7ef1304a_7a47_11ea_9c13_b8819875525alevel0_row3\" class=\"row_heading level0 row3\" >3</th>\n",
       "                        <td id=\"T_7ef1304a_7a47_11ea_9c13_b8819875525arow3_col0\" class=\"data row3 col0\" >4</td>\n",
       "                        <td id=\"T_7ef1304a_7a47_11ea_9c13_b8819875525arow3_col1\" class=\"data row3 col1\" >higher education work excellent russian languages ability good computer field</td>\n",
       "                        <td id=\"T_7ef1304a_7a47_11ea_9c13_b8819875525arow3_col2\" class=\"data row3 col2\" >Higher education and language</td>\n",
       "            </tr>\n",
       "            <tr>\n",
       "                        <th id=\"T_7ef1304a_7a47_11ea_9c13_b8819875525alevel0_row4\" class=\"row_heading level0 row4\" >4</th>\n",
       "                        <td id=\"T_7ef1304a_7a47_11ea_9c13_b8819875525arow4_col0\" class=\"data row4 col0\" >5</td>\n",
       "                        <td id=\"T_7ef1304a_7a47_11ea_9c13_b8819875525arow4_col1\" class=\"data row4 col1\" >accounting finance tax work financial standards legislation excellent good software</td>\n",
       "                        <td id=\"T_7ef1304a_7a47_11ea_9c13_b8819875525arow4_col2\" class=\"data row4 col2\" >Accounting and finance</td>\n",
       "            </tr>\n",
       "            <tr>\n",
       "                        <th id=\"T_7ef1304a_7a47_11ea_9c13_b8819875525alevel0_row5\" class=\"row_heading level0 row5\" >5</th>\n",
       "                        <td id=\"T_7ef1304a_7a47_11ea_9c13_b8819875525arow5_col0\" class=\"data row5 col0\" >6</td>\n",
       "                        <td id=\"T_7ef1304a_7a47_11ea_9c13_b8819875525arow5_col1\" class=\"data row5 col1\" >testing development software programming ability design good linux plus test</td>\n",
       "                        <td id=\"T_7ef1304a_7a47_11ea_9c13_b8819875525arow5_col2\" class=\"data row5 col2\" >IT operations</td>\n",
       "            </tr>\n",
       "            <tr>\n",
       "                        <th id=\"T_7ef1304a_7a47_11ea_9c13_b8819875525alevel0_row6\" class=\"row_heading level0 row6\" >6</th>\n",
       "                        <td id=\"T_7ef1304a_7a47_11ea_9c13_b8819875525arow6_col0\" class=\"data row6 col0\" >7</td>\n",
       "                        <td id=\"T_7ef1304a_7a47_11ea_9c13_b8819875525arow6_col1\" class=\"data row6 col1\" >sql web development good javascript work server java html php</td>\n",
       "                        <td id=\"T_7ef1304a_7a47_11ea_9c13_b8819875525arow6_col2\" class=\"data row6 col2\" >IT application development</td>\n",
       "            </tr>\n",
       "    </tbody></table>"
      ],
      "text/plain": [
       "<pandas.io.formats.style.Styler at 0x1f9143b6ac8>"
      ]
     },
     "execution_count": 90,
     "metadata": {},
     "output_type": "execute_result"
    }
   ],
   "source": [
    "df_clusters.style.set_properties(subset=['Terms'], **{'width': '300px'})"
   ]
  },
  {
   "cell_type": "markdown",
   "metadata": {},
   "source": [
    "# Named Entity Recognition"
   ]
  },
  {
   "cell_type": "code",
   "execution_count": 91,
   "metadata": {},
   "outputs": [],
   "source": [
    "from spacy import displacy"
   ]
  },
  {
   "cell_type": "code",
   "execution_count": 92,
   "metadata": {},
   "outputs": [],
   "source": [
    "import warnings\n",
    "warnings.simplefilter('ignore')"
   ]
  },
  {
   "cell_type": "markdown",
   "metadata": {},
   "source": [
    "### Randomly checking entities from text in 'RequiredQual'"
   ]
  },
  {
   "cell_type": "code",
   "execution_count": 93,
   "metadata": {},
   "outputs": [
    {
     "data": {
      "text/html": [
       "<div class=\"entities\" style=\"line-height: 2.5; direction: ltr\"> - An undergraduate degree in finance, business, or other related discipline is required.</div>"
      ],
      "text/plain": [
       "<IPython.core.display.HTML object>"
      ]
     },
     "metadata": {},
     "output_type": "display_data"
    },
    {
     "data": {
      "text/html": [
       "<div class=\"entities\" style=\"line-height: 2.5; direction: ltr\">A CPA, \n",
       "<mark class=\"entity\" style=\"background: #7aecec; padding: 0.45em 0.6em; margin: 0 0.25em; line-height: 1; border-radius: 0.35em;\">\n",
       "    CFA\n",
       "    <span style=\"font-size: 0.8em; font-weight: bold; line-height: 1; border-radius: 0.35em; text-transform: uppercase; vertical-align: middle; margin-left: 0.5rem\">ORG</span>\n",
       "</mark>\n",
       ", \n",
       "<mark class=\"entity\" style=\"background: #7aecec; padding: 0.45em 0.6em; margin: 0 0.25em; line-height: 1; border-radius: 0.35em;\">\n",
       "    ACCA\n",
       "    <span style=\"font-size: 0.8em; font-weight: bold; line-height: 1; border-radius: 0.35em; text-transform: uppercase; vertical-align: middle; margin-left: 0.5rem\">ORG</span>\n",
       "</mark>\n",
       " or other financial certification is highly preferred, as is a Masters degree in \n",
       "<mark class=\"entity\" style=\"background: #7aecec; padding: 0.45em 0.6em; margin: 0 0.25em; line-height: 1; border-radius: 0.35em;\">\n",
       "    Business Administration\n",
       "    <span style=\"font-size: 0.8em; font-weight: bold; line-height: 1; border-radius: 0.35em; text-transform: uppercase; vertical-align: middle; margin-left: 0.5rem\">ORG</span>\n",
       "</mark>\n",
       ", \n",
       "<mark class=\"entity\" style=\"background: #7aecec; padding: 0.45em 0.6em; margin: 0 0.25em; line-height: 1; border-radius: 0.35em;\">\n",
       "    Accounting or Finance\n",
       "    <span style=\"font-size: 0.8em; font-weight: bold; line-height: 1; border-radius: 0.35em; text-transform: uppercase; vertical-align: middle; margin-left: 0.5rem\">ORG</span>\n",
       "</mark>\n",
       "; - Fluency in \n",
       "<mark class=\"entity\" style=\"background: #ff8197; padding: 0.45em 0.6em; margin: 0 0.25em; line-height: 1; border-radius: 0.35em;\">\n",
       "    English\n",
       "    <span style=\"font-size: 0.8em; font-weight: bold; line-height: 1; border-radius: 0.35em; text-transform: uppercase; vertical-align: middle; margin-left: 0.5rem\">LANGUAGE</span>\n",
       "</mark>\n",
       ", \n",
       "<mark class=\"entity\" style=\"background: #ff8197; padding: 0.45em 0.6em; margin: 0 0.25em; line-height: 1; border-radius: 0.35em;\">\n",
       "    Armenian\n",
       "    <span style=\"font-size: 0.8em; font-weight: bold; line-height: 1; border-radius: 0.35em; text-transform: uppercase; vertical-align: middle; margin-left: 0.5rem\">LANGUAGE</span>\n",
       "</mark>\n",
       " and \n",
       "<mark class=\"entity\" style=\"background: #ff8197; padding: 0.45em 0.6em; margin: 0 0.25em; line-height: 1; border-radius: 0.35em;\">\n",
       "    Russian\n",
       "    <span style=\"font-size: 0.8em; font-weight: bold; line-height: 1; border-radius: 0.35em; text-transform: uppercase; vertical-align: middle; margin-left: 0.5rem\">LANGUAGE</span>\n",
       "</mark>\n",
       " with outstanding writing skills; - Excellent analytical, communication, teamwork, interpersonal skills; - Need to be well organized and detail-oriented as well as goal  </div>"
      ],
      "text/plain": [
       "<IPython.core.display.HTML object>"
      ]
     },
     "metadata": {},
     "output_type": "display_data"
    },
    {
     "data": {
      "text/html": [
       "<div class=\"entities\" style=\"line-height: 2.5; direction: ltr\">result driven and able to deal with complex issues.</div>"
      ],
      "text/plain": [
       "<IPython.core.display.HTML object>"
      ]
     },
     "metadata": {},
     "output_type": "display_data"
    }
   ],
   "source": [
    "for i in nlp(df['RequiredQual'][0][-498:]).sents:\n",
    "    displacy.render(nlp(i.text), style='ent', jupyter=True)"
   ]
  },
  {
   "cell_type": "code",
   "execution_count": 94,
   "metadata": {},
   "outputs": [
    {
     "data": {
      "text/plain": [
       "18892"
      ]
     },
     "execution_count": 94,
     "metadata": {},
     "output_type": "execute_result"
    }
   ],
   "source": [
    "len(df['RequiredQual'])"
   ]
  },
  {
   "cell_type": "markdown",
   "metadata": {},
   "source": [
    "### Creating a dictionary org_ents of unique words (entity = ORG) and their frequencies"
   ]
  },
  {
   "cell_type": "code",
   "execution_count": 95,
   "metadata": {},
   "outputs": [],
   "source": [
    "org_ents = {}\n",
    "# count = 0\n",
    "for doc in df['RequiredQual']:\n",
    "    if nlp(doc).ents:\n",
    "        for ent in nlp(doc).ents:\n",
    "            if ent.label_ == 'ORG':\n",
    "                if ent.text not in org_ents.keys():\n",
    "                    org_ents[ent.text] = 1\n",
    "                elif ent.text in org_ents.keys():\n",
    "                    org_ents[ent.text] += 1"
   ]
  },
  {
   "cell_type": "markdown",
   "metadata": {},
   "source": [
    "## Word Cloud of Top ORG entities"
   ]
  },
  {
   "cell_type": "code",
   "execution_count": 96,
   "metadata": {},
   "outputs": [
    {
     "data": {
      "text/plain": [
       "<matplotlib.image.AxesImage at 0x1f8ee99f710>"
      ]
     },
     "execution_count": 96,
     "metadata": {},
     "output_type": "execute_result"
    },
    {
     "data": {
      "image/png": "[encoded data removed]",
      "text/plain": [
       "<Figure size 1080x360 with 1 Axes>"
      ]
     },
     "metadata": {
      "needs_background": "light"
     },
     "output_type": "display_data"
    }
   ],
   "source": [
    "wc2 = WordCloud(background_color=\"white\", width=600, height=400, relative_scaling=0.5, normalize_plurals=False).generate_from_frequencies(org_ents)\n",
    "plt.figure(figsize=(15,5))\n",
    "plt.axis(\"off\")\n",
    "plt.tight_layout(pad=0)\n",
    "plt.imshow(wc2)"
   ]
  },
  {
   "cell_type": "markdown",
   "metadata": {},
   "source": [
    "# Topic Modelling"
   ]
  },
  {
   "cell_type": "markdown",
   "metadata": {},
   "source": [
    "### pos_filter() takes text as input and returns the text who's part-of-speech is either a noun or a verb"
   ]
  },
  {
   "cell_type": "code",
   "execution_count": 97,
   "metadata": {},
   "outputs": [],
   "source": [
    "def pos_filter(text):\n",
    "    lst = []\n",
    "    for i in nlp(text):\n",
    "        if (i.pos_ == 'NOUN') | (i.pos_ == 'VERB'):\n",
    "            lst.append(i.text)\n",
    "    return ' '.join(lst)"
   ]
  },
  {
   "cell_type": "code",
   "execution_count": 98,
   "metadata": {},
   "outputs": [],
   "source": [
    "pos_verbnoun = df['RequiredQual'].apply(pos_filter)"
   ]
  },
  {
   "cell_type": "code",
   "execution_count": 99,
   "metadata": {},
   "outputs": [],
   "source": [
    "tfidf3 = TfidfVectorizer(max_df=0.7, min_df=3, stop_words=list(nlp.Defaults.stop_words), preprocessor=preprocessing)"
   ]
  },
  {
   "cell_type": "code",
   "execution_count": 100,
   "metadata": {},
   "outputs": [
    {
     "data": {
      "text/plain": [
       "TfidfVectorizer(analyzer='word', binary=False, decode_error='strict',\n",
       "                dtype=<class 'numpy.float64'>, encoding='utf-8',\n",
       "                input='content', lowercase=True, max_df=0.7, max_features=None,\n",
       "                min_df=3, ngram_range=(1, 1), norm='l2',\n",
       "                preprocessor=<function preprocessing at 0x000001F8E1371EA0>,\n",
       "                smooth_idf=True,\n",
       "                stop_words=['up', 'last', '’ve', 'front', 'formerly', 'amount',\n",
       "                            'why', 'somehow', 'itself', 'hereupon', 'made',\n",
       "                            'n‘t', 'your', 'thereafter', 'beyond', 'various',\n",
       "                            'n’t', 'four', 'it', 'cannot', 'someone', 'and',\n",
       "                            'since', 'whenever', 'doing', '’s', 'when', 'not',\n",
       "                            'twenty', 'her', ...],\n",
       "                strip_accents=None, sublinear_tf=False,\n",
       "                token_pattern='(?u)\\\\b\\\\w\\\\w+\\\\b', tokenizer=None, use_idf=True,\n",
       "                vocabulary=None)"
      ]
     },
     "execution_count": 100,
     "metadata": {},
     "output_type": "execute_result"
    }
   ],
   "source": [
    "tfidf3.fit(pos_verbnoun)"
   ]
  },
  {
   "cell_type": "code",
   "execution_count": 101,
   "metadata": {},
   "outputs": [],
   "source": [
    "pos_verbnoun_tfidf = tfidf3.transform(pos_verbnoun)"
   ]
  },
  {
   "cell_type": "markdown",
   "metadata": {},
   "source": [
    "## Non-Matrix Factorization"
   ]
  },
  {
   "cell_type": "code",
   "execution_count": 102,
   "metadata": {},
   "outputs": [],
   "source": [
    "from sklearn.decomposition import NMF\n",
    "nmf_model = NMF(n_components=7)"
   ]
  },
  {
   "cell_type": "code",
   "execution_count": 103,
   "metadata": {},
   "outputs": [
    {
     "data": {
      "text/plain": [
       "NMF(alpha=0.0, beta_loss='frobenius', init=None, l1_ratio=0.0, max_iter=200,\n",
       "    n_components=7, random_state=None, shuffle=False, solver='cd', tol=0.0001,\n",
       "    verbose=0)"
      ]
     },
     "execution_count": 103,
     "metadata": {},
     "output_type": "execute_result"
    }
   ],
   "source": [
    "nmf_model.fit(pos_verbnoun_tfidf)"
   ]
  },
  {
   "cell_type": "code",
   "execution_count": 104,
   "metadata": {},
   "outputs": [
    {
     "name": "stdout",
     "output_type": "stream",
     "text": [
      "THE TOP 12 WORDS FOR TOPIC 0\n",
      "\n",
      "['problem', 'time', 'player', 'communication', 'deadlines', 'sense', 'responsibility', 'personality', 'team', 'pressure', 'work', 'ability']\n",
      "\n",
      "\n",
      "THE TOP 12 WORDS FOR TOPIC 1\n",
      "\n",
      "['understanding', 'applications', 'database', 'plus', 'testing', 'years', 'technologies', 'design', 'programming', 'web', 'software', 'development']\n",
      "\n",
      "\n",
      "THE TOP 12 WORDS FOR TOPIC 2\n",
      "\n",
      "['accountant', 'year', 'laws', 'regulations', 'years', 'standards', 'software', 'tax', 'finance', 'legislation', 'banking', 'accounting']\n",
      "\n",
      "\n",
      "THE TOP 12 WORDS FOR TOPIC 3\n",
      "\n",
      "['minimum', 'license', 'driving', 'year', 'communication', 'years', 'work', 'literacy', 'field', 'languages', 'computer', 'education']\n",
      "\n",
      "\n",
      "THE TOP 12 WORDS FOR TOPIC 4\n",
      "\n",
      "['marketing', 'sales', 'year', 'plus', 'communication', 'work', 'computer', 'years', 'languages', 'field', 'degree', 'university']\n",
      "\n",
      "\n",
      "THE TOP 12 WORDS FOR TOPIC 5\n",
      "\n",
      "['communication', 'projects', 'writing', 'proven', 'including', 'preferred', 'working', 'project', 'written', 'ability', 'business', 'management']\n",
      "\n",
      "\n",
      "THE TOP 12 WORDS FOR TOPIC 6\n",
      "\n",
      "['complete', 'preferred', 'mail', 'learn', 'spoken', 'fluency', 'internet', 'plus', 'communication', 'written', 'advantage', 'language']\n",
      "\n",
      "\n"
     ]
    }
   ],
   "source": [
    "for index, topic in enumerate(nmf_model.components_):\n",
    "    print(f'THE TOP 12 WORDS FOR TOPIC {index}\\n')\n",
    "    print([tfidf3.get_feature_names()[i] for i in topic.argsort()[-12:]])\n",
    "    print('\\n')"
   ]
  },
  {
   "cell_type": "code",
   "execution_count": 105,
   "metadata": {},
   "outputs": [
    {
     "data": {
      "text/plain": [
       "(18892, 4006)"
      ]
     },
     "execution_count": 105,
     "metadata": {},
     "output_type": "execute_result"
    }
   ],
   "source": [
    "pos_verbnoun_tfidf.shape"
   ]
  },
  {
   "cell_type": "code",
   "execution_count": 106,
   "metadata": {},
   "outputs": [
    {
     "data": {
      "text/plain": [
       "(18892,)"
      ]
     },
     "execution_count": 106,
     "metadata": {},
     "output_type": "execute_result"
    }
   ],
   "source": [
    "df['RequiredQual'].shape"
   ]
  },
  {
   "cell_type": "markdown",
   "metadata": {},
   "source": [
    "## Attaching discovered Topic Labels to the Original Article"
   ]
  },
  {
   "cell_type": "code",
   "execution_count": 107,
   "metadata": {},
   "outputs": [],
   "source": [
    "topic_results = nmf_model.transform(pos_verbnoun_tfidf)"
   ]
  },
  {
   "cell_type": "code",
   "execution_count": 108,
   "metadata": {},
   "outputs": [
    {
     "data": {
      "text/plain": [
       "array([2, 0, 4, ..., 5, 5, 0], dtype=int64)"
      ]
     },
     "execution_count": 108,
     "metadata": {},
     "output_type": "execute_result"
    }
   ],
   "source": [
    "topic_results.argmax(axis=1)"
   ]
  },
  {
   "cell_type": "code",
   "execution_count": 109,
   "metadata": {},
   "outputs": [],
   "source": [
    "df['Topic'] = topic_results.argmax(axis=1)"
   ]
  },
  {
   "cell_type": "markdown",
   "metadata": {},
   "source": [
    "## Mapping the Topic numbers to their deduced Labels"
   ]
  },
  {
   "cell_type": "code",
   "execution_count": 110,
   "metadata": {},
   "outputs": [],
   "source": [
    "map_topic = {0: 'Project Management and Development', 1: 'Software Development', 2: 'Banking and Finance',\n",
    "             3: 'Education and Training', 4: 'Sales and Marketing', 5: 'Business Development and Management',\n",
    "             6: 'Communication'}"
   ]
  },
  {
   "cell_type": "code",
   "execution_count": 111,
   "metadata": {},
   "outputs": [],
   "source": [
    "df['Topic'] = df['Topic'].map(map_topic)"
   ]
  },
  {
   "cell_type": "code",
   "execution_count": 112,
   "metadata": {},
   "outputs": [
    {
     "data": {
      "text/html": [
       "<div>\n",
       "<style scoped>\n",
       "    .dataframe tbody tr th:only-of-type {\n",
       "        vertical-align: middle;\n",
       "    }\n",
       "\n",
       "    .dataframe tbody tr th {\n",
       "        vertical-align: top;\n",
       "    }\n",
       "\n",
       "    .dataframe thead th {\n",
       "        text-align: right;\n",
       "    }\n",
       "</style>\n",
       "<table border=\"1\" class=\"dataframe\">\n",
       "  <thead>\n",
       "    <tr style=\"text-align: right;\">\n",
       "      <th></th>\n",
       "      <th>Title</th>\n",
       "      <th>Topic</th>\n",
       "    </tr>\n",
       "  </thead>\n",
       "  <tbody>\n",
       "    <tr>\n",
       "      <th>12335</th>\n",
       "      <td>Food and Beverage Manager</td>\n",
       "      <td>Business Development and Management</td>\n",
       "    </tr>\n",
       "    <tr>\n",
       "      <th>7521</th>\n",
       "      <td>Senior Accountant</td>\n",
       "      <td>Banking and Finance</td>\n",
       "    </tr>\n",
       "    <tr>\n",
       "      <th>9283</th>\n",
       "      <td>Administration Officer</td>\n",
       "      <td>Banking and Finance</td>\n",
       "    </tr>\n",
       "    <tr>\n",
       "      <th>7110</th>\n",
       "      <td>Sales Trainer</td>\n",
       "      <td>Sales and Marketing</td>\n",
       "    </tr>\n",
       "    <tr>\n",
       "      <th>724</th>\n",
       "      <td>Guide</td>\n",
       "      <td>Communication</td>\n",
       "    </tr>\n",
       "    <tr>\n",
       "      <th>12091</th>\n",
       "      <td>Assets and Liabilities Management Unit Specialist</td>\n",
       "      <td>Banking and Finance</td>\n",
       "    </tr>\n",
       "    <tr>\n",
       "      <th>17964</th>\n",
       "      <td>Senior PHP Developer</td>\n",
       "      <td>Software Development</td>\n",
       "    </tr>\n",
       "    <tr>\n",
       "      <th>4375</th>\n",
       "      <td>Senior QA Engineer</td>\n",
       "      <td>Software Development</td>\n",
       "    </tr>\n",
       "    <tr>\n",
       "      <th>1074</th>\n",
       "      <td>Secretary</td>\n",
       "      <td>Education and Training</td>\n",
       "    </tr>\n",
       "    <tr>\n",
       "      <th>5983</th>\n",
       "      <td>Technical Writer</td>\n",
       "      <td>Communication</td>\n",
       "    </tr>\n",
       "  </tbody>\n",
       "</table>\n",
       "</div>"
      ],
      "text/plain": [
       "                                                   Title  \\\n",
       "12335                          Food and Beverage Manager   \n",
       "7521                                   Senior Accountant   \n",
       "9283                              Administration Officer   \n",
       "7110                                       Sales Trainer   \n",
       "724                                                Guide   \n",
       "12091  Assets and Liabilities Management Unit Specialist   \n",
       "17964                               Senior PHP Developer   \n",
       "4375                                  Senior QA Engineer   \n",
       "1074                                           Secretary   \n",
       "5983                                    Technical Writer   \n",
       "\n",
       "                                     Topic  \n",
       "12335  Business Development and Management  \n",
       "7521                   Banking and Finance  \n",
       "9283                   Banking and Finance  \n",
       "7110                   Sales and Marketing  \n",
       "724                          Communication  \n",
       "12091                  Banking and Finance  \n",
       "17964                 Software Development  \n",
       "4375                  Software Development  \n",
       "1074                Education and Training  \n",
       "5983                         Communication  "
      ]
     },
     "execution_count": 112,
     "metadata": {},
     "output_type": "execute_result"
    }
   ],
   "source": [
    "df[['Title', 'Topic']].sample(10)"
   ]
  },
  {
   "cell_type": "markdown",
   "metadata": {},
   "source": [
    "# Topic Frequencies"
   ]
  },
  {
   "cell_type": "code",
   "execution_count": 113,
   "metadata": {},
   "outputs": [
    {
     "data": {
      "text/plain": [
       "<matplotlib.axes._subplots.AxesSubplot at 0x1f914b62ba8>"
      ]
     },
     "execution_count": 113,
     "metadata": {},
     "output_type": "execute_result"
    },
    {
     "data": {
      "image/png": "[encoded data removed]",
      "text/plain": [
       "<Figure size 1080x504 with 1 Axes>"
      ]
     },
     "metadata": {
      "needs_background": "light"
     },
     "output_type": "display_data"
    }
   ],
   "source": [
    "plt.figure(figsize=(15, 7))\n",
    "df['Topic'].value_counts().plot(kind='barh', color='#5F67A4')"
   ]
  },
  {
   "cell_type": "markdown",
   "metadata": {},
   "source": [
    "## Topic Frequencies 2004 - 2007"
   ]
  },
  {
   "cell_type": "code",
   "execution_count": 114,
   "metadata": {},
   "outputs": [
    {
     "data": {
      "text/plain": [
       "Text(0.5, 1.0, 'Topic Frequencies 2004 - 2007')"
      ]
     },
     "execution_count": 114,
     "metadata": {},
     "output_type": "execute_result"
    },
    {
     "data": {
      "image/png": "[encoded data removed]",
      "text/plain": [
       "<Figure size 1080x504 with 1 Axes>"
      ]
     },
     "metadata": {
      "needs_background": "light"
     },
     "output_type": "display_data"
    }
   ],
   "source": [
    "plt.figure(figsize=(15, 7))\n",
    "df[(df['Year'] == 2004) | (df['Year'] == 2005) | (df['Year'] == 2006) | (df['Year'] == 2007)]['Topic'].value_counts().plot(kind='barh', color='#CC8D2D')\n",
    "plt.title('Topic Frequencies 2004 - 2007')"
   ]
  },
  {
   "cell_type": "markdown",
   "metadata": {},
   "source": [
    "## Topic Frequencies 2008 - 2011"
   ]
  },
  {
   "cell_type": "code",
   "execution_count": 115,
   "metadata": {},
   "outputs": [
    {
     "data": {
      "text/plain": [
       "Text(0.5, 1.0, 'Topic Frequencies 2008 - 2011')"
      ]
     },
     "execution_count": 115,
     "metadata": {},
     "output_type": "execute_result"
    },
    {
     "data": {
      "image/png": "[encoded data removed]",
      "text/plain": [
       "<Figure size 1080x504 with 1 Axes>"
      ]
     },
     "metadata": {
      "needs_background": "light"
     },
     "output_type": "display_data"
    }
   ],
   "source": [
    "plt.figure(figsize=(15, 7))\n",
    "df[(df['Year'] == 2008) | (df['Year'] == 2009) | (df['Year'] == 2010) | (df['Year'] == 2011)]['Topic'].value_counts().plot(kind='barh', color='#22AF81')\n",
    "plt.title('Topic Frequencies 2008 - 2011')"
   ]
  },
  {
   "cell_type": "markdown",
   "metadata": {},
   "source": [
    "## Topic Frequencies 2012 - 2015"
   ]
  },
  {
   "cell_type": "code",
   "execution_count": 116,
   "metadata": {},
   "outputs": [
    {
     "data": {
      "text/plain": [
       "Text(0.5, 1.0, 'Topic Frequencies 2012 - 2015')"
      ]
     },
     "execution_count": 116,
     "metadata": {},
     "output_type": "execute_result"
    },
    {
     "data": {
      "image/png": "[encoded data removed]",
      "text/plain": [
       "<Figure size 1080x504 with 1 Axes>"
      ]
     },
     "metadata": {
      "needs_background": "light"
     },
     "output_type": "display_data"
    }
   ],
   "source": [
    "plt.figure(figsize=(15, 7))\n",
    "df[(df['Year'] == 2012) | (df['Year'] == 2013) | (df['Year'] == 2014) | (df['Year'] == 2015)]['Topic'].value_counts().plot(kind='barh', color='#1FA7AE')\n",
    "plt.title('Topic Frequencies 2012 - 2015')"
   ]
  },
  {
   "cell_type": "markdown",
   "metadata": {},
   "source": [
    "# Information Extraction to Obtain Company Profiles"
   ]
  },
  {
   "cell_type": "code",
   "execution_count": 117,
   "metadata": {},
   "outputs": [],
   "source": [
    "from spacy.matcher import Matcher\n",
    "matcher = Matcher(nlp.vocab)"
   ]
  },
  {
   "cell_type": "markdown",
   "metadata": {},
   "source": [
    "### Creating patterns for our Matcher"
   ]
  },
  {
   "cell_type": "code",
   "execution_count": 118,
   "metadata": {},
   "outputs": [],
   "source": [
    "pattern1 = [{'POS': 'ADJ'}, {'ORTH': '-'}, {'POS': 'NOUN', 'OP': '+'}, {'LOWER': 'organization'}]\n",
    "pattern2 = [{'POS': 'NOUN', 'OP': '+'}, {'LOWER': 'organization'}]\n",
    "pattern3 = [{'POS': 'NOUN', 'OP': '+'}, {'LOWER': 'company'}]\n",
    "pattern4 = [{'POS': 'NOUN', 'OP': '+'}, {'LOWER': 'services'}]\n",
    "pattern5 = [{'LOWER': 'company'}, {'POS': 'VERB'}, {'POS': 'NOUN', 'OP': '+'}]\n",
    "pattern6 = [{'LOWER': 'provider'}, {'POS': 'ADP'}, {'POS': 'NOUN', 'OP': '+'}, {'POS': 'CCONJ', 'OP': '+'}, {'POS': 'NOUN', 'OP': '+'}]\n",
    "pattern7 = [{'LOWER': 'provider'}, {'POS': 'ADP'}, {'POS': 'NOUN', 'OP': '+'}]\n",
    "pattern8 = [{'POS': 'VERB'}, {'POS': 'NOUN', 'OP': '+'}]\n",
    "pattern9 = [{'POS': 'ADJ'}, {'POS': 'NOUN', 'OP': '+'}]\n",
    "pattern10 = [{'POS': 'NOUN'}, {'POS': 'ADP'}, {'POS': 'NOUN', 'OP': '+'}]\n",
    "pattern11 = [{'POS': 'NOUN'}, {'POS': 'NOUN', 'OP': '+'}]"
   ]
  },
  {
   "cell_type": "code",
   "execution_count": 119,
   "metadata": {},
   "outputs": [],
   "source": [
    "matcher.add('CompanyProfiles', None, pattern1, pattern2, pattern3, pattern4, pattern5, pattern6, pattern7, pattern8, pattern9, pattern10, pattern11)"
   ]
  },
  {
   "cell_type": "code",
   "execution_count": 120,
   "metadata": {},
   "outputs": [],
   "source": [
    "df['AboutC'].replace(np.nan, '', regex=True, inplace=True)"
   ]
  },
  {
   "cell_type": "markdown",
   "metadata": {},
   "source": [
    "### match_freq is a dictionary that stores the unique phrases found by our matcher and count their frequency"
   ]
  },
  {
   "cell_type": "code",
   "execution_count": 121,
   "metadata": {},
   "outputs": [],
   "source": [
    "match_freq = {}\n",
    "for doc in df['AboutC']:\n",
    "    found_matches = matcher(nlp(doc))\n",
    "    for match_id, start, end in found_matches:\n",
    "        span = nlp(doc)[start:end]\n",
    "        if (nlp.vocab[span.text].is_stop) | (span.text.isspace()) | (span.text.isdigit()):\n",
    "            continue\n",
    "        else:\n",
    "            if span.text not in match_freq.keys():\n",
    "                match_freq[span.text] = 1\n",
    "            elif span.text in match_freq.keys():\n",
    "                match_freq[span.text] += 1"
   ]
  },
  {
   "cell_type": "markdown",
   "metadata": {},
   "source": [
    "### Convert the match_freq to a list and sort it by their frequency  (values in match_freq)"
   ]
  },
  {
   "cell_type": "code",
   "execution_count": 122,
   "metadata": {},
   "outputs": [],
   "source": [
    "match_freq_list = sorted(match_freq.items(), key = lambda kv:(kv[1], kv[0]), reverse=True)"
   ]
  },
  {
   "cell_type": "code",
   "execution_count": 123,
   "metadata": {},
   "outputs": [],
   "source": [
    "companies = []\n",
    "freq_comp = []\n",
    "for i in match_freq_list[1:51]:\n",
    "    companies.append(i[0])\n",
    "    freq_comp.append(i[1])"
   ]
  },
  {
   "cell_type": "markdown",
   "metadata": {},
   "source": [
    "## Top 50 Company profiles"
   ]
  },
  {
   "cell_type": "code",
   "execution_count": 124,
   "metadata": {},
   "outputs": [
    {
     "data": {
      "image/png": "[encoded data removed]",
      "text/plain": [
       "<Figure size 1656x576 with 1 Axes>"
      ]
     },
     "metadata": {
      "needs_background": "light"
     },
     "output_type": "display_data"
    }
   ],
   "source": [
    "plt.figure(figsize=(23, 8))\n",
    "plt.xticks(rotation='vertical')\n",
    "plt.plot(companies, freq_comp, color='red')\n",
    "plt.ylabel('Counts')\n",
    "plt.title('Company Profiles/Types that created the Job Ads')\n",
    "plt.grid()\n",
    "plt.rcParams['axes.facecolor'] = '#E8E7E7'"
   ]
  },
  {
   "cell_type": "markdown",
   "metadata": {},
   "source": [
    "# Job Similarity"
   ]
  },
  {
   "cell_type": "markdown",
   "metadata": {},
   "source": [
    "### Using Custom Doc2Vec Embedding"
   ]
  },
  {
   "cell_type": "markdown",
   "metadata": {},
   "source": [
    "## Pre-Processing the selected columns"
   ]
  },
  {
   "cell_type": "markdown",
   "metadata": {},
   "source": [
    "### Replacing NaN values with an empy string"
   ]
  },
  {
   "cell_type": "code",
   "execution_count": 125,
   "metadata": {},
   "outputs": [],
   "source": [
    "title = df['Title'].replace(np.nan, '', regex=True)\n",
    "jd = df['JobDescription'].replace(np.nan, '', regex=True)\n",
    "rq= df['RequiredQual'].replace(np.nan, '', regex=True)\n",
    "jr = df['JobRequirment'].replace(np.nan, '', regex=True)"
   ]
  },
  {
   "cell_type": "markdown",
   "metadata": {},
   "source": [
    "### Removing '\\n'"
   ]
  },
  {
   "cell_type": "code",
   "execution_count": 126,
   "metadata": {},
   "outputs": [],
   "source": [
    "title = title.apply(lambda x: x.replace('\\n', ' '))\n",
    "jd = jd.apply(lambda x: x.replace('\\n', ' '))\n",
    "rq = rq.apply(lambda x: x.replace('\\n', ' '))\n",
    "jr = jr.apply(lambda x: x.replace('\\n', ' '))"
   ]
  },
  {
   "cell_type": "markdown",
   "metadata": {},
   "source": [
    "### Removing \" ' \""
   ]
  },
  {
   "cell_type": "code",
   "execution_count": 127,
   "metadata": {},
   "outputs": [],
   "source": [
    "title = title.apply(lambda x: x.replace(\"'\", ''))\n",
    "jd = jd.apply(lambda x: x.replace(\"'\", ''))\n",
    "rq = rq.apply(lambda x: x.replace(\"'\", ''))\n",
    "jr = jr.apply(lambda x: x.replace(\"'\", ''))"
   ]
  },
  {
   "cell_type": "markdown",
   "metadata": {},
   "source": [
    "### Creating patterns to use in RegEx"
   ]
  },
  {
   "cell_type": "code",
   "execution_count": 128,
   "metadata": {},
   "outputs": [],
   "source": [
    "pattern_phone = r'\\d+-\\d+-\\d+ | \\d{6}'\n",
    "pattern_email = r'[\\w]+@[\\w]+\\.+[\\w]+'\n",
    "pattern_web = r'(?:(?:https?|ftp)://)?[\\w\\-?=%.]+\\.[\\w\\-?=%.]+'"
   ]
  },
  {
   "cell_type": "code",
   "execution_count": 129,
   "metadata": {},
   "outputs": [],
   "source": [
    "title = title.apply(lambda x: x.replace('@...', '@gmail.com'))\n",
    "jd = jd.apply(lambda x: x.replace('@...', '@gmail.com'))\n",
    "rq = rq.apply(lambda x: x.replace('@...', '@gmail.com'))\n",
    "jr = jr.apply(lambda x: x.replace('@...', '@gmail.com'))"
   ]
  },
  {
   "cell_type": "markdown",
   "metadata": {},
   "source": [
    "### Removing phone numbers"
   ]
  },
  {
   "cell_type": "code",
   "execution_count": 130,
   "metadata": {},
   "outputs": [],
   "source": [
    "title = title.apply(lambda x: re.sub(pattern_phone, '', x))\n",
    "jd = jd.apply(lambda x: re.sub(pattern_phone, '', x))\n",
    "rq = rq.apply(lambda x: re.sub(pattern_phone, '', x))\n",
    "jr = jr.apply(lambda x: re.sub(pattern_phone, '', x))"
   ]
  },
  {
   "cell_type": "markdown",
   "metadata": {},
   "source": [
    "### Removing Email Addresses"
   ]
  },
  {
   "cell_type": "code",
   "execution_count": 131,
   "metadata": {},
   "outputs": [],
   "source": [
    "title = title.apply(lambda x: re.sub(pattern_email, '', x))\n",
    "jd = jd.apply(lambda x: re.sub(pattern_email, '', x))\n",
    "rq = rq.apply(lambda x: re.sub(pattern_email, '', x))\n",
    "jr = jr.apply(lambda x: re.sub(pattern_email, '', x))"
   ]
  },
  {
   "cell_type": "markdown",
   "metadata": {},
   "source": [
    "### Removing Web Addresses"
   ]
  },
  {
   "cell_type": "code",
   "execution_count": 132,
   "metadata": {},
   "outputs": [],
   "source": [
    "title = title.apply(lambda x: re.sub(pattern_web, '', x))\n",
    "jd = jd.apply(lambda x: re.sub(pattern_web, '', x))\n",
    "rq = rq.apply(lambda x: re.sub(pattern_web, '', x))\n",
    "jr = jr.apply(lambda x: re.sub(pattern_web, '', x))"
   ]
  },
  {
   "cell_type": "markdown",
   "metadata": {},
   "source": [
    "### Removing ' / '"
   ]
  },
  {
   "cell_type": "code",
   "execution_count": 133,
   "metadata": {},
   "outputs": [],
   "source": [
    "title = title.apply(lambda x: x.replace(\"/\", ' '))\n",
    "jd = jd.apply(lambda x: x.replace(\"/\", ' '))\n",
    "rq = rq.apply(lambda x: x.replace(\"/\", ' '))\n",
    "jr = jr.apply(lambda x: x.replace(\"/\", ' '))"
   ]
  },
  {
   "cell_type": "code",
   "execution_count": 134,
   "metadata": {},
   "outputs": [],
   "source": [
    "# stop_add = ['armenian', 'armenia', 'job', 'title', 'position', 'location', 'responsibilities',\n",
    "#              'application', 'procedures', 'deadline', 'required', 'qualifications', 'renumeration', \n",
    "#              'salary', 'date', 'company', 'llc']"
   ]
  },
  {
   "cell_type": "markdown",
   "metadata": {},
   "source": [
    "### tok_lem() takes a string document as input and returns the string without punctuations, stop words, digits."
   ]
  },
  {
   "cell_type": "code",
   "execution_count": 135,
   "metadata": {},
   "outputs": [],
   "source": [
    "def tok_lem(text):\n",
    "    lst = []\n",
    "    for token in nlp(text):\n",
    "        if (token.is_punct) | (nlp.vocab[token.text].is_stop) | (token.text.isspace()) | (token.text.isdigit()):\n",
    "            continue\n",
    "        else:\n",
    "            lst.append(token.lemma_.lower())\n",
    "    return ' '.join(lst)"
   ]
  },
  {
   "cell_type": "markdown",
   "metadata": {},
   "source": [
    "### Applying tok_lem() to all four variables"
   ]
  },
  {
   "cell_type": "code",
   "execution_count": 136,
   "metadata": {},
   "outputs": [],
   "source": [
    "title = title.apply(tok_lem)\n",
    "jd = jd.apply(tok_lem)\n",
    "rq = rq.apply(tok_lem)\n",
    "jr = jr.apply(tok_lem)"
   ]
  },
  {
   "cell_type": "markdown",
   "metadata": {},
   "source": [
    "### Saving each string in a column in a list format in order to use them later "
   ]
  },
  {
   "cell_type": "code",
   "execution_count": 137,
   "metadata": {},
   "outputs": [],
   "source": [
    "title_split = title.apply(lambda x: x.split())\n",
    "jd_split = jd.apply(lambda x: x.split())\n",
    "jr_split = jr.apply(lambda x: x.split())\n",
    "rq_split = rq.apply(lambda x: x.split())"
   ]
  },
  {
   "cell_type": "markdown",
   "metadata": {},
   "source": [
    "### Checking the second row of jd_split"
   ]
  },
  {
   "cell_type": "code",
   "execution_count": 138,
   "metadata": {},
   "outputs": [
    {
     "name": "stdout",
     "output_type": "stream",
     "text": [
      "['public', 'outreach', 'strengthening', 'grow', 'network', 'environmental', 'ngos', 'business', 'international', 'organization', 'public', 'agency', 'serve', 'primary', 'contact', 'cenn', 'public', 'time']\n"
     ]
    }
   ],
   "source": [
    "print(jd_split.iloc[2])"
   ]
  },
  {
   "cell_type": "markdown",
   "metadata": {},
   "source": [
    "## Finding silimarities and dissimilarities"
   ]
  },
  {
   "cell_type": "code",
   "execution_count": 141,
   "metadata": {},
   "outputs": [],
   "source": [
    "job_dissimilarity_df = pd.DataFrame(columns=['index', 'similar-job', 'dissimilar-score'])\n",
    "\n",
    "for job1_idx in range(3):  # rows\n",
    "    for job2_idx in range(1000):\n",
    "\n",
    "        doc1 = nlp(title.iloc[job1_idx])\n",
    "        doc2 = nlp(title.iloc[job2_idx])\n",
    "        title_similarity = doc1.similarity(doc2)\n",
    "        \n",
    "        doc1 = nlp(jd.iloc[job1_idx])\n",
    "        doc2 = nlp(jd.iloc[job2_idx])\n",
    "        jd_similarity = doc1.similarity(doc2)\n",
    "        \n",
    "        doc1 = nlp(jr.iloc[job1_idx])\n",
    "        doc2 = nlp(jr.iloc[job2_idx])\n",
    "        jr_similarity = doc1.similarity(doc2)\n",
    "        \n",
    "        doc1 = nlp(rq.iloc[job1_idx])\n",
    "        doc2 = nlp(rq.iloc[job2_idx])\n",
    "        rq_similarity = doc1.similarity(doc2)\n",
    "        \n",
    "        averaged_score = (title_similarity + jd_similarity + jr_similarity + rq_similarity) / 4.0\n",
    "        job_dissimilarity_df = job_dissimilarity_df.append({'index': job1_idx, 'similar-job': job2_idx, 'dissimilar-score': (1-averaged_score)},ignore_index=True)"
   ]
  },
  {
   "cell_type": "markdown",
   "metadata": {},
   "source": [
    "### Top 10 dissimilarity scores"
   ]
  },
  {
   "cell_type": "code",
   "execution_count": 142,
   "metadata": {},
   "outputs": [
    {
     "data": {
      "text/html": [
       "<div>\n",
       "<style scoped>\n",
       "    .dataframe tbody tr th:only-of-type {\n",
       "        vertical-align: middle;\n",
       "    }\n",
       "\n",
       "    .dataframe tbody tr th {\n",
       "        vertical-align: top;\n",
       "    }\n",
       "\n",
       "    .dataframe thead th {\n",
       "        text-align: right;\n",
       "    }\n",
       "</style>\n",
       "<table border=\"1\" class=\"dataframe\">\n",
       "  <thead>\n",
       "    <tr style=\"text-align: right;\">\n",
       "      <th></th>\n",
       "      <th>index</th>\n",
       "      <th>similar-job</th>\n",
       "      <th>dissimilar-score</th>\n",
       "    </tr>\n",
       "  </thead>\n",
       "  <tbody>\n",
       "    <tr>\n",
       "      <th>0</th>\n",
       "      <td>0.0</td>\n",
       "      <td>0.0</td>\n",
       "      <td>0.000000</td>\n",
       "    </tr>\n",
       "    <tr>\n",
       "      <th>1</th>\n",
       "      <td>0.0</td>\n",
       "      <td>1.0</td>\n",
       "      <td>0.668175</td>\n",
       "    </tr>\n",
       "    <tr>\n",
       "      <th>2</th>\n",
       "      <td>0.0</td>\n",
       "      <td>2.0</td>\n",
       "      <td>0.221437</td>\n",
       "    </tr>\n",
       "    <tr>\n",
       "      <th>3</th>\n",
       "      <td>0.0</td>\n",
       "      <td>3.0</td>\n",
       "      <td>0.250697</td>\n",
       "    </tr>\n",
       "    <tr>\n",
       "      <th>4</th>\n",
       "      <td>0.0</td>\n",
       "      <td>4.0</td>\n",
       "      <td>0.481250</td>\n",
       "    </tr>\n",
       "    <tr>\n",
       "      <th>5</th>\n",
       "      <td>0.0</td>\n",
       "      <td>5.0</td>\n",
       "      <td>0.700567</td>\n",
       "    </tr>\n",
       "    <tr>\n",
       "      <th>6</th>\n",
       "      <td>0.0</td>\n",
       "      <td>6.0</td>\n",
       "      <td>0.332507</td>\n",
       "    </tr>\n",
       "    <tr>\n",
       "      <th>7</th>\n",
       "      <td>0.0</td>\n",
       "      <td>7.0</td>\n",
       "      <td>0.874520</td>\n",
       "    </tr>\n",
       "    <tr>\n",
       "      <th>8</th>\n",
       "      <td>0.0</td>\n",
       "      <td>8.0</td>\n",
       "      <td>0.377989</td>\n",
       "    </tr>\n",
       "    <tr>\n",
       "      <th>9</th>\n",
       "      <td>0.0</td>\n",
       "      <td>9.0</td>\n",
       "      <td>0.446577</td>\n",
       "    </tr>\n",
       "  </tbody>\n",
       "</table>\n",
       "</div>"
      ],
      "text/plain": [
       "   index  similar-job  dissimilar-score\n",
       "0    0.0          0.0          0.000000\n",
       "1    0.0          1.0          0.668175\n",
       "2    0.0          2.0          0.221437\n",
       "3    0.0          3.0          0.250697\n",
       "4    0.0          4.0          0.481250\n",
       "5    0.0          5.0          0.700567\n",
       "6    0.0          6.0          0.332507\n",
       "7    0.0          7.0          0.874520\n",
       "8    0.0          8.0          0.377989\n",
       "9    0.0          9.0          0.446577"
      ]
     },
     "execution_count": 142,
     "metadata": {},
     "output_type": "execute_result"
    }
   ],
   "source": [
    "job_dissimilarity_df.head(10)"
   ]
  },
  {
   "cell_type": "markdown",
   "metadata": {},
   "source": [
    "## Creating a doc2vec model with gensim"
   ]
  },
  {
   "cell_type": "code",
   "execution_count": 143,
   "metadata": {},
   "outputs": [],
   "source": [
    "import gensim\n",
    "from gensim.models.doc2vec import Doc2Vec, TaggedDocument"
   ]
  },
  {
   "cell_type": "markdown",
   "metadata": {},
   "source": [
    "### We need to train the model's vocabulary that's why jobpost column is choses as it has all the info of the other four columns."
   ]
  },
  {
   "cell_type": "markdown",
   "metadata": {},
   "source": [
    "### We've taken IT column to use is as a tag to jobpost column"
   ]
  },
  {
   "cell_type": "code",
   "execution_count": 144,
   "metadata": {},
   "outputs": [],
   "source": [
    "df_mod = pd.DataFrame()\n",
    "df_mod['text'] = df['jobpost'].apply(gensim.utils.simple_preprocess)\n",
    "df_mod[\"label\"] = df['IT']"
   ]
  },
  {
   "cell_type": "code",
   "execution_count": 145,
   "metadata": {},
   "outputs": [
    {
     "data": {
      "text/html": [
       "<div>\n",
       "<style scoped>\n",
       "    .dataframe tbody tr th:only-of-type {\n",
       "        vertical-align: middle;\n",
       "    }\n",
       "\n",
       "    .dataframe tbody tr th {\n",
       "        vertical-align: top;\n",
       "    }\n",
       "\n",
       "    .dataframe thead th {\n",
       "        text-align: right;\n",
       "    }\n",
       "</style>\n",
       "<table border=\"1\" class=\"dataframe\">\n",
       "  <thead>\n",
       "    <tr style=\"text-align: right;\">\n",
       "      <th></th>\n",
       "      <th>text</th>\n",
       "      <th>label</th>\n",
       "    </tr>\n",
       "  </thead>\n",
       "  <tbody>\n",
       "    <tr>\n",
       "      <th>0</th>\n",
       "      <td>[ameria, investment, consulting, company, job,...</td>\n",
       "      <td>False</td>\n",
       "    </tr>\n",
       "    <tr>\n",
       "      <th>1</th>\n",
       "      <td>[international, research, exchanges, board, ir...</td>\n",
       "      <td>False</td>\n",
       "    </tr>\n",
       "    <tr>\n",
       "      <th>2</th>\n",
       "      <td>[caucasus, environmental, ngo, network, cenn, ...</td>\n",
       "      <td>False</td>\n",
       "    </tr>\n",
       "    <tr>\n",
       "      <th>3</th>\n",
       "      <td>[manoff, group, job, title, bcc, specialist, p...</td>\n",
       "      <td>False</td>\n",
       "    </tr>\n",
       "    <tr>\n",
       "      <th>4</th>\n",
       "      <td>[yerevan, brandy, company, job, title, softwar...</td>\n",
       "      <td>True</td>\n",
       "    </tr>\n",
       "    <tr>\n",
       "      <th>...</th>\n",
       "      <td>...</td>\n",
       "      <td>...</td>\n",
       "    </tr>\n",
       "    <tr>\n",
       "      <th>18996</th>\n",
       "      <td>[ngo, title, senior, creative, ux, ui, designe...</td>\n",
       "      <td>False</td>\n",
       "    </tr>\n",
       "    <tr>\n",
       "      <th>18997</th>\n",
       "      <td>[coca, cola, hellenic, bottling, company, arme...</td>\n",
       "      <td>False</td>\n",
       "    </tr>\n",
       "    <tr>\n",
       "      <th>18998</th>\n",
       "      <td>[coca, cola, hellenic, bottling, company, arme...</td>\n",
       "      <td>False</td>\n",
       "    </tr>\n",
       "    <tr>\n",
       "      <th>18999</th>\n",
       "      <td>[san, lazzaro, llc, title, head, of, online, s...</td>\n",
       "      <td>False</td>\n",
       "    </tr>\n",
       "    <tr>\n",
       "      <th>19000</th>\n",
       "      <td>[kamurj, uco, cjsc, title, lawyer, in, legal, ...</td>\n",
       "      <td>False</td>\n",
       "    </tr>\n",
       "  </tbody>\n",
       "</table>\n",
       "<p>18892 rows × 2 columns</p>\n",
       "</div>"
      ],
      "text/plain": [
       "                                                    text  label\n",
       "0      [ameria, investment, consulting, company, job,...  False\n",
       "1      [international, research, exchanges, board, ir...  False\n",
       "2      [caucasus, environmental, ngo, network, cenn, ...  False\n",
       "3      [manoff, group, job, title, bcc, specialist, p...  False\n",
       "4      [yerevan, brandy, company, job, title, softwar...   True\n",
       "...                                                  ...    ...\n",
       "18996  [ngo, title, senior, creative, ux, ui, designe...  False\n",
       "18997  [coca, cola, hellenic, bottling, company, arme...  False\n",
       "18998  [coca, cola, hellenic, bottling, company, arme...  False\n",
       "18999  [san, lazzaro, llc, title, head, of, online, s...  False\n",
       "19000  [kamurj, uco, cjsc, title, lawyer, in, legal, ...  False\n",
       "\n",
       "[18892 rows x 2 columns]"
      ]
     },
     "execution_count": 145,
     "metadata": {},
     "output_type": "execute_result"
    }
   ],
   "source": [
    "df_mod"
   ]
  },
  {
   "cell_type": "markdown",
   "metadata": {},
   "source": [
    "### Splitting the data into train and test"
   ]
  },
  {
   "cell_type": "code",
   "execution_count": 146,
   "metadata": {},
   "outputs": [],
   "source": [
    "train, test = train_test_split(df_mod, train_size=0.70, random_state=42, stratify=df_mod[\"label\"])"
   ]
  },
  {
   "cell_type": "markdown",
   "metadata": {},
   "source": [
    "### Let's see the train data"
   ]
  },
  {
   "cell_type": "code",
   "execution_count": 147,
   "metadata": {},
   "outputs": [
    {
     "data": {
      "text/html": [
       "<div>\n",
       "<style scoped>\n",
       "    .dataframe tbody tr th:only-of-type {\n",
       "        vertical-align: middle;\n",
       "    }\n",
       "\n",
       "    .dataframe tbody tr th {\n",
       "        vertical-align: top;\n",
       "    }\n",
       "\n",
       "    .dataframe thead th {\n",
       "        text-align: right;\n",
       "    }\n",
       "</style>\n",
       "<table border=\"1\" class=\"dataframe\">\n",
       "  <thead>\n",
       "    <tr style=\"text-align: right;\">\n",
       "      <th></th>\n",
       "      <th>text</th>\n",
       "      <th>label</th>\n",
       "    </tr>\n",
       "  </thead>\n",
       "  <tbody>\n",
       "    <tr>\n",
       "      <th>7890</th>\n",
       "      <td>[agarak, copper, molybdenum, combine, cjsc, ti...</td>\n",
       "      <td>False</td>\n",
       "    </tr>\n",
       "    <tr>\n",
       "      <th>7113</th>\n",
       "      <td>[andav, title, lawyer, legal, officer, start, ...</td>\n",
       "      <td>False</td>\n",
       "    </tr>\n",
       "    <tr>\n",
       "      <th>15157</th>\n",
       "      <td>[american, councils, for, international, educa...</td>\n",
       "      <td>False</td>\n",
       "    </tr>\n",
       "    <tr>\n",
       "      <th>1460</th>\n",
       "      <td>[center, for, agribusiness, rural, development...</td>\n",
       "      <td>False</td>\n",
       "    </tr>\n",
       "    <tr>\n",
       "      <th>4412</th>\n",
       "      <td>[imex, group, co, ltd, yerevan, title, secreta...</td>\n",
       "      <td>False</td>\n",
       "    </tr>\n",
       "  </tbody>\n",
       "</table>\n",
       "</div>"
      ],
      "text/plain": [
       "                                                    text  label\n",
       "7890   [agarak, copper, molybdenum, combine, cjsc, ti...  False\n",
       "7113   [andav, title, lawyer, legal, officer, start, ...  False\n",
       "15157  [american, councils, for, international, educa...  False\n",
       "1460   [center, for, agribusiness, rural, development...  False\n",
       "4412   [imex, group, co, ltd, yerevan, title, secreta...  False"
      ]
     },
     "execution_count": 147,
     "metadata": {},
     "output_type": "execute_result"
    }
   ],
   "source": [
    "train.head()"
   ]
  },
  {
   "cell_type": "markdown",
   "metadata": {},
   "source": [
    "### read_doc() reads and preprocesses the text data"
   ]
  },
  {
   "cell_type": "code",
   "execution_count": 148,
   "metadata": {},
   "outputs": [],
   "source": [
    "def read_doc(df, tokens_only=False):\n",
    "    for i, row in enumerate(df.iterrows()):\n",
    "        if tokens_only:\n",
    "            yield row[1]['text']\n",
    "        else:\n",
    "            # For training data, add tags\n",
    "            yield TaggedDocument(row[1]['text'], [row[1]['label']])"
   ]
  },
  {
   "cell_type": "code",
   "execution_count": 149,
   "metadata": {},
   "outputs": [],
   "source": [
    "train_doc = list(read_doc(train))"
   ]
  },
  {
   "cell_type": "code",
   "execution_count": 150,
   "metadata": {},
   "outputs": [],
   "source": [
    "test_doc = list(read_doc(test, tokens_only=True))"
   ]
  },
  {
   "cell_type": "code",
   "execution_count": 151,
   "metadata": {},
   "outputs": [
    {
     "data": {
      "text/plain": [
       "[TaggedDocument(words=['agarak', 'copper', 'molybdenum', 'combine', 'cjsc', 'title', 'mechanical', 'engineer', 'term', 'full', 'time', 'duration', 'long', 'term', 'with', 'month', 'probation', 'period', 'location', 'yerevan', 'armenia', 'job', 'description', 'agarak', 'copper', 'molybdenum', 'combine', 'cjsc', 'is', 'looking', 'for', 'qualified', 'mechanical', 'engineer', 'the', 'incumbent', 'is', 'directly', 'accountable', 'to', 'the', 'deputy', 'commercial', 'director', 'job', 'provide', 'technical', 'conclusion', 'about', 'the', 'ordered', 'spare', 'parts', 'coordinate', 'activities', 'with', 'other', 'work', 'units', 'or', 'departments', 'prepare', 'and', 'submit', 'reports', 'prepare', 'necessary', 'technical', 'documentation', 'required', 'qualifications', 'higher', 'education', 'in', 'the', 'relevant', 'field', 'years', 'of', 'work', 'experience', 'as', 'mechanical', 'engineer', 'good', 'knowledge', 'of', 'microsoft', 'office', 'tools', 'excel', 'word', 'and', 'internet', 'fluent', 'knowledge', 'of', 'armenian', 'and', 'russian', 'languages', 'good', 'communication', 'and', 'presentation', 'skills', 'driving', 'license', 'own', 'car', 'application', 'procedures', 'to', 'apply', 'for', 'this', 'position', 'please', 'send', 'your', 'cv', 'to', 'please', 'mention', 'mechanical', 'engineer', 'in', 'the', 'subject', 'line', 'of', 'your', 'message', 'please', 'clearly', 'mention', 'in', 'your', 'application', 'letter', 'that', 'you', 'learned', 'of', 'this', 'job', 'opportunity', 'through', 'career', 'center', 'and', 'mention', 'the', 'url', 'of', 'its', 'website', 'thanks', 'opening', 'date', 'march', 'application', 'deadline', 'march', 'to', 'place', 'free', 'posting', 'for', 'job', 'or', 'other', 'career', 'related', 'opportunities', 'available', 'in', 'your', 'organization', 'just', 'go', 'to', 'the', 'website', 'and', 'follow', 'the', 'post', 'an', 'announcement', 'link'], tags=[False])]"
      ]
     },
     "execution_count": 151,
     "metadata": {},
     "output_type": "execute_result"
    }
   ],
   "source": [
    "train_doc[:1]"
   ]
  },
  {
   "cell_type": "markdown",
   "metadata": {},
   "source": [
    "### Creating an object of Doc2Vec"
   ]
  },
  {
   "cell_type": "code",
   "execution_count": 152,
   "metadata": {},
   "outputs": [],
   "source": [
    "model = Doc2Vec(vector_size=300, min_count=2, epochs=200)"
   ]
  },
  {
   "cell_type": "markdown",
   "metadata": {},
   "source": [
    "### Training the model's vocabulary using pre-processed training data"
   ]
  },
  {
   "cell_type": "code",
   "execution_count": 153,
   "metadata": {
    "scrolled": true
   },
   "outputs": [],
   "source": [
    "model.build_vocab(train_doc)"
   ]
  },
  {
   "cell_type": "code",
   "execution_count": 154,
   "metadata": {},
   "outputs": [],
   "source": [
    "# %time model.train(train_doc, total_examples=model.corpus_count, epochs=model.epochs)"
   ]
  },
  {
   "cell_type": "markdown",
   "metadata": {},
   "source": [
    "### Let's save the model first, so it may be used again to find the similarity"
   ]
  },
  {
   "cell_type": "code",
   "execution_count": 155,
   "metadata": {},
   "outputs": [],
   "source": [
    "model.save('doc2vec_train_model')"
   ]
  },
  {
   "cell_type": "markdown",
   "metadata": {},
   "source": [
    "### Let's again load the model calling it 'd2v'"
   ]
  },
  {
   "cell_type": "code",
   "execution_count": 156,
   "metadata": {},
   "outputs": [],
   "source": [
    "d2v = Doc2Vec.load('doc2vec_train_model')"
   ]
  },
  {
   "cell_type": "markdown",
   "metadata": {},
   "source": [
    "### We're gonna be taking some raw information so let's replace all the NaN values with empty string on our original data."
   ]
  },
  {
   "cell_type": "code",
   "execution_count": 157,
   "metadata": {},
   "outputs": [],
   "source": [
    "df['Title'].replace(np.nan, '', regex=True, inplace=True)\n",
    "df['JobDescription'].replace(np.nan, '', regex=True, inplace=True)\n",
    "df['RequiredQual'].replace(np.nan, '', regex=True, inplace=True)\n",
    "df['JobRequirment'].replace(np.nan, '', regex=True, inplace=True)"
   ]
  },
  {
   "cell_type": "markdown",
   "metadata": {},
   "source": [
    "### Defining Cosine Similarity"
   ]
  },
  {
   "cell_type": "code",
   "execution_count": 158,
   "metadata": {},
   "outputs": [],
   "source": [
    "from scipy import spatial\n",
    "\n",
    "cosine_similarity = lambda x, y: 1 - spatial.distance.cosine(x, y)"
   ]
  },
  {
   "cell_type": "markdown",
   "metadata": {},
   "source": [
    "## Similarity and Dissimilar scores using the simple averaging approach"
   ]
  },
  {
   "cell_type": "code",
   "execution_count": 159,
   "metadata": {},
   "outputs": [
    {
     "data": {
      "text/html": [
       "<div>\n",
       "<style scoped>\n",
       "    .dataframe tbody tr th:only-of-type {\n",
       "        vertical-align: middle;\n",
       "    }\n",
       "\n",
       "    .dataframe tbody tr th {\n",
       "        vertical-align: top;\n",
       "    }\n",
       "\n",
       "    .dataframe thead th {\n",
       "        text-align: right;\n",
       "    }\n",
       "</style>\n",
       "<table border=\"1\" class=\"dataframe\">\n",
       "  <thead>\n",
       "    <tr style=\"text-align: right;\">\n",
       "      <th></th>\n",
       "      <th>index</th>\n",
       "      <th>similar-job</th>\n",
       "      <th>dissimilar-score</th>\n",
       "    </tr>\n",
       "  </thead>\n",
       "  <tbody>\n",
       "    <tr>\n",
       "      <th>0</th>\n",
       "      <td>0.0</td>\n",
       "      <td>0.0</td>\n",
       "      <td>0.000000</td>\n",
       "    </tr>\n",
       "    <tr>\n",
       "      <th>696</th>\n",
       "      <td>0.0</td>\n",
       "      <td>696.0</td>\n",
       "      <td>0.750730</td>\n",
       "    </tr>\n",
       "    <tr>\n",
       "      <th>322</th>\n",
       "      <td>0.0</td>\n",
       "      <td>322.0</td>\n",
       "      <td>0.916281</td>\n",
       "    </tr>\n",
       "    <tr>\n",
       "      <th>22</th>\n",
       "      <td>0.0</td>\n",
       "      <td>22.0</td>\n",
       "      <td>0.930970</td>\n",
       "    </tr>\n",
       "    <tr>\n",
       "      <th>596</th>\n",
       "      <td>0.0</td>\n",
       "      <td>596.0</td>\n",
       "      <td>0.931520</td>\n",
       "    </tr>\n",
       "    <tr>\n",
       "      <th>630</th>\n",
       "      <td>0.0</td>\n",
       "      <td>630.0</td>\n",
       "      <td>0.931563</td>\n",
       "    </tr>\n",
       "    <tr>\n",
       "      <th>464</th>\n",
       "      <td>0.0</td>\n",
       "      <td>464.0</td>\n",
       "      <td>0.934558</td>\n",
       "    </tr>\n",
       "    <tr>\n",
       "      <th>538</th>\n",
       "      <td>0.0</td>\n",
       "      <td>538.0</td>\n",
       "      <td>0.934833</td>\n",
       "    </tr>\n",
       "    <tr>\n",
       "      <th>331</th>\n",
       "      <td>0.0</td>\n",
       "      <td>331.0</td>\n",
       "      <td>0.937856</td>\n",
       "    </tr>\n",
       "    <tr>\n",
       "      <th>61</th>\n",
       "      <td>0.0</td>\n",
       "      <td>61.0</td>\n",
       "      <td>0.937858</td>\n",
       "    </tr>\n",
       "  </tbody>\n",
       "</table>\n",
       "</div>"
      ],
      "text/plain": [
       "     index  similar-job  dissimilar-score\n",
       "0      0.0          0.0          0.000000\n",
       "696    0.0        696.0          0.750730\n",
       "322    0.0        322.0          0.916281\n",
       "22     0.0         22.0          0.930970\n",
       "596    0.0        596.0          0.931520\n",
       "630    0.0        630.0          0.931563\n",
       "464    0.0        464.0          0.934558\n",
       "538    0.0        538.0          0.934833\n",
       "331    0.0        331.0          0.937856\n",
       "61     0.0         61.0          0.937858"
      ]
     },
     "execution_count": 159,
     "metadata": {},
     "output_type": "execute_result"
    }
   ],
   "source": [
    "job_dissimilarity_d2v_df = pd.DataFrame(columns=['index', 'similar-job', 'dissimilar-score'])\n",
    "\n",
    "for job1_idx in range(3):  # rows\n",
    "    for job2_idx in range(1000):\n",
    "        title_similarity = cosine_similarity(d2v.infer_vector(df.iloc[job1_idx]['Title'].split()), d2v.infer_vector(df.iloc[job2_idx]['Title'].split()))\n",
    "        jd_similarity = cosine_similarity(d2v.infer_vector(df.iloc[job1_idx]['JobDescription'].split()), d2v.infer_vector(df.iloc[job2_idx]['JobDescription'].split()))\n",
    "        jr_similarity = cosine_similarity(d2v.infer_vector(df.iloc[job1_idx]['JobRequirment'].split()), d2v.infer_vector(df.iloc[job2_idx]['JobRequirment'].split()))\n",
    "        rq_similarity = cosine_similarity(d2v.infer_vector(df.iloc[job1_idx]['RequiredQual'].split()), d2v.infer_vector(df.iloc[job2_idx]['RequiredQual'].split()))\n",
    "\n",
    "        averaged_score = (title_similarity + jd_similarity + jr_similarity + rq_similarity) / 4.0\n",
    "        job_dissimilarity_d2v_df = job_dissimilarity_d2v_df.append({'index': job1_idx, 'similar-job': job2_idx, 'dissimilar-score': (1-averaged_score)},ignore_index=True)\n",
    "job_dissimilarity_d2v_df_sorted = job_dissimilarity_d2v_df.sort_values(by=['index', 'dissimilar-score'], ascending=[True, True])\n",
    "job_dissimilarity_d2v_df_sorted.head(10)"
   ]
  },
  {
   "cell_type": "markdown",
   "metadata": {},
   "source": [
    "### Top 10 jobs score"
   ]
  },
  {
   "cell_type": "code",
   "execution_count": 160,
   "metadata": {},
   "outputs": [
    {
     "data": {
      "text/html": [
       "<div>\n",
       "<style scoped>\n",
       "    .dataframe tbody tr th:only-of-type {\n",
       "        vertical-align: middle;\n",
       "    }\n",
       "\n",
       "    .dataframe tbody tr th {\n",
       "        vertical-align: top;\n",
       "    }\n",
       "\n",
       "    .dataframe thead th {\n",
       "        text-align: right;\n",
       "    }\n",
       "</style>\n",
       "<table border=\"1\" class=\"dataframe\">\n",
       "  <thead>\n",
       "    <tr style=\"text-align: right;\">\n",
       "      <th></th>\n",
       "      <th>index</th>\n",
       "      <th>similar-job</th>\n",
       "      <th>dissimilar-score</th>\n",
       "    </tr>\n",
       "  </thead>\n",
       "  <tbody>\n",
       "    <tr>\n",
       "      <th>0</th>\n",
       "      <td>0.0</td>\n",
       "      <td>0.0</td>\n",
       "      <td>0.000000</td>\n",
       "    </tr>\n",
       "    <tr>\n",
       "      <th>696</th>\n",
       "      <td>0.0</td>\n",
       "      <td>696.0</td>\n",
       "      <td>0.750730</td>\n",
       "    </tr>\n",
       "    <tr>\n",
       "      <th>322</th>\n",
       "      <td>0.0</td>\n",
       "      <td>322.0</td>\n",
       "      <td>0.916281</td>\n",
       "    </tr>\n",
       "    <tr>\n",
       "      <th>22</th>\n",
       "      <td>0.0</td>\n",
       "      <td>22.0</td>\n",
       "      <td>0.930970</td>\n",
       "    </tr>\n",
       "    <tr>\n",
       "      <th>596</th>\n",
       "      <td>0.0</td>\n",
       "      <td>596.0</td>\n",
       "      <td>0.931520</td>\n",
       "    </tr>\n",
       "    <tr>\n",
       "      <th>630</th>\n",
       "      <td>0.0</td>\n",
       "      <td>630.0</td>\n",
       "      <td>0.931563</td>\n",
       "    </tr>\n",
       "    <tr>\n",
       "      <th>464</th>\n",
       "      <td>0.0</td>\n",
       "      <td>464.0</td>\n",
       "      <td>0.934558</td>\n",
       "    </tr>\n",
       "    <tr>\n",
       "      <th>538</th>\n",
       "      <td>0.0</td>\n",
       "      <td>538.0</td>\n",
       "      <td>0.934833</td>\n",
       "    </tr>\n",
       "    <tr>\n",
       "      <th>331</th>\n",
       "      <td>0.0</td>\n",
       "      <td>331.0</td>\n",
       "      <td>0.937856</td>\n",
       "    </tr>\n",
       "    <tr>\n",
       "      <th>61</th>\n",
       "      <td>0.0</td>\n",
       "      <td>61.0</td>\n",
       "      <td>0.937858</td>\n",
       "    </tr>\n",
       "  </tbody>\n",
       "</table>\n",
       "</div>"
      ],
      "text/plain": [
       "     index  similar-job  dissimilar-score\n",
       "0      0.0          0.0          0.000000\n",
       "696    0.0        696.0          0.750730\n",
       "322    0.0        322.0          0.916281\n",
       "22     0.0         22.0          0.930970\n",
       "596    0.0        596.0          0.931520\n",
       "630    0.0        630.0          0.931563\n",
       "464    0.0        464.0          0.934558\n",
       "538    0.0        538.0          0.934833\n",
       "331    0.0        331.0          0.937856\n",
       "61     0.0         61.0          0.937858"
      ]
     },
     "execution_count": 160,
     "metadata": {},
     "output_type": "execute_result"
    }
   ],
   "source": [
    "job_dissimilarity_d2v_df_sorted.head(10)"
   ]
  },
  {
   "cell_type": "markdown",
   "metadata": {},
   "source": [
    "### Show top 5 similar results to job - Chief Financial Officer"
   ]
  },
  {
   "cell_type": "code",
   "execution_count": 161,
   "metadata": {},
   "outputs": [
    {
     "name": "stdout",
     "output_type": "stream",
     "text": [
      "jobpost             AMERIA Investment Consulting Company JOB TITLE...\n",
      "date                                                      Jan 5, 2004\n",
      "Title                                         Chief Financial Officer\n",
      "Company                          AMERIA Investment Consulting Company\n",
      "AnnouncementCode                                                  NaN\n",
      "Term                                                              NaN\n",
      "Eligibility                                                       NaN\n",
      "Audience                                                          NaN\n",
      "StartDate                                                         NaN\n",
      "Duration                                                          NaN\n",
      "Location                                             Yerevan, Armenia\n",
      "JobDescription      AMERIA Investment Consulting Company is seekin...\n",
      "JobRequirment       - Supervises financial management and administ...\n",
      "RequiredQual        To perform this job successfully, an individua...\n",
      "Salary                                                            NaN\n",
      "ApplicationP        To apply for this position, please submit a\\nc...\n",
      "OpeningDate                                                       NaN\n",
      "Deadline                                              26 January 2004\n",
      "Notes                                                             NaN\n",
      "AboutC                                                               \n",
      "Attach                                                            NaN\n",
      "Year                                                             2004\n",
      "Month                                                               1\n",
      "IT                                                              False\n",
      "Word Frequency      {'AMERIA': 2, 'Investment': 3, 'Consulting': 2...\n",
      "Topic                                             Banking and Finance\n",
      "Name: 0, dtype: object\n",
      "jobpost             Cascade Capital Holdings CJSC TITLE:  Chief Fi...\n",
      "date                                                     Oct 29, 2004\n",
      "Title                                         Chief Financial Officer\n",
      "Company                                 Cascade Capital Holdings CJSC\n",
      "AnnouncementCode                                                  NaN\n",
      "Term                                                              NaN\n",
      "Eligibility                                                       NaN\n",
      "Audience                                                          NaN\n",
      "StartDate                                                         NaN\n",
      "Duration                                                          NaN\n",
      "Location                                             Yerevan, Armenia\n",
      "JobDescription      Cascade Capital Holdings CJSC is looking for a...\n",
      "JobRequirment       - Create and oversee a financial reporting sys...\n",
      "RequiredQual        - A university degree in the relevant field. A...\n",
      "Salary                                                            NaN\n",
      "ApplicationP        Please send a cover letter and CV in English t...\n",
      "OpeningDate                               December 2004 or as agreed.\n",
      "Deadline                                             15 November 2004\n",
      "Notes                                                             NaN\n",
      "AboutC              Cascade Capital Holdings CJSC is a company est...\n",
      "Attach                                                            NaN\n",
      "Year                                                             2004\n",
      "Month                                                              10\n",
      "IT                                                              False\n",
      "Word Frequency      {'Cascade': 4, 'Capital': 4, 'Holdings': 4, 'C...\n",
      "Topic                                             Banking and Finance\n",
      "Name: 697, dtype: object\n",
      "jobpost             French University of Armenia TITLE:  System Ad...\n",
      "date                                                    Jun 8 2:17 AM\n",
      "Title               System Administrator, Microsoft Web Developer,...\n",
      "Company                                  French University of Armenia\n",
      "AnnouncementCode                                                  NaN\n",
      "Term                                                              NaN\n",
      "Eligibility                                                       NaN\n",
      "Audience                                                          NaN\n",
      "StartDate                                                         NaN\n",
      "Duration                                                          NaN\n",
      "Location                                             Yerevan, Armenia\n",
      "JobDescription      French University Foundation is looking for a\\...\n",
      "JobRequirment       - Configure, maintain, and install new worksta...\n",
      "RequiredQual        - 3+ years experience with information technol...\n",
      "Salary                                                            NaN\n",
      "ApplicationP        To apply, send your resume with cover letter\\n...\n",
      "OpeningDate                                                       NaN\n",
      "Deadline                                                 21 June 2004\n",
      "Notes                                                             NaN\n",
      "AboutC                                                               \n",
      "Attach                                                            NaN\n",
      "Year                                                             2004\n",
      "Month                                                               6\n",
      "IT                                                               True\n",
      "Word Frequency      {'French': 2, 'University': 2, 'Armenia': 2, '...\n",
      "Topic                             Business Development and Management\n",
      "Name: 323, dtype: object\n",
      "jobpost             ACDI VOCA JOB TITLE:  Marketing Advisor POSITI...\n",
      "date                                                     Jan 19, 2004\n",
      "Title                                               Marketing Advisor\n",
      "Company                                                     ACDI/VOCA\n",
      "AnnouncementCode                                                  NaN\n",
      "Term                                                              NaN\n",
      "Eligibility                                                       NaN\n",
      "Audience                                                          NaN\n",
      "StartDate                                                         NaN\n",
      "Duration                               30 month position   \\nPOSITION\n",
      "Location                                             Tbilisi, Georgia\n",
      "JobDescription      The Marketing Advisor will lead the project in...\n",
      "JobRequirment       - Lead the effort to identify targets of oppor...\n",
      "RequiredQual        - 10+ years of actual commercial marketing exp...\n",
      "Salary                                                            NaN\n",
      "ApplicationP        Submit CV and salary requirements toeurasia@.....\n",
      "OpeningDate                                                       NaN\n",
      "Deadline                                                          NaN\n",
      "Notes                                                             NaN\n",
      "AboutC              ACDI/VOCA is an international development and ...\n",
      "Attach                                                            NaN\n",
      "Year                                                             2004\n",
      "Month                                                               1\n",
      "IT                                                              False\n",
      "Word Frequency      {'ACDI': 2, 'VOCA': 2, 'JOB': 2, 'title': 1, '...\n",
      "Topic                             Business Development and Management\n",
      "Name: 22, dtype: object\n",
      "jobpost             M-Possible TITLE:  Product Manager LOCATION:  ...\n",
      "date                                                     Sep 22, 2004\n",
      "Title                                                 Product Manager\n",
      "Company                                                    M-Possible\n",
      "AnnouncementCode                                                  NaN\n",
      "Term                                                              NaN\n",
      "Eligibility                                                       NaN\n",
      "Audience                                                          NaN\n",
      "StartDate                                                         NaN\n",
      "Duration                                                          NaN\n",
      "Location                                             Yerevan, Armenia\n",
      "JobDescription      Monitor company's eStore. The candidate will b...\n",
      "JobRequirment       - Monitor company's eCommerce website for soft...\n",
      "RequiredQual        - Proficient in English written and spoken ski...\n",
      "Salary                                                            NaN\n",
      "ApplicationP        Please send your resume toresume@...\\nPlease c...\n",
      "OpeningDate                                                       NaN\n",
      "Deadline                                              20 October 2004\n",
      "Notes               If you are not a meticulous and detailed orien...\n",
      "AboutC              We are a software company based in Yerevan, Ar...\n",
      "Attach                                                            NaN\n",
      "Year                                                             2004\n",
      "Month                                                               9\n",
      "IT                                                              False\n",
      "Word Frequency      {'m': 1, 'possible': 1, 'title': 1, 'Product':...\n",
      "Topic                                            Software Development\n",
      "Name: 597, dtype: object\n",
      "jobpost             \"Antares\" Media Holding TITLE:  Manager (Traff...\n",
      "date                                                      Oct 1, 2004\n",
      "Title                                      Manager (Traffic/ Account)\n",
      "Company                                       \"Antares\" Media Holding\n",
      "AnnouncementCode                                                  NaN\n",
      "Term                                                              NaN\n",
      "Eligibility                                                       NaN\n",
      "Audience                                                          NaN\n",
      "StartDate                                                         NaN\n",
      "Duration                                                          NaN\n",
      "Location                                             Yerevan, Armenia\n",
      "JobDescription      - Work directly with the Director of the compa...\n",
      "JobRequirment                                                        \n",
      "RequiredQual        - Age: 25 and more; - Minimum 3 years of relat...\n",
      "Salary                                                            NaN\n",
      "ApplicationP        All interested applicants should send their\\nC...\n",
      "OpeningDate                                                       NaN\n",
      "Deadline                                              14 October 2004\n",
      "Notes                                                             NaN\n",
      "AboutC                                                               \n",
      "Attach                                                            NaN\n",
      "Year                                                             2004\n",
      "Month                                                              10\n",
      "IT                                                              False\n",
      "Word Frequency      {'Antares': 1, 'Media': 1, 'Holding': 1, 'titl...\n",
      "Topic                                          Education and Training\n",
      "Name: 631, dtype: object\n"
     ]
    }
   ],
   "source": [
    "similar_jobs = job_dissimilarity_d2v_df_sorted.loc[job_dissimilarity_d2v_df_sorted['index'] == 0].head(6)['similar-job'].tolist()\n",
    "\n",
    "for job in similar_jobs:\n",
    "    print(df.iloc[int(job)])"
   ]
  },
  {
   "cell_type": "markdown",
   "metadata": {},
   "source": [
    "### Show top 5 similar results to job - Intern"
   ]
  },
  {
   "cell_type": "code",
   "execution_count": 162,
   "metadata": {},
   "outputs": [
    {
     "name": "stdout",
     "output_type": "stream",
     "text": [
      "jobpost             International Research & Exchanges Board (IREX...\n",
      "date                                                      Jan 7, 2004\n",
      "Title               Full-time Community Connections Intern (paid i...\n",
      "Company               International Research & Exchanges Board (IREX)\n",
      "AnnouncementCode                                                  NaN\n",
      "Term                                                              NaN\n",
      "Eligibility                                                       NaN\n",
      "Audience                                                          NaN\n",
      "StartDate                                                         NaN\n",
      "Duration                                                     3 months\n",
      "Location            IREX Armenia Main Office; Yerevan, Armenia \\nD...\n",
      "JobDescription                                                       \n",
      "JobRequirment                                                        \n",
      "RequiredQual        - Bachelors Degree; Masters is preferred; - Ex...\n",
      "Salary                                                            NaN\n",
      "ApplicationP        Please submit a cover letter and resume to:\\nI...\n",
      "OpeningDate                                                       NaN\n",
      "Deadline                                              12 January 2004\n",
      "Notes                                                             NaN\n",
      "AboutC              The International Research & Exchanges Board (...\n",
      "Attach                                                            NaN\n",
      "Year                                                             2004\n",
      "Month                                                               1\n",
      "IT                                                              False\n",
      "Word Frequency      {'International': 2, 'Research': 2, 'Exchanges...\n",
      "Topic                              Project Management and Development\n",
      "Name: 1, dtype: object\n",
      "jobpost             Avangard Motors LLC TITLE:  Sales and Marketin...\n",
      "date                                                     Nov 10, 2004\n",
      "Title                                   Sales and Marketing Assistant\n",
      "Company                                           Avangard Motors LLC\n",
      "AnnouncementCode                                                  NaN\n",
      "Term                                                              NaN\n",
      "Eligibility                                                       NaN\n",
      "Audience                                                          NaN\n",
      "StartDate                                                         NaN\n",
      "Duration                                                          NaN\n",
      "Location                                             Yerevan, Armenia\n",
      "JobDescription                                                       \n",
      "JobRequirment                                                        \n",
      "RequiredQual        - Knowledge of IBM PC Operating, including MS ...\n",
      "Salary                                                            NaN\n",
      "ApplicationP        All applicants are pleased to submit their CVs...\n",
      "OpeningDate                                          10 November 2004\n",
      "Deadline                                             31 December 2004\n",
      "Notes                                                             NaN\n",
      "AboutC              Avangard Motors LLC is the general distributor...\n",
      "Attach                                                            NaN\n",
      "Year                                                             2004\n",
      "Month                                                              11\n",
      "IT                                                              False\n",
      "Word Frequency      {'Avangard': 2, 'Motors': 2, 'LLC': 2, 'title'...\n",
      "Topic                                             Sales and Marketing\n",
      "Name: 729, dtype: object\n",
      "jobpost             International Research & Exchanges Board (IREX...\n",
      "date                                                     Mar 16, 2004\n",
      "Title                          Administrative and Programmatic Intern\n",
      "Company               International Research & Exchanges Board (IREX)\n",
      "AnnouncementCode                                                  NaN\n",
      "Term                                                              NaN\n",
      "Eligibility                                                       NaN\n",
      "Audience                                                          NaN\n",
      "StartDate                                                         NaN\n",
      "Duration                                        6 months and 3 months\n",
      "Location            IATP Armenia Main Office, Yerevan\\nDESCRIPTION...\n",
      "JobDescription                                                       \n",
      "JobRequirment                                                        \n",
      "RequiredQual        - Fluency in English and Armenian; - Good comm...\n",
      "Salary                                                            NaN\n",
      "ApplicationP        Please submit the application form along with\\...\n",
      "OpeningDate                                                       NaN\n",
      "Deadline                                                01 April 2004\n",
      "Notes                                                             NaN\n",
      "AboutC              The International Research & Exchanges Board (...\n",
      "Attach                                                            NaN\n",
      "Year                                                             2004\n",
      "Month                                                               3\n",
      "IT                                                              False\n",
      "Word Frequency      {'International': 2, 'Research': 2, 'Exchanges...\n",
      "Topic                              Project Management and Development\n",
      "Name: 125, dtype: object\n",
      "jobpost             International Research & Exchanges Board (IREX...\n",
      "date                                                     Mar 16, 2004\n",
      "Title                          Administrative and Programmatic Intern\n",
      "Company               International Research & Exchanges Board (IREX)\n",
      "AnnouncementCode                                                  NaN\n",
      "Term                                                              NaN\n",
      "Eligibility                                                       NaN\n",
      "Audience                                                          NaN\n",
      "StartDate                                                         NaN\n",
      "Duration                                        6 months and 3 months\n",
      "Location            IREX Academic Programs Main Office, Yerevan, A...\n",
      "JobDescription                                                       \n",
      "JobRequirment                                                        \n",
      "RequiredQual        - Fluency in English and Armenian; - Good comm...\n",
      "Salary                                                            NaN\n",
      "ApplicationP        Please submit the application form along with\\...\n",
      "OpeningDate                                                       NaN\n",
      "Deadline                                                01 April 2004\n",
      "Notes                                                             NaN\n",
      "AboutC              The International Research & Exchanges Board (...\n",
      "Attach                                                            NaN\n",
      "Year                                                             2004\n",
      "Month                                                               3\n",
      "IT                                                              False\n",
      "Word Frequency      {'International': 2, 'Research': 2, 'Exchanges...\n",
      "Topic                              Project Management and Development\n",
      "Name: 127, dtype: object\n",
      "jobpost             St. Thomas University School of Law, Florida, ...\n",
      "date                                                     Apr 26, 2004\n",
      "Title                     Master of Laws - Intercultural Human Rights\n",
      "Company             St. Thomas University School of Law, Florida, USA\n",
      "AnnouncementCode                                                  NaN\n",
      "Term                                                              NaN\n",
      "Eligibility                                                       NaN\n",
      "Audience                                                          NaN\n",
      "StartDate                                                         NaN\n",
      "Duration                                                          NaN\n",
      "Location            Miami, Florida, USA\\nDETAIL DESCRIPTION:  The ...\n",
      "JobDescription                                                       \n",
      "JobRequirment                                                        \n",
      "RequiredQual                                                         \n",
      "Salary                                                            NaN\n",
      "ApplicationP        Application available online at\\nwww.stu.edu/h...\n",
      "OpeningDate                                                       NaN\n",
      "Deadline                                                  31 May 2004\n",
      "Notes                                                             NaN\n",
      "AboutC              St. Thomas University School of Law \\nLL.M. Pr...\n",
      "Attach                                                            NaN\n",
      "Year                                                             2004\n",
      "Month                                                               4\n",
      "IT                                                              False\n",
      "Word Frequency      {'St.': 2, 'Thomas': 2, 'University': 2, 'Scho...\n",
      "Topic                              Project Management and Development\n",
      "Name: 226, dtype: object\n",
      "jobpost             Nairisoft Inc. TITLE:   (C#) Web Developer DUR...\n",
      "date                                                      Oct 4, 2004\n",
      "Title                                      ASP.NET (C#) Web Developer\n",
      "Company                                                Nairisoft Inc.\n",
      "AnnouncementCode                                                  NaN\n",
      "Term                                                              NaN\n",
      "Eligibility                                                       NaN\n",
      "Audience                                                          NaN\n",
      "StartDate                                                         NaN\n",
      "Duration                                                    Long-term\n",
      "Location                                             Yerevan, Armenia\n",
      "JobDescription                                                       \n",
      "JobRequirment                                                        \n",
      "RequiredQual        - Minimum 2 years experience in WEB programmin...\n",
      "Salary                                                         $300 +\n",
      "ApplicationP        Please, send your resumes to:job@...\\nPlease c...\n",
      "OpeningDate                                           05 October 2004\n",
      "Deadline                                             01 November 2004\n",
      "Notes                                                             NaN\n",
      "AboutC                                                               \n",
      "Attach                                                            NaN\n",
      "Year                                                             2004\n",
      "Month                                                              10\n",
      "IT                                                               True\n",
      "Word Frequency      {'Nairisoft': 1, 'Inc.': 1, 'title': 1, 'c': 1...\n",
      "Topic                                            Software Development\n",
      "Name: 637, dtype: object\n"
     ]
    }
   ],
   "source": [
    "similar_jobs = job_dissimilarity_d2v_df_sorted.loc[job_dissimilarity_d2v_df_sorted['index'] == 1].head(6)['similar-job'].tolist()\n",
    "\n",
    "for job in similar_jobs:\n",
    "    print(df.iloc[int(job)])"
   ]
  },
  {
   "cell_type": "markdown",
   "metadata": {},
   "source": [
    "### Show top 5 similar results to job - Country Coordinator"
   ]
  },
  {
   "cell_type": "code",
   "execution_count": 163,
   "metadata": {},
   "outputs": [
    {
     "name": "stdout",
     "output_type": "stream",
     "text": [
      "jobpost             Caucasus Environmental NGO Network (CENN) JOB ...\n",
      "date                                                      Jan 7, 2004\n",
      "Title                                             Country Coordinator\n",
      "Company                     Caucasus Environmental NGO Network (CENN)\n",
      "AnnouncementCode                                                  NaN\n",
      "Term                                                              NaN\n",
      "Eligibility                                                       NaN\n",
      "Audience                                                          NaN\n",
      "StartDate                                                         NaN\n",
      "Duration                          Renewable annual contract\\nPOSITION\n",
      "Location                                             Yerevan, Armenia\n",
      "JobDescription      Public outreach and strengthening of a growing...\n",
      "JobRequirment       - Working with the Country Director to provide...\n",
      "RequiredQual        - Degree in environmentally related field, or ...\n",
      "Salary                                                            NaN\n",
      "ApplicationP        Please send resume or CV toursula.kazarian@......\n",
      "OpeningDate                                                       NaN\n",
      "Deadline                  20 January 2004\\nSTART DATE:  February 2004\n",
      "Notes                                                             NaN\n",
      "AboutC              The Caucasus Environmental NGO Network is a\\nn...\n",
      "Attach                                                            NaN\n",
      "Year                                                             2004\n",
      "Month                                                               1\n",
      "IT                                                              False\n",
      "Word Frequency      {'Caucasus': 3, 'Environmental': 2, 'NGO': 2, ...\n",
      "Topic                                             Sales and Marketing\n",
      "Name: 2, dtype: object\n",
      "jobpost             International Center for the Young TITLE:  Ele...\n",
      "date                                                      Jul 1, 2004\n",
      "Title                                              Elementary Teacher\n",
      "Company                            International Center for the Young\n",
      "AnnouncementCode                                                  NaN\n",
      "Term                                                              NaN\n",
      "Eligibility                                                       NaN\n",
      "Audience                                                     Teachers\n",
      "StartDate                                                 August 2004\n",
      "Duration                                                          NaN\n",
      "Location                                             Yerevan, Armenia\n",
      "JobDescription      We are seeking an individual with native Engli...\n",
      "JobRequirment       Teach (plan, implement and manage) a\\ndevelopm...\n",
      "RequiredQual        - BA or MA in Education, Elementary Education,...\n",
      "Salary                                                            NaN\n",
      "ApplicationP        Submit resume to ICY_Armenia@...\\nPlease clear...\n",
      "OpeningDate                                                       NaN\n",
      "Deadline                                                 09 July 2004\n",
      "Notes                                                             NaN\n",
      "AboutC                                                               \n",
      "Attach                                                            NaN\n",
      "Year                                                             2004\n",
      "Month                                                               7\n",
      "IT                                                              False\n",
      "Word Frequency      {'International': 1, 'Center': 2, 'Young': 1, ...\n",
      "Topic                                                   Communication\n",
      "Name: 389, dtype: object\n",
      "jobpost             International Center for the Young TITLE:  Ele...\n",
      "date                                                      Jul 8, 2004\n",
      "Title                                              Elementary Teacher\n",
      "Company                            International Center for the Young\n",
      "AnnouncementCode                                                  NaN\n",
      "Term                                                              NaN\n",
      "Eligibility                                                       NaN\n",
      "Audience                                                          NaN\n",
      "StartDate                                            Late August 2004\n",
      "Duration                                                          NaN\n",
      "Location                                             Yerevan, Armenia\n",
      "JobDescription      We are seeking an individual with native Engli...\n",
      "JobRequirment       Teach (plan, implement and manage) a\\ndevelopm...\n",
      "RequiredQual        - BA or MA in Education, Elementary Education,...\n",
      "Salary                                                            NaN\n",
      "ApplicationP        Submit resume to ICY_Armenia@...\\nPlease clear...\n",
      "OpeningDate                                                       NaN\n",
      "Deadline                                                 20 July 2004\n",
      "Notes                                                             NaN\n",
      "AboutC                                                               \n",
      "Attach                                                            NaN\n",
      "Year                                                             2004\n",
      "Month                                                               7\n",
      "IT                                                              False\n",
      "Word Frequency      {'International': 1, 'Center': 2, 'Young': 1, ...\n",
      "Topic                                                   Communication\n",
      "Name: 405, dtype: object\n",
      "jobpost             United Nations Population Fund (UNFPA) Armenia...\n",
      "date                                                     Nov 10, 2004\n",
      "Title                           National Programme Officer (ICS9/NOB)\n",
      "Company             United Nations Population Fund (UNFPA) Armenia...\n",
      "AnnouncementCode                                                  NaN\n",
      "Term                                                        Full-Time\n",
      "Eligibility                                                       NaN\n",
      "Audience                                                          NaN\n",
      "StartDate                                             15 January 2005\n",
      "Duration                          One-year service contract initially\n",
      "Location                                             Yerevan, Armenia\n",
      "JobDescription      Under the supervision of the Country Director ...\n",
      "JobRequirment       - In collaboration with Government counterpart...\n",
      "RequiredQual        - Masters degree in health, population, demogr...\n",
      "Salary              UNFPA offers an attractive compensation packag...\n",
      "ApplicationP        Please submit your CV together with an\\nApplic...\n",
      "OpeningDate                                          10 November 2004\n",
      "Deadline                                    18 November 2004, 5:00 PM\n",
      "Notes                                                             NaN\n",
      "AboutC              UNFPA, the United Nations Population Fund, is ...\n",
      "Attach              The following attachment(s) to this announceme...\n",
      "Year                                                             2004\n",
      "Month                                                              11\n",
      "IT                                                              False\n",
      "Word Frequency      {'United': 3, 'Nations': 3, 'Population': 2, '...\n",
      "Topic                             Business Development and Management\n",
      "Name: 728, dtype: object\n",
      "jobpost              TITLE:  Developers Team Leader TERM:  Permane...\n",
      "date                                                      Feb 7, 2005\n",
      "Title                                          Developers Team Leader\n",
      "Company                                                     Zenteq.am\n",
      "AnnouncementCode                                                  NaN\n",
      "Term                                                        Permanent\n",
      "Eligibility                                                       NaN\n",
      "Audience                                                          NaN\n",
      "StartDate                                                         NaN\n",
      "Duration                                                          NaN\n",
      "Location                                             Yerevan, Armenia\n",
      "JobDescription      The duties of the Developers Team Leader inclu...\n",
      "JobRequirment                                                        \n",
      "RequiredQual        We are expecting our Developers to have: - Abi...\n",
      "Salary                           The base rate is $ 1500, negotiable.\n",
      "ApplicationP        Please send your resume and cover-letter to:hu...\n",
      "OpeningDate                                          07 February 2005\n",
      "Deadline                                             21 February 2005\n",
      "Notes                                                             NaN\n",
      "AboutC              We are a compact team that develops commercial...\n",
      "Attach                                                            NaN\n",
      "Year                                                             2005\n",
      "Month                                                               2\n",
      "IT                                                               True\n",
      "Word Frequency      {'title': 1, 'Developers': 4, 'Team': 3, 'Lead...\n",
      "Topic                                            Software Development\n",
      "Name: 997, dtype: object\n",
      "jobpost             THE CENTER FOR COMMUNITY DIALOGUES AND INITIAT...\n",
      "date                                                     Feb 19, 2004\n",
      "Title                                                      Accountant\n",
      "Company             THE CENTER FOR COMMUNITY DIALOGUES AND INITIAT...\n",
      "AnnouncementCode                                                  NaN\n",
      "Term                                                              NaN\n",
      "Eligibility                                                       NaN\n",
      "Audience                                                          NaN\n",
      "StartDate                                                         NaN\n",
      "Duration                                                          NaN\n",
      "Location                                             Yerevan, Armenia\n",
      "JobDescription      The accountant is a full-time national staff p...\n",
      "JobRequirment       - Manage program financial system and budget o...\n",
      "RequiredQual        - Written and oral fluency in English, Armenia...\n",
      "Salary                                                            NaN\n",
      "ApplicationP        If you are interested in the above stated\\nvac...\n",
      "OpeningDate                                                       NaN\n",
      "Deadline                                   February 23, 2004 by 17:00\n",
      "Notes                                                             NaN\n",
      "AboutC              The Center for Community Dialogues and Initiat...\n",
      "Attach                                                            NaN\n",
      "Year                                                             2004\n",
      "Month                                                               2\n",
      "IT                                                              False\n",
      "Word Frequency      {'CENTER': 1, 'community': 1, 'dialogue': 1, '...\n",
      "Topic                                             Banking and Finance\n",
      "Name: 74, dtype: object\n"
     ]
    }
   ],
   "source": [
    "similar_jobs = job_dissimilarity_d2v_df_sorted.loc[job_dissimilarity_d2v_df_sorted['index'] == 2].head(6)['similar-job'].tolist()\n",
    "\n",
    "for job in similar_jobs:\n",
    "    print(df.iloc[int(job)])"
   ]
  },
  {
   "cell_type": "markdown",
   "metadata": {},
   "source": [
    "## Similarity and Dissimilar scores using custom weighting approach"
   ]
  },
  {
   "cell_type": "code",
   "execution_count": 164,
   "metadata": {},
   "outputs": [
    {
     "data": {
      "text/html": [
       "<div>\n",
       "<style scoped>\n",
       "    .dataframe tbody tr th:only-of-type {\n",
       "        vertical-align: middle;\n",
       "    }\n",
       "\n",
       "    .dataframe tbody tr th {\n",
       "        vertical-align: top;\n",
       "    }\n",
       "\n",
       "    .dataframe thead th {\n",
       "        text-align: right;\n",
       "    }\n",
       "</style>\n",
       "<table border=\"1\" class=\"dataframe\">\n",
       "  <thead>\n",
       "    <tr style=\"text-align: right;\">\n",
       "      <th></th>\n",
       "      <th>index</th>\n",
       "      <th>similar-job</th>\n",
       "      <th>dissimilar-score</th>\n",
       "    </tr>\n",
       "  </thead>\n",
       "  <tbody>\n",
       "    <tr>\n",
       "      <th>0</th>\n",
       "      <td>0.0</td>\n",
       "      <td>0.0</td>\n",
       "      <td>0.550000</td>\n",
       "    </tr>\n",
       "    <tr>\n",
       "      <th>696</th>\n",
       "      <td>0.0</td>\n",
       "      <td>696.0</td>\n",
       "      <td>0.775219</td>\n",
       "    </tr>\n",
       "    <tr>\n",
       "      <th>596</th>\n",
       "      <td>0.0</td>\n",
       "      <td>596.0</td>\n",
       "      <td>0.950219</td>\n",
       "    </tr>\n",
       "    <tr>\n",
       "      <th>538</th>\n",
       "      <td>0.0</td>\n",
       "      <td>538.0</td>\n",
       "      <td>0.954352</td>\n",
       "    </tr>\n",
       "    <tr>\n",
       "      <th>844</th>\n",
       "      <td>0.0</td>\n",
       "      <td>844.0</td>\n",
       "      <td>0.954554</td>\n",
       "    </tr>\n",
       "    <tr>\n",
       "      <th>331</th>\n",
       "      <td>0.0</td>\n",
       "      <td>331.0</td>\n",
       "      <td>0.957102</td>\n",
       "    </tr>\n",
       "    <tr>\n",
       "      <th>505</th>\n",
       "      <td>0.0</td>\n",
       "      <td>505.0</td>\n",
       "      <td>0.960344</td>\n",
       "    </tr>\n",
       "    <tr>\n",
       "      <th>322</th>\n",
       "      <td>0.0</td>\n",
       "      <td>322.0</td>\n",
       "      <td>0.961540</td>\n",
       "    </tr>\n",
       "    <tr>\n",
       "      <th>630</th>\n",
       "      <td>0.0</td>\n",
       "      <td>630.0</td>\n",
       "      <td>0.961618</td>\n",
       "    </tr>\n",
       "    <tr>\n",
       "      <th>22</th>\n",
       "      <td>0.0</td>\n",
       "      <td>22.0</td>\n",
       "      <td>0.962734</td>\n",
       "    </tr>\n",
       "  </tbody>\n",
       "</table>\n",
       "</div>"
      ],
      "text/plain": [
       "     index  similar-job  dissimilar-score\n",
       "0      0.0          0.0          0.550000\n",
       "696    0.0        696.0          0.775219\n",
       "596    0.0        596.0          0.950219\n",
       "538    0.0        538.0          0.954352\n",
       "844    0.0        844.0          0.954554\n",
       "331    0.0        331.0          0.957102\n",
       "505    0.0        505.0          0.960344\n",
       "322    0.0        322.0          0.961540\n",
       "630    0.0        630.0          0.961618\n",
       "22     0.0         22.0          0.962734"
      ]
     },
     "execution_count": 164,
     "metadata": {},
     "output_type": "execute_result"
    }
   ],
   "source": [
    "job_dissimilarity_d2v_df = pd.DataFrame(columns=['index', 'similar-job', 'dissimilar-score'])\n",
    "\n",
    "for job1_idx in range(3):  # rows\n",
    "    for job2_idx in range(1000):\n",
    "        title_similarity = cosine_similarity(d2v.infer_vector(df.iloc[job1_idx]['Title'].split()), d2v.infer_vector(df.iloc[job2_idx]['Title'].split()))\n",
    "        jd_similarity = cosine_similarity(d2v.infer_vector(df.iloc[job1_idx]['JobDescription'].split()), d2v.infer_vector(df.iloc[job2_idx]['JobDescription'].split()))\n",
    "        jr_similarity = cosine_similarity(d2v.infer_vector(df.iloc[job1_idx]['JobRequirment'].split()), d2v.infer_vector(df.iloc[job2_idx]['JobRequirment'].split()))\n",
    "        rq_similarity = cosine_similarity(d2v.infer_vector(df.iloc[job1_idx]['RequiredQual'].split()), d2v.infer_vector(df.iloc[job2_idx]['RequiredQual'].split()))\n",
    "\n",
    "        averaged_score = (title_similarity*0.9 + jd_similarity*0.3 + jr_similarity*0.3 + rq_similarity*0.3) / 4.0\n",
    "        job_dissimilarity_d2v_df = job_dissimilarity_d2v_df.append({'index': job1_idx, 'similar-job': job2_idx, 'dissimilar-score': (1-averaged_score)},ignore_index=True)\n",
    "job_dissimilarity_d2v_df_sorted = job_dissimilarity_d2v_df.sort_values(by=['index', 'dissimilar-score'], ascending=[True, True])\n",
    "job_dissimilarity_d2v_df_sorted.head(10)"
   ]
  },
  {
   "cell_type": "markdown",
   "metadata": {},
   "source": [
    "### Show top 5 similar results to job - Chief Financial Officer"
   ]
  },
  {
   "cell_type": "code",
   "execution_count": 165,
   "metadata": {},
   "outputs": [
    {
     "name": "stdout",
     "output_type": "stream",
     "text": [
      "jobpost             AMERIA Investment Consulting Company JOB TITLE...\n",
      "date                                                      Jan 5, 2004\n",
      "Title                                         Chief Financial Officer\n",
      "Company                          AMERIA Investment Consulting Company\n",
      "AnnouncementCode                                                  NaN\n",
      "Term                                                              NaN\n",
      "Eligibility                                                       NaN\n",
      "Audience                                                          NaN\n",
      "StartDate                                                         NaN\n",
      "Duration                                                          NaN\n",
      "Location                                             Yerevan, Armenia\n",
      "JobDescription      AMERIA Investment Consulting Company is seekin...\n",
      "JobRequirment       - Supervises financial management and administ...\n",
      "RequiredQual        To perform this job successfully, an individua...\n",
      "Salary                                                            NaN\n",
      "ApplicationP        To apply for this position, please submit a\\nc...\n",
      "OpeningDate                                                       NaN\n",
      "Deadline                                              26 January 2004\n",
      "Notes                                                             NaN\n",
      "AboutC                                                               \n",
      "Attach                                                            NaN\n",
      "Year                                                             2004\n",
      "Month                                                               1\n",
      "IT                                                              False\n",
      "Word Frequency      {'AMERIA': 2, 'Investment': 3, 'Consulting': 2...\n",
      "Topic                                             Banking and Finance\n",
      "Name: 0, dtype: object\n",
      "jobpost             Cascade Capital Holdings CJSC TITLE:  Chief Fi...\n",
      "date                                                     Oct 29, 2004\n",
      "Title                                         Chief Financial Officer\n",
      "Company                                 Cascade Capital Holdings CJSC\n",
      "AnnouncementCode                                                  NaN\n",
      "Term                                                              NaN\n",
      "Eligibility                                                       NaN\n",
      "Audience                                                          NaN\n",
      "StartDate                                                         NaN\n",
      "Duration                                                          NaN\n",
      "Location                                             Yerevan, Armenia\n",
      "JobDescription      Cascade Capital Holdings CJSC is looking for a...\n",
      "JobRequirment       - Create and oversee a financial reporting sys...\n",
      "RequiredQual        - A university degree in the relevant field. A...\n",
      "Salary                                                            NaN\n",
      "ApplicationP        Please send a cover letter and CV in English t...\n",
      "OpeningDate                               December 2004 or as agreed.\n",
      "Deadline                                             15 November 2004\n",
      "Notes                                                             NaN\n",
      "AboutC              Cascade Capital Holdings CJSC is a company est...\n",
      "Attach                                                            NaN\n",
      "Year                                                             2004\n",
      "Month                                                              10\n",
      "IT                                                              False\n",
      "Word Frequency      {'Cascade': 4, 'Capital': 4, 'Holdings': 4, 'C...\n",
      "Topic                                             Banking and Finance\n",
      "Name: 697, dtype: object\n",
      "jobpost             M-Possible TITLE:  Product Manager LOCATION:  ...\n",
      "date                                                     Sep 22, 2004\n",
      "Title                                                 Product Manager\n",
      "Company                                                    M-Possible\n",
      "AnnouncementCode                                                  NaN\n",
      "Term                                                              NaN\n",
      "Eligibility                                                       NaN\n",
      "Audience                                                          NaN\n",
      "StartDate                                                         NaN\n",
      "Duration                                                          NaN\n",
      "Location                                             Yerevan, Armenia\n",
      "JobDescription      Monitor company's eStore. The candidate will b...\n",
      "JobRequirment       - Monitor company's eCommerce website for soft...\n",
      "RequiredQual        - Proficient in English written and spoken ski...\n",
      "Salary                                                            NaN\n",
      "ApplicationP        Please send your resume toresume@...\\nPlease c...\n",
      "OpeningDate                                                       NaN\n",
      "Deadline                                              20 October 2004\n",
      "Notes               If you are not a meticulous and detailed orien...\n",
      "AboutC              We are a software company based in Yerevan, Ar...\n",
      "Attach                                                            NaN\n",
      "Year                                                             2004\n",
      "Month                                                               9\n",
      "IT                                                              False\n",
      "Word Frequency      {'m': 1, 'possible': 1, 'title': 1, 'Product':...\n",
      "Topic                                            Software Development\n",
      "Name: 597, dtype: object\n",
      "jobpost             Siemens Information & Communication Services C...\n",
      "date                                                     Aug 26, 2004\n",
      "Title                                                 System Engineer\n",
      "Company             Siemens Information & Communication Services CJSC\n",
      "AnnouncementCode                                                  NaN\n",
      "Term                                                        Full-time\n",
      "Eligibility                                                       NaN\n",
      "Audience                                                          NaN\n",
      "StartDate                                                         NaN\n",
      "Duration                                                          NaN\n",
      "Location                                             Yerevan, Armenia\n",
      "JobDescription      Siemens ICS is looking for engineers. They wil...\n",
      "JobRequirment                                                        \n",
      "RequiredQual        - University Degree on engineering field    - ...\n",
      "Salary                                                            NaN\n",
      "ApplicationP        Please send your CV and Cover Letter (in\\nEngl...\n",
      "OpeningDate                                            26 August 2004\n",
      "Deadline                                            10 September 2004\n",
      "Notes                                                             NaN\n",
      "AboutC                                                               \n",
      "Attach                                                            NaN\n",
      "Year                                                             2004\n",
      "Month                                                               8\n",
      "IT                                                              False\n",
      "Word Frequency      {'Siemens': 2, 'Information': 1, 'Communicatio...\n",
      "Topic                                             Sales and Marketing\n",
      "Name: 539, dtype: object\n",
      "jobpost             M-possible TITLE:  Product Manager LOCATION:  ...\n",
      "date                                                     Dec 27, 2004\n",
      "Title                                                 Product Manager\n",
      "Company                                                    M-possible\n",
      "AnnouncementCode                                                  NaN\n",
      "Term                                                              NaN\n",
      "Eligibility                                                       NaN\n",
      "Audience                                                          NaN\n",
      "StartDate                                                         NaN\n",
      "Duration                                                          NaN\n",
      "Location                                             Yerevan, Armenia\n",
      "JobDescription      We are looking for an experienced Software Pro...\n",
      "JobRequirment       - Conduct market research about existing produ...\n",
      "RequiredQual        - Software or computer related university degr...\n",
      "Salary                                                            NaN\n",
      "ApplicationP        Please send your CV to: resume@....\\nPlease cl...\n",
      "OpeningDate                                          27 December 2004\n",
      "Deadline                                              30 January 2005\n",
      "Notes               The ideal candidate will be a computer gaming\\...\n",
      "AboutC              We are a software company based in Yerevan, Ar...\n",
      "Attach                                                            NaN\n",
      "Year                                                             2004\n",
      "Month                                                              12\n",
      "IT                                                              False\n",
      "Word Frequency      {'m': 1, 'possible': 1, 'title': 1, 'Product':...\n",
      "Topic                                             Sales and Marketing\n",
      "Name: 845, dtype: object\n",
      "jobpost             Cosmoplast TITLE:  Senior Industrial Automatio...\n",
      "date                                                   Jun 13 2:02 AM\n",
      "Title                           Senior Industrial Automation Engineer\n",
      "Company                                                    Cosmoplast\n",
      "AnnouncementCode                                                  NaN\n",
      "Term                                                              NaN\n",
      "Eligibility                                                       NaN\n",
      "Audience                                                          NaN\n",
      "StartDate                                                        ASAP\n",
      "Duration                                                          NaN\n",
      "Location                                                 Sharjah, UAE\n",
      "JobDescription      The successful candidate will join as a leadin...\n",
      "JobRequirment                                                        \n",
      "RequiredQual        The candidate must be an EXPERT in the field o...\n",
      "Salary                                                            NaN\n",
      "ApplicationP        Please send your CV (resume) tomanouk@...\\nPle...\n",
      "OpeningDate                                                       NaN\n",
      "Deadline                                                 15 July 2004\n",
      "Notes                                                             NaN\n",
      "AboutC              The company is part of a group of leading manu...\n",
      "Attach                                                            NaN\n",
      "Year                                                             2004\n",
      "Month                                                               6\n",
      "IT                                                              False\n",
      "Word Frequency      {'Cosmoplast': 1, 'title': 1, 'Senior': 1, 'In...\n",
      "Topic                                             Sales and Marketing\n",
      "Name: 332, dtype: object\n"
     ]
    }
   ],
   "source": [
    "similar_jobs = job_dissimilarity_d2v_df_sorted.loc[job_dissimilarity_d2v_df_sorted['index'] == 0].head(6)['similar-job'].tolist()\n",
    "\n",
    "for job in similar_jobs:\n",
    "    print(df.iloc[int(job)])"
   ]
  },
  {
   "cell_type": "markdown",
   "metadata": {},
   "source": [
    "### Show top 5 similar results to job - Intern"
   ]
  },
  {
   "cell_type": "code",
   "execution_count": 166,
   "metadata": {},
   "outputs": [
    {
     "name": "stdout",
     "output_type": "stream",
     "text": [
      "jobpost             International Research & Exchanges Board (IREX...\n",
      "date                                                      Jan 7, 2004\n",
      "Title               Full-time Community Connections Intern (paid i...\n",
      "Company               International Research & Exchanges Board (IREX)\n",
      "AnnouncementCode                                                  NaN\n",
      "Term                                                              NaN\n",
      "Eligibility                                                       NaN\n",
      "Audience                                                          NaN\n",
      "StartDate                                                         NaN\n",
      "Duration                                                     3 months\n",
      "Location            IREX Armenia Main Office; Yerevan, Armenia \\nD...\n",
      "JobDescription                                                       \n",
      "JobRequirment                                                        \n",
      "RequiredQual        - Bachelors Degree; Masters is preferred; - Ex...\n",
      "Salary                                                            NaN\n",
      "ApplicationP        Please submit a cover letter and resume to:\\nI...\n",
      "OpeningDate                                                       NaN\n",
      "Deadline                                              12 January 2004\n",
      "Notes                                                             NaN\n",
      "AboutC              The International Research & Exchanges Board (...\n",
      "Attach                                                            NaN\n",
      "Year                                                             2004\n",
      "Month                                                               1\n",
      "IT                                                              False\n",
      "Word Frequency      {'International': 2, 'Research': 2, 'Exchanges...\n",
      "Topic                              Project Management and Development\n",
      "Name: 1, dtype: object\n",
      "jobpost             St. Thomas University School of Law, Florida, ...\n",
      "date                                                     Apr 26, 2004\n",
      "Title                     Master of Laws - Intercultural Human Rights\n",
      "Company             St. Thomas University School of Law, Florida, USA\n",
      "AnnouncementCode                                                  NaN\n",
      "Term                                                              NaN\n",
      "Eligibility                                                       NaN\n",
      "Audience                                                          NaN\n",
      "StartDate                                                         NaN\n",
      "Duration                                                          NaN\n",
      "Location            Miami, Florida, USA\\nDETAIL DESCRIPTION:  The ...\n",
      "JobDescription                                                       \n",
      "JobRequirment                                                        \n",
      "RequiredQual                                                         \n",
      "Salary                                                            NaN\n",
      "ApplicationP        Application available online at\\nwww.stu.edu/h...\n",
      "OpeningDate                                                       NaN\n",
      "Deadline                                                  31 May 2004\n",
      "Notes                                                             NaN\n",
      "AboutC              St. Thomas University School of Law \\nLL.M. Pr...\n",
      "Attach                                                            NaN\n",
      "Year                                                             2004\n",
      "Month                                                               4\n",
      "IT                                                              False\n",
      "Word Frequency      {'St.': 2, 'Thomas': 2, 'University': 2, 'Scho...\n",
      "Topic                              Project Management and Development\n",
      "Name: 226, dtype: object\n",
      "jobpost             Avangard Motors LLC TITLE:  Sales and Marketin...\n",
      "date                                                     Nov 10, 2004\n",
      "Title                                   Sales and Marketing Assistant\n",
      "Company                                           Avangard Motors LLC\n",
      "AnnouncementCode                                                  NaN\n",
      "Term                                                              NaN\n",
      "Eligibility                                                       NaN\n",
      "Audience                                                          NaN\n",
      "StartDate                                                         NaN\n",
      "Duration                                                          NaN\n",
      "Location                                             Yerevan, Armenia\n",
      "JobDescription                                                       \n",
      "JobRequirment                                                        \n",
      "RequiredQual        - Knowledge of IBM PC Operating, including MS ...\n",
      "Salary                                                            NaN\n",
      "ApplicationP        All applicants are pleased to submit their CVs...\n",
      "OpeningDate                                          10 November 2004\n",
      "Deadline                                             31 December 2004\n",
      "Notes                                                             NaN\n",
      "AboutC              Avangard Motors LLC is the general distributor...\n",
      "Attach                                                            NaN\n",
      "Year                                                             2004\n",
      "Month                                                              11\n",
      "IT                                                              False\n",
      "Word Frequency      {'Avangard': 2, 'Motors': 2, 'LLC': 2, 'title'...\n",
      "Topic                                             Sales and Marketing\n",
      "Name: 729, dtype: object\n",
      "jobpost             Caucasus Media Institute TITLE:  Practical cou...\n",
      "date                                                     Apr 24, 2004\n",
      "Title               Practical course for journalists in online jou...\n",
      "Company                                      Caucasus Media Institute\n",
      "AnnouncementCode                                                  NaN\n",
      "Term                                                              NaN\n",
      "Eligibility                                                       NaN\n",
      "Audience                                                          NaN\n",
      "StartDate                                         1st - 3rd June 2004\n",
      "Duration                                                          NaN\n",
      "Location            CMI, Yerevan, Armenia\\nDETAIL DESCRIPTION:  Bu...\n",
      "JobDescription                                                       \n",
      "JobRequirment                                                        \n",
      "RequiredQual                                                         \n",
      "Salary                                                            NaN\n",
      "ApplicationP        To apply for the workshop, please submit the\\n...\n",
      "OpeningDate                                                       NaN\n",
      "Deadline                                                 15 May 2004.\n",
      "Notes                                                             NaN\n",
      "AboutC                                                               \n",
      "Attach              The following attachment(s) to this announceme...\n",
      "Year                                                             2004\n",
      "Month                                                               4\n",
      "IT                                                              False\n",
      "Word Frequency      {'Caucasus': 2, 'Media': 3, 'Institute': 2, 't...\n",
      "Topic                              Project Management and Development\n",
      "Name: 224, dtype: object\n",
      "jobpost             IntraHealth PRIME II TITLE:   Community Educat...\n",
      "date                                                     Feb 18, 2004\n",
      "Title               Community Education Campaign to Combat STIs/HI...\n",
      "Company                                          IntraHealth/PRIME II\n",
      "AnnouncementCode                                                  NaN\n",
      "Term                                                              NaN\n",
      "Eligibility                                                       NaN\n",
      "Audience                                                          NaN\n",
      "StartDate                                                         NaN\n",
      "Duration                                    maximum 6 months\\nPROJECT\n",
      "Location            Lori Marz, Armenia\\nPROJECT DESCRIPTION:   \\nC...\n",
      "JobDescription                                                       \n",
      "JobRequirment                                                        \n",
      "RequiredQual                                                         \n",
      "Salary                                                            NaN\n",
      "ApplicationP        For more information on specific application\\n...\n",
      "OpeningDate                                                       NaN\n",
      "Deadline                                               March 15, 2004\n",
      "Notes                                                             NaN\n",
      "AboutC              PRIME II is a cooperative agreement between In...\n",
      "Attach                                                            NaN\n",
      "Year                                                             2004\n",
      "Month                                                               2\n",
      "IT                                                              False\n",
      "Word Frequency      {'IntraHealth': 9, 'PRIME': 10, 'II': 10, 'tit...\n",
      "Topic                              Project Management and Development\n",
      "Name: 72, dtype: object\n",
      "jobpost             International Research & Exchanges Board (IREX...\n",
      "date                                                     Mar 16, 2004\n",
      "Title                          Administrative and Programmatic Intern\n",
      "Company               International Research & Exchanges Board (IREX)\n",
      "AnnouncementCode                                                  NaN\n",
      "Term                                                              NaN\n",
      "Eligibility                                                       NaN\n",
      "Audience                                                          NaN\n",
      "StartDate                                                         NaN\n",
      "Duration                                        6 months and 3 months\n",
      "Location            IATP Armenia Main Office, Yerevan\\nDESCRIPTION...\n",
      "JobDescription                                                       \n",
      "JobRequirment                                                        \n",
      "RequiredQual        - Fluency in English and Armenian; - Good comm...\n",
      "Salary                                                            NaN\n",
      "ApplicationP        Please submit the application form along with\\...\n",
      "OpeningDate                                                       NaN\n",
      "Deadline                                                01 April 2004\n",
      "Notes                                                             NaN\n",
      "AboutC              The International Research & Exchanges Board (...\n",
      "Attach                                                            NaN\n",
      "Year                                                             2004\n",
      "Month                                                               3\n",
      "IT                                                              False\n",
      "Word Frequency      {'International': 2, 'Research': 2, 'Exchanges...\n",
      "Topic                              Project Management and Development\n",
      "Name: 125, dtype: object\n"
     ]
    }
   ],
   "source": [
    "similar_jobs = job_dissimilarity_d2v_df_sorted.loc[job_dissimilarity_d2v_df_sorted['index'] == 1].head(6)['similar-job'].tolist()\n",
    "\n",
    "for job in similar_jobs:\n",
    "    print(df.iloc[int(job)])"
   ]
  },
  {
   "cell_type": "markdown",
   "metadata": {},
   "source": [
    "### Show top 5 similar results to job - Country Coordinator"
   ]
  },
  {
   "cell_type": "code",
   "execution_count": 167,
   "metadata": {},
   "outputs": [
    {
     "name": "stdout",
     "output_type": "stream",
     "text": [
      "jobpost             Caucasus Environmental NGO Network (CENN) JOB ...\n",
      "date                                                      Jan 7, 2004\n",
      "Title                                             Country Coordinator\n",
      "Company                     Caucasus Environmental NGO Network (CENN)\n",
      "AnnouncementCode                                                  NaN\n",
      "Term                                                              NaN\n",
      "Eligibility                                                       NaN\n",
      "Audience                                                          NaN\n",
      "StartDate                                                         NaN\n",
      "Duration                          Renewable annual contract\\nPOSITION\n",
      "Location                                             Yerevan, Armenia\n",
      "JobDescription      Public outreach and strengthening of a growing...\n",
      "JobRequirment       - Working with the Country Director to provide...\n",
      "RequiredQual        - Degree in environmentally related field, or ...\n",
      "Salary                                                            NaN\n",
      "ApplicationP        Please send resume or CV toursula.kazarian@......\n",
      "OpeningDate                                                       NaN\n",
      "Deadline                  20 January 2004\\nSTART DATE:  February 2004\n",
      "Notes                                                             NaN\n",
      "AboutC              The Caucasus Environmental NGO Network is a\\nn...\n",
      "Attach                                                            NaN\n",
      "Year                                                             2004\n",
      "Month                                                               1\n",
      "IT                                                              False\n",
      "Word Frequency      {'Caucasus': 3, 'Environmental': 2, 'NGO': 2, ...\n",
      "Topic                                             Sales and Marketing\n",
      "Name: 2, dtype: object\n",
      "jobpost             International Center for the Young TITLE:  Ele...\n",
      "date                                                      Jul 1, 2004\n",
      "Title                                              Elementary Teacher\n",
      "Company                            International Center for the Young\n",
      "AnnouncementCode                                                  NaN\n",
      "Term                                                              NaN\n",
      "Eligibility                                                       NaN\n",
      "Audience                                                     Teachers\n",
      "StartDate                                                 August 2004\n",
      "Duration                                                          NaN\n",
      "Location                                             Yerevan, Armenia\n",
      "JobDescription      We are seeking an individual with native Engli...\n",
      "JobRequirment       Teach (plan, implement and manage) a\\ndevelopm...\n",
      "RequiredQual        - BA or MA in Education, Elementary Education,...\n",
      "Salary                                                            NaN\n",
      "ApplicationP        Submit resume to ICY_Armenia@...\\nPlease clear...\n",
      "OpeningDate                                                       NaN\n",
      "Deadline                                                 09 July 2004\n",
      "Notes                                                             NaN\n",
      "AboutC                                                               \n",
      "Attach                                                            NaN\n",
      "Year                                                             2004\n",
      "Month                                                               7\n",
      "IT                                                              False\n",
      "Word Frequency      {'International': 1, 'Center': 2, 'Young': 1, ...\n",
      "Topic                                                   Communication\n",
      "Name: 389, dtype: object\n",
      "jobpost             International Center for the Young TITLE:  Ele...\n",
      "date                                                      Jul 8, 2004\n",
      "Title                                              Elementary Teacher\n",
      "Company                            International Center for the Young\n",
      "AnnouncementCode                                                  NaN\n",
      "Term                                                              NaN\n",
      "Eligibility                                                       NaN\n",
      "Audience                                                          NaN\n",
      "StartDate                                            Late August 2004\n",
      "Duration                                                          NaN\n",
      "Location                                             Yerevan, Armenia\n",
      "JobDescription      We are seeking an individual with native Engli...\n",
      "JobRequirment       Teach (plan, implement and manage) a\\ndevelopm...\n",
      "RequiredQual        - BA or MA in Education, Elementary Education,...\n",
      "Salary                                                            NaN\n",
      "ApplicationP        Submit resume to ICY_Armenia@...\\nPlease clear...\n",
      "OpeningDate                                                       NaN\n",
      "Deadline                                                 20 July 2004\n",
      "Notes                                                             NaN\n",
      "AboutC                                                               \n",
      "Attach                                                            NaN\n",
      "Year                                                             2004\n",
      "Month                                                               7\n",
      "IT                                                              False\n",
      "Word Frequency      {'International': 1, 'Center': 2, 'Young': 1, ...\n",
      "Topic                                                   Communication\n",
      "Name: 405, dtype: object\n",
      "jobpost             Valletta LLC TITLE:  Trade Agents DURATION:  L...\n",
      "date                                                     Jan 19, 2005\n",
      "Title                                                    Trade Agents\n",
      "Company                                                  Valletta LLC\n",
      "AnnouncementCode                                                  NaN\n",
      "Term                                                              NaN\n",
      "Eligibility                                                       NaN\n",
      "Audience                                                          NaN\n",
      "StartDate                                                         NaN\n",
      "Duration                                                    Long term\n",
      "Location                                             Yerevan, Armenia\n",
      "JobDescription      Valletta LLC is looking for experienced Trade ...\n",
      "JobRequirment       - Sell fast moving consumer goods;\\n- Provide ...\n",
      "RequiredQual        - Excellent communication skills; - Previous e...\n",
      "Salary                                                            NaN\n",
      "ApplicationP        Please send your CV to Mr. Gor Narinjyan at:go...\n",
      "OpeningDate                                           19 January 2005\n",
      "Deadline                                              27 January 2005\n",
      "Notes                                                             NaN\n",
      "AboutC                                                               \n",
      "Attach                                                            NaN\n",
      "Year                                                             2005\n",
      "Month                                                               1\n",
      "IT                                                              False\n",
      "Word Frequency      {'Valletta': 2, 'LLC': 2, 'title': 1, 'Trade':...\n",
      "Topic                              Project Management and Development\n",
      "Name: 942, dtype: object\n",
      "jobpost             Banber Distribution Systems LLC TITLE:  Trade ...\n",
      "date                                                  Jun 13 11:09 PM\n",
      "Title                                                    Trade Agents\n",
      "Company                               Banber Distribution Systems LLC\n",
      "AnnouncementCode                                                  NaN\n",
      "Term                                                              NaN\n",
      "Eligibility                                                       NaN\n",
      "Audience                                                          NaN\n",
      "StartDate                                                         NaN\n",
      "Duration                                                          NaN\n",
      "Location                                             Yerevan, Armenia\n",
      "JobDescription                                                       \n",
      "JobRequirment       - To distribute and display products on the as...\n",
      "RequiredQual        - 20-35 years old - Minimum 1 year driving exp...\n",
      "Salary                                       Starting salary: 200 USD\n",
      "ApplicationP        Please e-mail your resume and 1 photo (3x4) to...\n",
      "OpeningDate                                                       NaN\n",
      "Deadline                                                 20 June 2004\n",
      "Notes               - 6 days working week\\n- Company provides new ...\n",
      "AboutC              Banber Distribution Systems LLC- a distributor...\n",
      "Attach                                                            NaN\n",
      "Year                                                             2004\n",
      "Month                                                               6\n",
      "IT                                                              False\n",
      "Word Frequency      {'Banber': 2, 'Distribution': 2, 'Systems': 2,...\n",
      "Topic                                          Education and Training\n",
      "Name: 334, dtype: object\n",
      "jobpost             \"Golden Apricot\" Film Development Fund TITLE: ...\n",
      "date                                                      Nov 8, 2004\n",
      "Title                                                           Guide\n",
      "Company                        \"Golden Apricot\" Film Development Fund\n",
      "AnnouncementCode                                                  NaN\n",
      "Term                                                              NaN\n",
      "Eligibility                                                       All\n",
      "Audience                                                          NaN\n",
      "StartDate                                                         NaN\n",
      "Duration                                                          NaN\n",
      "Location                                             Yerevan, Armenia\n",
      "JobDescription                                                       \n",
      "JobRequirment       - To meet, help and assist festival guests and...\n",
      "RequiredQual        - Knowledge of Armenian, Russian and any forei...\n",
      "Salary                                                            NaN\n",
      "ApplicationP        Please, send an email message to:info@..., or ...\n",
      "OpeningDate                                          08 November 2004\n",
      "Deadline                                             30 December 2004\n",
      "Notes                                                             NaN\n",
      "AboutC                                                               \n",
      "Attach                                                            NaN\n",
      "Year                                                             2004\n",
      "Month                                                              11\n",
      "IT                                                              False\n",
      "Word Frequency      {'Golden': 1, 'Apricot': 1, 'Film': 1, 'Develo...\n",
      "Topic                                                   Communication\n",
      "Name: 724, dtype: object\n"
     ]
    }
   ],
   "source": [
    "similar_jobs = job_dissimilarity_d2v_df_sorted.loc[job_dissimilarity_d2v_df_sorted['index'] == 2].head(6)['similar-job'].tolist()\n",
    "\n",
    "for job in similar_jobs:\n",
    "    print(df.iloc[int(job)])"
   ]
  },
  {
   "cell_type": "code",
   "execution_count": null,
   "metadata": {},
   "outputs": [],
   "source": []
  }
 ],
 "metadata": {
  "kernelspec": {
   "display_name": "Python 3",
   "language": "python",
   "name": "python3"
  },
  "language_info": {
   "codemirror_mode": {
    "name": "ipython",
    "version": 3
   },
   "file_extension": ".py",
   "mimetype": "text/x-python",
   "name": "python",
   "nbconvert_exporter": "python",
   "pygments_lexer": "ipython3",
   "version": "3.7.3"
  }
 },
 "nbformat": 4,
 "nbformat_minor": 4
}
