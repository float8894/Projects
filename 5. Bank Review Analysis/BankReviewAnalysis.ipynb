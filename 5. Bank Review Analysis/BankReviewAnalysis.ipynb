{
 "cells": [
  {
   "cell_type": "markdown",
   "metadata": {},
   "source": [
    "# Bank Review Analysis"
   ]
  },
  {
   "cell_type": "markdown",
   "metadata": {},
   "source": [
    "***Central banks collecting information about customer satisfaction with the services provided by different bank. Also collects the information about the complaints.***\n",
    "\n",
    "\n",
    "***The objective of the case study is to analyze customer reviews and predict customer satisfaction with the reviews***\n",
    "\n",
    "- Data processing\n",
    "- Key positive words/negative words (most frequent words)\n",
    "- Classification of reviews into positive, negative and neutral\n",
    "- Identify key themes of problems (using clustering, topic models)\n",
    "- Predicting star ratings using reviews.\n",
    "- Perform intent analysis"
   ]
  },
  {
   "cell_type": "markdown",
   "metadata": {},
   "source": [
    "***The data is a detailed dump of customer reviews/complaints (~500) of different services at different banks***\n",
    "\n",
    "- Date (Day the review was posted)\n",
    "- Stars (1–5 rating for the business)\n",
    "- text (Review text)\n",
    "- bank name"
   ]
  },
  {
   "cell_type": "markdown",
   "metadata": {},
   "source": [
    "## Data Pre-Processing"
   ]
  },
  {
   "cell_type": "code",
   "execution_count": 1,
   "metadata": {},
   "outputs": [],
   "source": [
    "import pandas as pd\n",
    "import numpy as np\n",
    "import seaborn as sns\n",
    "import matplotlib.pyplot as plt\n",
    "%matplotlib inline"
   ]
  },
  {
   "cell_type": "code",
   "execution_count": 2,
   "metadata": {},
   "outputs": [],
   "source": [
    "df = pd.read_excel('BankReviews.xlsx')"
   ]
  },
  {
   "cell_type": "code",
   "execution_count": 3,
   "metadata": {},
   "outputs": [
    {
     "data": {
      "text/html": [
       "<div>\n",
       "<style scoped>\n",
       "    .dataframe tbody tr th:only-of-type {\n",
       "        vertical-align: middle;\n",
       "    }\n",
       "\n",
       "    .dataframe tbody tr th {\n",
       "        vertical-align: top;\n",
       "    }\n",
       "\n",
       "    .dataframe thead th {\n",
       "        text-align: right;\n",
       "    }\n",
       "</style>\n",
       "<table border=\"1\" class=\"dataframe\">\n",
       "  <thead>\n",
       "    <tr style=\"text-align: right;\">\n",
       "      <th></th>\n",
       "      <th>Date</th>\n",
       "      <th>Stars</th>\n",
       "      <th>Reviews</th>\n",
       "      <th>BankName</th>\n",
       "    </tr>\n",
       "  </thead>\n",
       "  <tbody>\n",
       "    <tr>\n",
       "      <th>0</th>\n",
       "      <td>2017-04-10</td>\n",
       "      <td>5</td>\n",
       "      <td>Great job, Wyndham Capital! Each person was pr...</td>\n",
       "      <td>Wyndham Capital Mortgage</td>\n",
       "    </tr>\n",
       "    <tr>\n",
       "      <th>1</th>\n",
       "      <td>2017-02-10</td>\n",
       "      <td>5</td>\n",
       "      <td>Matthew Richardson is professional and helpful...</td>\n",
       "      <td>Wyndham Capital Mortgage</td>\n",
       "    </tr>\n",
       "    <tr>\n",
       "      <th>2</th>\n",
       "      <td>2017-08-21</td>\n",
       "      <td>5</td>\n",
       "      <td>We had a past experience with Wyndham Mortgage...</td>\n",
       "      <td>Wyndham Capital Mortgage</td>\n",
       "    </tr>\n",
       "    <tr>\n",
       "      <th>3</th>\n",
       "      <td>2017-12-17</td>\n",
       "      <td>5</td>\n",
       "      <td>We have been dealing with Brad Thomka from the...</td>\n",
       "      <td>Wyndham Capital Mortgage</td>\n",
       "    </tr>\n",
       "    <tr>\n",
       "      <th>4</th>\n",
       "      <td>2016-05-27</td>\n",
       "      <td>5</td>\n",
       "      <td>I can't express how grateful I am for the supp...</td>\n",
       "      <td>Wyndham Capital Mortgage</td>\n",
       "    </tr>\n",
       "  </tbody>\n",
       "</table>\n",
       "</div>"
      ],
      "text/plain": [
       "        Date  Stars                                            Reviews  \\\n",
       "0 2017-04-10      5  Great job, Wyndham Capital! Each person was pr...   \n",
       "1 2017-02-10      5  Matthew Richardson is professional and helpful...   \n",
       "2 2017-08-21      5  We had a past experience with Wyndham Mortgage...   \n",
       "3 2017-12-17      5  We have been dealing with Brad Thomka from the...   \n",
       "4 2016-05-27      5  I can't express how grateful I am for the supp...   \n",
       "\n",
       "                   BankName  \n",
       "0  Wyndham Capital Mortgage  \n",
       "1  Wyndham Capital Mortgage  \n",
       "2  Wyndham Capital Mortgage  \n",
       "3  Wyndham Capital Mortgage  \n",
       "4  Wyndham Capital Mortgage  "
      ]
     },
     "execution_count": 3,
     "metadata": {},
     "output_type": "execute_result"
    }
   ],
   "source": [
    "df.head()"
   ]
  },
  {
   "cell_type": "code",
   "execution_count": 4,
   "metadata": {},
   "outputs": [
    {
     "name": "stdout",
     "output_type": "stream",
     "text": [
      "<class 'pandas.core.frame.DataFrame'>\n",
      "RangeIndex: 505 entries, 0 to 504\n",
      "Data columns (total 4 columns):\n",
      " #   Column    Non-Null Count  Dtype         \n",
      "---  ------    --------------  -----         \n",
      " 0   Date      505 non-null    datetime64[ns]\n",
      " 1   Stars     505 non-null    int64         \n",
      " 2   Reviews   505 non-null    object        \n",
      " 3   BankName  505 non-null    object        \n",
      "dtypes: datetime64[ns](1), int64(1), object(2)\n",
      "memory usage: 15.9+ KB\n"
     ]
    }
   ],
   "source": [
    "df.info()"
   ]
  },
  {
   "cell_type": "code",
   "execution_count": 5,
   "metadata": {},
   "outputs": [
    {
     "data": {
      "text/plain": [
       "Date        0\n",
       "Stars       0\n",
       "Reviews     0\n",
       "BankName    0\n",
       "dtype: int64"
      ]
     },
     "execution_count": 5,
     "metadata": {},
     "output_type": "execute_result"
    }
   ],
   "source": [
    "df.isnull().sum()"
   ]
  },
  {
   "cell_type": "code",
   "execution_count": 6,
   "metadata": {},
   "outputs": [
    {
     "data": {
      "text/plain": [
       "'Great job, Wyndham Capital! Each person was professional and helped us move through our refinance process smoothly. Thank you!'"
      ]
     },
     "execution_count": 6,
     "metadata": {},
     "output_type": "execute_result"
    }
   ],
   "source": [
    "df['Reviews'][0]"
   ]
  },
  {
   "cell_type": "markdown",
   "metadata": {},
   "source": [
    "## Dropping the Date Column as it doesn't have any affect on the data based on our objective"
   ]
  },
  {
   "cell_type": "code",
   "execution_count": 7,
   "metadata": {},
   "outputs": [],
   "source": [
    "df.drop('Date', axis=1, inplace=True)"
   ]
  },
  {
   "cell_type": "markdown",
   "metadata": {},
   "source": [
    "### Checking if there's any empty string in a Review column"
   ]
  },
  {
   "cell_type": "code",
   "execution_count": 8,
   "metadata": {},
   "outputs": [],
   "source": [
    "blanks = []\n",
    "for i, st, rv, bn in df.itertuples():\n",
    "    if type(rv) == str:\n",
    "        if rv.isspace():\n",
    "            blanks.append(i)"
   ]
  },
  {
   "cell_type": "code",
   "execution_count": 9,
   "metadata": {},
   "outputs": [
    {
     "data": {
      "text/plain": [
       "[]"
      ]
     },
     "execution_count": 9,
     "metadata": {},
     "output_type": "execute_result"
    }
   ],
   "source": [
    "blanks"
   ]
  },
  {
   "cell_type": "markdown",
   "metadata": {},
   "source": [
    "### No empty strings are found, so that's good."
   ]
  },
  {
   "cell_type": "markdown",
   "metadata": {},
   "source": [
    "### Checking each individual word's sentiment after tokenizing them."
   ]
  },
  {
   "cell_type": "code",
   "execution_count": 10,
   "metadata": {},
   "outputs": [],
   "source": [
    "import spacy\n",
    "nlp = spacy.load('en_core_web_lg')"
   ]
  },
  {
   "cell_type": "code",
   "execution_count": 11,
   "metadata": {},
   "outputs": [
    {
     "name": "stdout",
     "output_type": "stream",
     "text": [
      "great\n",
      "job\n",
      "Wyndham\n",
      "Capital\n",
      "person\n",
      "professional\n",
      "help\n",
      "refinance\n",
      "process\n",
      "smoothly\n",
      "thank\n"
     ]
    }
   ],
   "source": [
    "for token in nlp(df['Reviews'][0]):\n",
    "    if (token.is_punct) | (nlp.vocab[str(token)].is_stop):\n",
    "        continue\n",
    "    else:\n",
    "        print(token.lemma_)"
   ]
  },
  {
   "cell_type": "code",
   "execution_count": 12,
   "metadata": {},
   "outputs": [],
   "source": [
    "from nltk.sentiment.vader import SentimentIntensityAnalyzer"
   ]
  },
  {
   "cell_type": "code",
   "execution_count": 13,
   "metadata": {},
   "outputs": [],
   "source": [
    "sia = SentimentIntensityAnalyzer()"
   ]
  },
  {
   "cell_type": "markdown",
   "metadata": {},
   "source": [
    "#### This function takes the document, and then tokenize it after removing any punctuations and stop words. And then lemmatize it before checking it's sentiment. It returns a dictionary classifying each word from a review as positive, negative or neutral."
   ]
  },
  {
   "cell_type": "code",
   "execution_count": 14,
   "metadata": {},
   "outputs": [],
   "source": [
    "def word_sentiment(doc):\n",
    "    word_sent = {}\n",
    "    for token in nlp(doc):\n",
    "        if (token.is_punct) | (nlp.vocab[str(token)].is_stop):\n",
    "            continue\n",
    "        else:\n",
    "            if sia.polarity_scores(token.lemma_)['pos'] == 1.0:\n",
    "                word_sent[token.lemma_] = 'Positive'\n",
    "            elif sia.polarity_scores(token.lemma_)['neg'] == 1.0:\n",
    "                word_sent[token.lemma_] = 'Negative'\n",
    "            elif sia.polarity_scores(token.lemma_)['neu'] == 1.0:\n",
    "                word_sent[token.lemma_] = 'Neutral'\n",
    "    return word_sent"
   ]
  },
  {
   "cell_type": "markdown",
   "metadata": {},
   "source": [
    "### Adding a new column 'Word_Sentiment' by applying the 'word_sentiment()' function to the 'Reviews' column."
   ]
  },
  {
   "cell_type": "code",
   "execution_count": 15,
   "metadata": {},
   "outputs": [],
   "source": [
    "df['Word_Sentiment'] = df['Reviews'].apply(word_sentiment)"
   ]
  },
  {
   "cell_type": "code",
   "execution_count": 16,
   "metadata": {},
   "outputs": [
    {
     "data": {
      "text/html": [
       "<div>\n",
       "<style scoped>\n",
       "    .dataframe tbody tr th:only-of-type {\n",
       "        vertical-align: middle;\n",
       "    }\n",
       "\n",
       "    .dataframe tbody tr th {\n",
       "        vertical-align: top;\n",
       "    }\n",
       "\n",
       "    .dataframe thead th {\n",
       "        text-align: right;\n",
       "    }\n",
       "</style>\n",
       "<table border=\"1\" class=\"dataframe\">\n",
       "  <thead>\n",
       "    <tr style=\"text-align: right;\">\n",
       "      <th></th>\n",
       "      <th>Stars</th>\n",
       "      <th>Reviews</th>\n",
       "      <th>BankName</th>\n",
       "      <th>Word_Sentiment</th>\n",
       "    </tr>\n",
       "  </thead>\n",
       "  <tbody>\n",
       "    <tr>\n",
       "      <th>0</th>\n",
       "      <td>5</td>\n",
       "      <td>Great job, Wyndham Capital! Each person was pr...</td>\n",
       "      <td>Wyndham Capital Mortgage</td>\n",
       "      <td>{'great': 'Positive', 'job': 'Neutral', 'Wyndh...</td>\n",
       "    </tr>\n",
       "    <tr>\n",
       "      <th>1</th>\n",
       "      <td>5</td>\n",
       "      <td>Matthew Richardson is professional and helpful...</td>\n",
       "      <td>Wyndham Capital Mortgage</td>\n",
       "      <td>{'Matthew': 'Neutral', 'Richardson': 'Neutral'...</td>\n",
       "    </tr>\n",
       "    <tr>\n",
       "      <th>2</th>\n",
       "      <td>5</td>\n",
       "      <td>We had a past experience with Wyndham Mortgage...</td>\n",
       "      <td>Wyndham Capital Mortgage</td>\n",
       "      <td>{'past': 'Neutral', 'experience': 'Neutral', '...</td>\n",
       "    </tr>\n",
       "    <tr>\n",
       "      <th>3</th>\n",
       "      <td>5</td>\n",
       "      <td>We have been dealing with Brad Thomka from the...</td>\n",
       "      <td>Wyndham Capital Mortgage</td>\n",
       "      <td>{'deal': 'Neutral', 'Brad': 'Neutral', 'Thomka...</td>\n",
       "    </tr>\n",
       "    <tr>\n",
       "      <th>4</th>\n",
       "      <td>5</td>\n",
       "      <td>I can't express how grateful I am for the supp...</td>\n",
       "      <td>Wyndham Capital Mortgage</td>\n",
       "      <td>{'express': 'Neutral', 'grateful': 'Positive',...</td>\n",
       "    </tr>\n",
       "  </tbody>\n",
       "</table>\n",
       "</div>"
      ],
      "text/plain": [
       "   Stars                                            Reviews  \\\n",
       "0      5  Great job, Wyndham Capital! Each person was pr...   \n",
       "1      5  Matthew Richardson is professional and helpful...   \n",
       "2      5  We had a past experience with Wyndham Mortgage...   \n",
       "3      5  We have been dealing with Brad Thomka from the...   \n",
       "4      5  I can't express how grateful I am for the supp...   \n",
       "\n",
       "                   BankName                                     Word_Sentiment  \n",
       "0  Wyndham Capital Mortgage  {'great': 'Positive', 'job': 'Neutral', 'Wyndh...  \n",
       "1  Wyndham Capital Mortgage  {'Matthew': 'Neutral', 'Richardson': 'Neutral'...  \n",
       "2  Wyndham Capital Mortgage  {'past': 'Neutral', 'experience': 'Neutral', '...  \n",
       "3  Wyndham Capital Mortgage  {'deal': 'Neutral', 'Brad': 'Neutral', 'Thomka...  \n",
       "4  Wyndham Capital Mortgage  {'express': 'Neutral', 'grateful': 'Positive',...  "
      ]
     },
     "execution_count": 16,
     "metadata": {},
     "output_type": "execute_result"
    }
   ],
   "source": [
    "df.head()"
   ]
  },
  {
   "cell_type": "markdown",
   "metadata": {},
   "source": [
    "### Let's check"
   ]
  },
  {
   "cell_type": "code",
   "execution_count": 17,
   "metadata": {},
   "outputs": [
    {
     "name": "stdout",
     "output_type": "stream",
     "text": [
      "Great job, Wyndham Capital! Each person was professional and helped us move through our refinance process smoothly. Thank you!\n",
      "\n",
      "\n",
      "{'great': 'Positive', 'job': 'Neutral', 'Wyndham': 'Neutral', 'Capital': 'Neutral', 'person': 'Neutral', 'professional': 'Neutral', 'help': 'Positive', 'refinance': 'Neutral', 'process': 'Neutral', 'smoothly': 'Neutral', 'thank': 'Positive'}\n"
     ]
    }
   ],
   "source": [
    "print(df['Reviews'][0])\n",
    "print('\\n')\n",
    "print(df['Word_Sentiment'][0])"
   ]
  },
  {
   "cell_type": "markdown",
   "metadata": {},
   "source": [
    "### 'positives' and 'negatives' are two dictionaries contains all the positive and negative words respectively, and their frequencies. We've done so in order to find the top most frequent positive and negative words in our corpus."
   ]
  },
  {
   "cell_type": "code",
   "execution_count": 18,
   "metadata": {},
   "outputs": [],
   "source": [
    "positives = {}\n",
    "negatives = {}\n",
    "for i in range(len(df['Word_Sentiment'])):\n",
    "    for j in df['Word_Sentiment'][i]:\n",
    "        if sia.polarity_scores(j)['pos'] == 1.0:\n",
    "            if j not in positives.keys():\n",
    "                positives[j] = 1\n",
    "            else:\n",
    "                positives[j] += 1\n",
    "        elif sia.polarity_scores(j)['neg'] == 1.0:\n",
    "            if j not in negatives.keys():\n",
    "                negatives[j] = 1\n",
    "            else:\n",
    "                negatives[j] += 1\n",
    "        elif sia.polarity_scores(j)['neu'] == 1.0:\n",
    "            continue"
   ]
  },
  {
   "cell_type": "code",
   "execution_count": 19,
   "metadata": {},
   "outputs": [],
   "source": [
    "# pos_lis = []\n",
    "# for i in positives.keys():\n",
    "#     pos_lis.append((i, positives[i]))"
   ]
  },
  {
   "cell_type": "code",
   "execution_count": 20,
   "metadata": {},
   "outputs": [],
   "source": [
    "# pos_lis = sorted(pos_lis, key=lambda x:x[1], reverse=True)"
   ]
  },
  {
   "cell_type": "code",
   "execution_count": 21,
   "metadata": {},
   "outputs": [],
   "source": [
    "# neg_lis = []\n",
    "# for i in negatives.keys():\n",
    "#     neg_lis.append((i, negatives[i]))"
   ]
  },
  {
   "cell_type": "code",
   "execution_count": 22,
   "metadata": {},
   "outputs": [],
   "source": [
    "# neg_lis = sorted(neg_lis, key=lambda x:x[1], reverse=True)"
   ]
  },
  {
   "cell_type": "code",
   "execution_count": 23,
   "metadata": {},
   "outputs": [],
   "source": [
    "# len(neg_lis)"
   ]
  },
  {
   "cell_type": "markdown",
   "metadata": {},
   "source": [
    "# Top 50 most frequent positive words."
   ]
  },
  {
   "cell_type": "code",
   "execution_count": 24,
   "metadata": {},
   "outputs": [],
   "source": [
    "from PIL import Image"
   ]
  },
  {
   "cell_type": "code",
   "execution_count": 25,
   "metadata": {},
   "outputs": [],
   "source": [
    "from wordcloud import WordCloud"
   ]
  },
  {
   "cell_type": "code",
   "execution_count": 26,
   "metadata": {},
   "outputs": [
    {
     "data": {
      "text/plain": [
       "<matplotlib.image.AxesImage at 0x1bdc8686e80>"
      ]
     },
     "execution_count": 26,
     "metadata": {},
     "output_type": "execute_result"
    },
    {
     "data": {
      "image/png": "[encoded data removed]",
      "text/plain": [
       "<Figure size 1080x360 with 1 Axes>"
      ]
     },
     "metadata": {
      "needs_background": "light"
     },
     "output_type": "display_data"
    }
   ],
   "source": [
    "wc = WordCloud(background_color=\"white\", width=600, height=400, max_words=50, relative_scaling=0.5, normalize_plurals=False).generate_from_frequencies(positives)\n",
    "plt.figure(figsize=(15,5))\n",
    "plt.axis(\"off\")\n",
    "plt.tight_layout(pad=0)\n",
    "plt.imshow(wc)"
   ]
  },
  {
   "cell_type": "markdown",
   "metadata": {},
   "source": [
    "# Top 50 most frequent negative words."
   ]
  },
  {
   "cell_type": "code",
   "execution_count": 27,
   "metadata": {},
   "outputs": [
    {
     "data": {
      "text/plain": [
       "<matplotlib.image.AxesImage at 0x1bdc86e5748>"
      ]
     },
     "execution_count": 27,
     "metadata": {},
     "output_type": "execute_result"
    },
    {
     "data": {
      "image/png": "[encoded data removed]",
      "text/plain": [
       "<Figure size 1080x360 with 1 Axes>"
      ]
     },
     "metadata": {
      "needs_background": "light"
     },
     "output_type": "display_data"
    }
   ],
   "source": [
    "wc = WordCloud(background_color=\"white\", width=600, height=400, max_words=50, relative_scaling=0.5, normalize_plurals=False).generate_from_frequencies(negatives)\n",
    "plt.figure(figsize=(15,5))\n",
    "plt.axis(\"off\")\n",
    "plt.tight_layout(pad=0)\n",
    "plt.imshow(wc)"
   ]
  },
  {
   "cell_type": "markdown",
   "metadata": {},
   "source": [
    "## Now it's time to label our reviews as Positive, Negative, or Netural."
   ]
  },
  {
   "cell_type": "code",
   "execution_count": 28,
   "metadata": {},
   "outputs": [
    {
     "data": {
      "text/plain": [
       "{'neg': 0.0, 'neu': 0.703, 'pos': 0.297, 'compound': 0.8011}"
      ]
     },
     "execution_count": 28,
     "metadata": {},
     "output_type": "execute_result"
    }
   ],
   "source": [
    "sia.polarity_scores(df['Reviews'][0])"
   ]
  },
  {
   "cell_type": "markdown",
   "metadata": {},
   "source": [
    "## Adding a new column 'Compound' and based on it's value we'll label our reviews"
   ]
  },
  {
   "cell_type": "code",
   "execution_count": 29,
   "metadata": {},
   "outputs": [],
   "source": [
    "df['Compound'] = df['Reviews'].apply(lambda x: sia.polarity_scores(x)['compound'])"
   ]
  },
  {
   "cell_type": "code",
   "execution_count": 30,
   "metadata": {},
   "outputs": [
    {
     "data": {
      "text/html": [
       "<div>\n",
       "<style scoped>\n",
       "    .dataframe tbody tr th:only-of-type {\n",
       "        vertical-align: middle;\n",
       "    }\n",
       "\n",
       "    .dataframe tbody tr th {\n",
       "        vertical-align: top;\n",
       "    }\n",
       "\n",
       "    .dataframe thead th {\n",
       "        text-align: right;\n",
       "    }\n",
       "</style>\n",
       "<table border=\"1\" class=\"dataframe\">\n",
       "  <thead>\n",
       "    <tr style=\"text-align: right;\">\n",
       "      <th></th>\n",
       "      <th>Stars</th>\n",
       "      <th>Reviews</th>\n",
       "      <th>BankName</th>\n",
       "      <th>Word_Sentiment</th>\n",
       "      <th>Compound</th>\n",
       "    </tr>\n",
       "  </thead>\n",
       "  <tbody>\n",
       "    <tr>\n",
       "      <th>0</th>\n",
       "      <td>5</td>\n",
       "      <td>Great job, Wyndham Capital! Each person was pr...</td>\n",
       "      <td>Wyndham Capital Mortgage</td>\n",
       "      <td>{'great': 'Positive', 'job': 'Neutral', 'Wyndh...</td>\n",
       "      <td>0.8011</td>\n",
       "    </tr>\n",
       "    <tr>\n",
       "      <th>1</th>\n",
       "      <td>5</td>\n",
       "      <td>Matthew Richardson is professional and helpful...</td>\n",
       "      <td>Wyndham Capital Mortgage</td>\n",
       "      <td>{'Matthew': 'Neutral', 'Richardson': 'Neutral'...</td>\n",
       "      <td>0.8516</td>\n",
       "    </tr>\n",
       "    <tr>\n",
       "      <th>2</th>\n",
       "      <td>5</td>\n",
       "      <td>We had a past experience with Wyndham Mortgage...</td>\n",
       "      <td>Wyndham Capital Mortgage</td>\n",
       "      <td>{'past': 'Neutral', 'experience': 'Neutral', '...</td>\n",
       "      <td>0.9595</td>\n",
       "    </tr>\n",
       "    <tr>\n",
       "      <th>3</th>\n",
       "      <td>5</td>\n",
       "      <td>We have been dealing with Brad Thomka from the...</td>\n",
       "      <td>Wyndham Capital Mortgage</td>\n",
       "      <td>{'deal': 'Neutral', 'Brad': 'Neutral', 'Thomka...</td>\n",
       "      <td>0.9818</td>\n",
       "    </tr>\n",
       "    <tr>\n",
       "      <th>4</th>\n",
       "      <td>5</td>\n",
       "      <td>I can't express how grateful I am for the supp...</td>\n",
       "      <td>Wyndham Capital Mortgage</td>\n",
       "      <td>{'express': 'Neutral', 'grateful': 'Positive',...</td>\n",
       "      <td>0.5569</td>\n",
       "    </tr>\n",
       "  </tbody>\n",
       "</table>\n",
       "</div>"
      ],
      "text/plain": [
       "   Stars                                            Reviews  \\\n",
       "0      5  Great job, Wyndham Capital! Each person was pr...   \n",
       "1      5  Matthew Richardson is professional and helpful...   \n",
       "2      5  We had a past experience with Wyndham Mortgage...   \n",
       "3      5  We have been dealing with Brad Thomka from the...   \n",
       "4      5  I can't express how grateful I am for the supp...   \n",
       "\n",
       "                   BankName  \\\n",
       "0  Wyndham Capital Mortgage   \n",
       "1  Wyndham Capital Mortgage   \n",
       "2  Wyndham Capital Mortgage   \n",
       "3  Wyndham Capital Mortgage   \n",
       "4  Wyndham Capital Mortgage   \n",
       "\n",
       "                                      Word_Sentiment  Compound  \n",
       "0  {'great': 'Positive', 'job': 'Neutral', 'Wyndh...    0.8011  \n",
       "1  {'Matthew': 'Neutral', 'Richardson': 'Neutral'...    0.8516  \n",
       "2  {'past': 'Neutral', 'experience': 'Neutral', '...    0.9595  \n",
       "3  {'deal': 'Neutral', 'Brad': 'Neutral', 'Thomka...    0.9818  \n",
       "4  {'express': 'Neutral', 'grateful': 'Positive',...    0.5569  "
      ]
     },
     "execution_count": 30,
     "metadata": {},
     "output_type": "execute_result"
    }
   ],
   "source": [
    "df.head()"
   ]
  },
  {
   "cell_type": "markdown",
   "metadata": {},
   "source": [
    "### Function 'sent_detect()' will take the compound value as it's argument and returns the one label out of three. 'Positive' or 'Negative' or 'Neutral'."
   ]
  },
  {
   "cell_type": "code",
   "execution_count": 31,
   "metadata": {},
   "outputs": [],
   "source": [
    "def sent_detect(comp):\n",
    "    if comp > 0:\n",
    "        return 'Positive'\n",
    "    elif comp == 0:\n",
    "        return 'Neutral'\n",
    "    else:\n",
    "        return 'Negative'"
   ]
  },
  {
   "cell_type": "markdown",
   "metadata": {},
   "source": [
    "### Creating a new column 'Review_Sentiment' by applying the 'sent_detect()' function to the column 'Compound'."
   ]
  },
  {
   "cell_type": "code",
   "execution_count": 32,
   "metadata": {},
   "outputs": [],
   "source": [
    "df['Review_Sentiment'] = df['Compound'].apply(sent_detect)"
   ]
  },
  {
   "cell_type": "markdown",
   "metadata": {},
   "source": [
    "#### Counting the newly created labels"
   ]
  },
  {
   "cell_type": "code",
   "execution_count": 33,
   "metadata": {
    "scrolled": true
   },
   "outputs": [
    {
     "data": {
      "text/plain": [
       "Positive    430\n",
       "Negative     65\n",
       "Neutral      10\n",
       "Name: Review_Sentiment, dtype: int64"
      ]
     },
     "execution_count": 33,
     "metadata": {},
     "output_type": "execute_result"
    }
   ],
   "source": [
    "df['Review_Sentiment'].value_counts()"
   ]
  },
  {
   "cell_type": "code",
   "execution_count": 34,
   "metadata": {},
   "outputs": [
    {
     "data": {
      "text/plain": [
       "5    410\n",
       "1     95\n",
       "Name: Stars, dtype: int64"
      ]
     },
     "execution_count": 34,
     "metadata": {},
     "output_type": "execute_result"
    }
   ],
   "source": [
    "df['Stars'].value_counts()"
   ]
  },
  {
   "cell_type": "markdown",
   "metadata": {},
   "source": [
    "# Topic Modeling"
   ]
  },
  {
   "cell_type": "code",
   "execution_count": 35,
   "metadata": {},
   "outputs": [],
   "source": [
    "from sklearn.feature_extraction.text import TfidfVectorizer"
   ]
  },
  {
   "cell_type": "code",
   "execution_count": 36,
   "metadata": {},
   "outputs": [],
   "source": [
    "tfidf = TfidfVectorizer(max_df=0.9, min_df=2, stop_words='english')"
   ]
  },
  {
   "cell_type": "code",
   "execution_count": 37,
   "metadata": {},
   "outputs": [],
   "source": [
    "dtm = tfidf.fit_transform(df['Reviews'])"
   ]
  },
  {
   "cell_type": "code",
   "execution_count": 38,
   "metadata": {},
   "outputs": [
    {
     "data": {
      "text/plain": [
       "<505x1598 sparse matrix of type '<class 'numpy.float64'>'\n",
       "\twith 13750 stored elements in Compressed Sparse Row format>"
      ]
     },
     "execution_count": 38,
     "metadata": {},
     "output_type": "execute_result"
    }
   ],
   "source": [
    "dtm"
   ]
  },
  {
   "cell_type": "markdown",
   "metadata": {},
   "source": [
    "## Non-Negative Matrix Factorization method"
   ]
  },
  {
   "cell_type": "code",
   "execution_count": 39,
   "metadata": {},
   "outputs": [],
   "source": [
    "from sklearn.decomposition import NMF"
   ]
  },
  {
   "cell_type": "code",
   "execution_count": 40,
   "metadata": {},
   "outputs": [],
   "source": [
    "nmf = NMF(n_components=7)"
   ]
  },
  {
   "cell_type": "code",
   "execution_count": 41,
   "metadata": {},
   "outputs": [
    {
     "data": {
      "text/plain": [
       "NMF(alpha=0.0, beta_loss='frobenius', init=None, l1_ratio=0.0, max_iter=200,\n",
       "    n_components=7, random_state=None, shuffle=False, solver='cd', tol=0.0001,\n",
       "    verbose=0)"
      ]
     },
     "execution_count": 41,
     "metadata": {},
     "output_type": "execute_result"
    }
   ],
   "source": [
    "nmf.fit(dtm)"
   ]
  },
  {
   "cell_type": "code",
   "execution_count": 42,
   "metadata": {},
   "outputs": [
    {
     "data": {
      "text/plain": [
       "7"
      ]
     },
     "execution_count": 42,
     "metadata": {},
     "output_type": "execute_result"
    }
   ],
   "source": [
    "nmf.n_components_"
   ]
  },
  {
   "cell_type": "code",
   "execution_count": 43,
   "metadata": {},
   "outputs": [
    {
     "data": {
      "text/plain": [
       "array([[0.        , 0.03172406, 0.        , ..., 0.19979787, 0.00824873,\n",
       "        0.        ],\n",
       "       [0.        , 0.        , 0.        , ..., 0.        , 0.        ,\n",
       "        0.        ],\n",
       "       [0.        , 0.        , 0.        , ..., 0.        , 0.        ,\n",
       "        0.        ],\n",
       "       ...,\n",
       "       [0.00021294, 0.00566405, 0.        , ..., 0.03240977, 0.        ,\n",
       "        0.00230635],\n",
       "       [0.        , 0.        , 0.04110511, ..., 0.        , 0.00088998,\n",
       "        0.        ],\n",
       "       [0.06051295, 0.0160264 , 0.        , ..., 0.03512562, 0.01101833,\n",
       "        0.01551874]])"
      ]
     },
     "execution_count": 43,
     "metadata": {},
     "output_type": "execute_result"
    }
   ],
   "source": [
    "nmf.components_"
   ]
  },
  {
   "cell_type": "markdown",
   "metadata": {},
   "source": [
    "## Displaying Topics"
   ]
  },
  {
   "cell_type": "code",
   "execution_count": 44,
   "metadata": {},
   "outputs": [
    {
     "data": {
      "text/plain": [
       "1598"
      ]
     },
     "execution_count": 44,
     "metadata": {},
     "output_type": "execute_result"
    }
   ],
   "source": [
    "len(tfidf.get_feature_names())"
   ]
  },
  {
   "cell_type": "code",
   "execution_count": 45,
   "metadata": {},
   "outputs": [],
   "source": [
    "import random"
   ]
  },
  {
   "cell_type": "code",
   "execution_count": 46,
   "metadata": {},
   "outputs": [
    {
     "name": "stdout",
     "output_type": "stream",
     "text": [
      "smooth\n",
      "circumstances\n",
      "32\n",
      "ownership\n",
      "daughter\n",
      "prior\n",
      "forwarding\n",
      "vacation\n",
      "quickly\n",
      "initiate\n"
     ]
    }
   ],
   "source": [
    "for i in range(10):\n",
    "    random_word_id = random.randint(0,1598)\n",
    "    print(tfidf.get_feature_names()[random_word_id])"
   ]
  },
  {
   "cell_type": "code",
   "execution_count": 47,
   "metadata": {},
   "outputs": [
    {
     "name": "stdout",
     "output_type": "stream",
     "text": [
      "didnt\n",
      "adan\n",
      "educate\n",
      "klossner\n",
      "understands\n",
      "consolidate\n",
      "tim\n",
      "humanly\n",
      "occasion\n",
      "regret\n"
     ]
    }
   ],
   "source": [
    "for i in range(10):\n",
    "    random_word_id = random.randint(0,1598)\n",
    "    print(tfidf.get_feature_names()[random_word_id])"
   ]
  },
  {
   "cell_type": "code",
   "execution_count": 48,
   "metadata": {},
   "outputs": [
    {
     "data": {
      "text/plain": [
       "1598"
      ]
     },
     "execution_count": 48,
     "metadata": {},
     "output_type": "execute_result"
    }
   ],
   "source": [
    "len(nmf.components_[0])"
   ]
  },
  {
   "cell_type": "code",
   "execution_count": 49,
   "metadata": {},
   "outputs": [],
   "source": [
    "single_topic = nmf.components_[0]"
   ]
  },
  {
   "cell_type": "code",
   "execution_count": 50,
   "metadata": {},
   "outputs": [
    {
     "data": {
      "text/plain": [
       "array([   0,  808,  809, ...,  680, 1168,  686], dtype=int64)"
      ]
     },
     "execution_count": 50,
     "metadata": {},
     "output_type": "execute_result"
    }
   ],
   "source": [
    "single_topic.argsort()"
   ]
  },
  {
   "cell_type": "code",
   "execution_count": 51,
   "metadata": {},
   "outputs": [
    {
     "data": {
      "text/plain": [
       "array([  48,  162, 1426,  385,  853, 1134, 1094,  680, 1168,  686],\n",
       "      dtype=int64)"
      ]
     },
     "execution_count": 51,
     "metadata": {},
     "output_type": "execute_result"
    }
   ],
   "source": [
    "single_topic.argsort()[-10:]"
   ]
  },
  {
   "cell_type": "code",
   "execution_count": 52,
   "metadata": {},
   "outputs": [
    {
     "name": "stdout",
     "output_type": "stream",
     "text": [
      "adam\n",
      "best\n",
      "team\n",
      "dean\n",
      "loan\n",
      "questions\n",
      "process\n",
      "highly\n",
      "recommend\n",
      "home\n"
     ]
    }
   ],
   "source": [
    "for i in single_topic.argsort()[-10:]:\n",
    "    print(tfidf.get_feature_names()[i])"
   ]
  },
  {
   "cell_type": "markdown",
   "metadata": {},
   "source": [
    "## Tagging each component using enumerate and displaying top 15 most significant words per topic."
   ]
  },
  {
   "cell_type": "code",
   "execution_count": 53,
   "metadata": {},
   "outputs": [
    {
     "name": "stdout",
     "output_type": "stream",
     "text": [
      "Top 15 words for Topic 1:\n",
      "\n",
      "\n",
      "['worked', 'step', 'amazing', 'help', 'helped', 'adam', 'best', 'team', 'dean', 'loan', 'questions', 'process', 'highly', 'recommend', 'home']\n",
      "\n",
      "\n",
      "Top 15 words for Topic 2:\n",
      "\n",
      "\n",
      "['peter', 'website', 'quickly', 'informed', 'team', 'tedious', 'quick', 'answered', 'questions', 'got', 'process', 'easy', 'responsive', 'work', 'great']\n",
      "\n",
      "\n",
      "Top 15 words for Topic 3:\n",
      "\n",
      "\n",
      "['helpful', 'knowledgeable', 'passing', 'process', 'patient', 'extremely', 'loan', 'husband', 'simple', 'accurate', 'quick', 'asset', 'mortgage', 'barrett', 'jon']\n",
      "\n",
      "\n",
      "Top 15 words for Topic 4:\n",
      "\n",
      "\n",
      "['oriented', 'mortgage', 'jeremy', 'excellent', 'dallas', 'heartily', 'fast', 'outstanding', 've', 'people', 'timely', 'great', 'helpful', 'customer', 'service']\n",
      "\n",
      "\n",
      "Top 15 words for Topic 5:\n",
      "\n",
      "\n",
      "['experience', 'best', 'bryant', 'different', 'complicated', 'home', 'worked', 'loans', 'loan', 'team', 'entire', 'time', 'va', 'kory', 'nasb']\n",
      "\n",
      "\n",
      "Top 15 words for Topic 6:\n",
      "\n",
      "\n",
      "['looking', 'ask', 'commented', 'escrows', 'lender', 'realtor', 'madewell', 'pleasure', 'company', 'working', 'mortgage', 'pacific', 'beneficial', 'jocovic', 'alex']\n",
      "\n",
      "\n",
      "Top 15 words for Topic 7:\n",
      "\n",
      "\n",
      "['didn', 'read', 'good', 'contacted', 'email', 'did', 'credit', 'called', 'bank', 'rate', 'weeks', 'told', 'poor', 'loan', 'closing']\n",
      "\n",
      "\n"
     ]
    }
   ],
   "source": [
    "for index, topic in enumerate(nmf.components_):\n",
    "    print(f'Top 15 words for Topic {index+1}:')\n",
    "    print('\\n')\n",
    "    print([tfidf.get_feature_names()[i] for i in topic.argsort()[-15:]])\n",
    "    print('\\n')"
   ]
  },
  {
   "cell_type": "markdown",
   "metadata": {},
   "source": [
    "## Topic Results"
   ]
  },
  {
   "cell_type": "code",
   "execution_count": 54,
   "metadata": {},
   "outputs": [],
   "source": [
    "topic_results = nmf.transform(dtm)"
   ]
  },
  {
   "cell_type": "code",
   "execution_count": 55,
   "metadata": {},
   "outputs": [
    {
     "data": {
      "text/plain": [
       "array([[0.08405654, 0.10038504, 0.        , ..., 0.        , 0.        ,\n",
       "        0.        ],\n",
       "       [0.01922024, 0.        , 0.01302855, ..., 0.        , 0.01482277,\n",
       "        0.        ],\n",
       "       [0.06690103, 0.        , 0.0272642 , ..., 0.03774524, 0.01589188,\n",
       "        0.00189737],\n",
       "       ...,\n",
       "       [0.        , 0.01528199, 0.        , ..., 0.01796684, 0.01488472,\n",
       "        0.27116566],\n",
       "       [0.00483114, 0.        , 0.0033671 , ..., 0.00858014, 0.        ,\n",
       "        0.25789595],\n",
       "       [0.        , 0.        , 0.        , ..., 0.03934005, 0.        ,\n",
       "        0.2157998 ]])"
      ]
     },
     "execution_count": 55,
     "metadata": {},
     "output_type": "execute_result"
    }
   ],
   "source": [
    "topic_results"
   ]
  },
  {
   "cell_type": "code",
   "execution_count": 56,
   "metadata": {},
   "outputs": [
    {
     "data": {
      "text/plain": [
       "505"
      ]
     },
     "execution_count": 56,
     "metadata": {},
     "output_type": "execute_result"
    }
   ],
   "source": [
    "len(topic_results)"
   ]
  },
  {
   "cell_type": "code",
   "execution_count": 57,
   "metadata": {},
   "outputs": [
    {
     "data": {
      "text/plain": [
       "505"
      ]
     },
     "execution_count": 57,
     "metadata": {},
     "output_type": "execute_result"
    }
   ],
   "source": [
    "len(df['Reviews'])"
   ]
  },
  {
   "cell_type": "markdown",
   "metadata": {},
   "source": [
    "### Let's tag all the reviews by their topic number."
   ]
  },
  {
   "cell_type": "code",
   "execution_count": 58,
   "metadata": {},
   "outputs": [],
   "source": [
    "df['Topic'] = topic_results.argmax(axis=1) + 1"
   ]
  },
  {
   "cell_type": "code",
   "execution_count": 59,
   "metadata": {},
   "outputs": [
    {
     "data": {
      "text/html": [
       "<div>\n",
       "<style scoped>\n",
       "    .dataframe tbody tr th:only-of-type {\n",
       "        vertical-align: middle;\n",
       "    }\n",
       "\n",
       "    .dataframe tbody tr th {\n",
       "        vertical-align: top;\n",
       "    }\n",
       "\n",
       "    .dataframe thead th {\n",
       "        text-align: right;\n",
       "    }\n",
       "</style>\n",
       "<table border=\"1\" class=\"dataframe\">\n",
       "  <thead>\n",
       "    <tr style=\"text-align: right;\">\n",
       "      <th></th>\n",
       "      <th>Stars</th>\n",
       "      <th>Reviews</th>\n",
       "      <th>BankName</th>\n",
       "      <th>Word_Sentiment</th>\n",
       "      <th>Compound</th>\n",
       "      <th>Review_Sentiment</th>\n",
       "      <th>Topic</th>\n",
       "    </tr>\n",
       "  </thead>\n",
       "  <tbody>\n",
       "    <tr>\n",
       "      <th>0</th>\n",
       "      <td>5</td>\n",
       "      <td>Great job, Wyndham Capital! Each person was pr...</td>\n",
       "      <td>Wyndham Capital Mortgage</td>\n",
       "      <td>{'great': 'Positive', 'job': 'Neutral', 'Wyndh...</td>\n",
       "      <td>0.8011</td>\n",
       "      <td>Positive</td>\n",
       "      <td>2</td>\n",
       "    </tr>\n",
       "    <tr>\n",
       "      <th>1</th>\n",
       "      <td>5</td>\n",
       "      <td>Matthew Richardson is professional and helpful...</td>\n",
       "      <td>Wyndham Capital Mortgage</td>\n",
       "      <td>{'Matthew': 'Neutral', 'Richardson': 'Neutral'...</td>\n",
       "      <td>0.8516</td>\n",
       "      <td>Positive</td>\n",
       "      <td>4</td>\n",
       "    </tr>\n",
       "    <tr>\n",
       "      <th>2</th>\n",
       "      <td>5</td>\n",
       "      <td>We had a past experience with Wyndham Mortgage...</td>\n",
       "      <td>Wyndham Capital Mortgage</td>\n",
       "      <td>{'past': 'Neutral', 'experience': 'Neutral', '...</td>\n",
       "      <td>0.9595</td>\n",
       "      <td>Positive</td>\n",
       "      <td>1</td>\n",
       "    </tr>\n",
       "    <tr>\n",
       "      <th>3</th>\n",
       "      <td>5</td>\n",
       "      <td>We have been dealing with Brad Thomka from the...</td>\n",
       "      <td>Wyndham Capital Mortgage</td>\n",
       "      <td>{'deal': 'Neutral', 'Brad': 'Neutral', 'Thomka...</td>\n",
       "      <td>0.9818</td>\n",
       "      <td>Positive</td>\n",
       "      <td>1</td>\n",
       "    </tr>\n",
       "    <tr>\n",
       "      <th>4</th>\n",
       "      <td>5</td>\n",
       "      <td>I can't express how grateful I am for the supp...</td>\n",
       "      <td>Wyndham Capital Mortgage</td>\n",
       "      <td>{'express': 'Neutral', 'grateful': 'Positive',...</td>\n",
       "      <td>0.5569</td>\n",
       "      <td>Positive</td>\n",
       "      <td>1</td>\n",
       "    </tr>\n",
       "  </tbody>\n",
       "</table>\n",
       "</div>"
      ],
      "text/plain": [
       "   Stars                                            Reviews  \\\n",
       "0      5  Great job, Wyndham Capital! Each person was pr...   \n",
       "1      5  Matthew Richardson is professional and helpful...   \n",
       "2      5  We had a past experience with Wyndham Mortgage...   \n",
       "3      5  We have been dealing with Brad Thomka from the...   \n",
       "4      5  I can't express how grateful I am for the supp...   \n",
       "\n",
       "                   BankName  \\\n",
       "0  Wyndham Capital Mortgage   \n",
       "1  Wyndham Capital Mortgage   \n",
       "2  Wyndham Capital Mortgage   \n",
       "3  Wyndham Capital Mortgage   \n",
       "4  Wyndham Capital Mortgage   \n",
       "\n",
       "                                      Word_Sentiment  Compound  \\\n",
       "0  {'great': 'Positive', 'job': 'Neutral', 'Wyndh...    0.8011   \n",
       "1  {'Matthew': 'Neutral', 'Richardson': 'Neutral'...    0.8516   \n",
       "2  {'past': 'Neutral', 'experience': 'Neutral', '...    0.9595   \n",
       "3  {'deal': 'Neutral', 'Brad': 'Neutral', 'Thomka...    0.9818   \n",
       "4  {'express': 'Neutral', 'grateful': 'Positive',...    0.5569   \n",
       "\n",
       "  Review_Sentiment  Topic  \n",
       "0         Positive      2  \n",
       "1         Positive      4  \n",
       "2         Positive      1  \n",
       "3         Positive      1  \n",
       "4         Positive      1  "
      ]
     },
     "execution_count": 59,
     "metadata": {},
     "output_type": "execute_result"
    }
   ],
   "source": [
    "df.head()"
   ]
  },
  {
   "cell_type": "markdown",
   "metadata": {},
   "source": [
    "## Creating the context for our reviews by mapping each topic with a string name that is carefully considered after analysing the top 15 words per topic."
   ]
  },
  {
   "cell_type": "code",
   "execution_count": 60,
   "metadata": {},
   "outputs": [],
   "source": [
    "topic_mapping = {1: 'Good Service', 2: 'Quick Response', 3: 'Simple Process', 4: 'Helpful Customer Care', 5: 'Experienced Staff', 6: 'Real Estate Experience', 7: 'Delayed/No Response'}"
   ]
  },
  {
   "cell_type": "code",
   "execution_count": 61,
   "metadata": {},
   "outputs": [],
   "source": [
    "df['Topic'] = df['Topic'].map(topic_mapping)"
   ]
  },
  {
   "cell_type": "code",
   "execution_count": 62,
   "metadata": {
    "scrolled": true
   },
   "outputs": [
    {
     "data": {
      "text/html": [
       "<div>\n",
       "<style scoped>\n",
       "    .dataframe tbody tr th:only-of-type {\n",
       "        vertical-align: middle;\n",
       "    }\n",
       "\n",
       "    .dataframe tbody tr th {\n",
       "        vertical-align: top;\n",
       "    }\n",
       "\n",
       "    .dataframe thead th {\n",
       "        text-align: right;\n",
       "    }\n",
       "</style>\n",
       "<table border=\"1\" class=\"dataframe\">\n",
       "  <thead>\n",
       "    <tr style=\"text-align: right;\">\n",
       "      <th></th>\n",
       "      <th>Stars</th>\n",
       "      <th>Reviews</th>\n",
       "      <th>BankName</th>\n",
       "      <th>Word_Sentiment</th>\n",
       "      <th>Compound</th>\n",
       "      <th>Review_Sentiment</th>\n",
       "      <th>Topic</th>\n",
       "    </tr>\n",
       "  </thead>\n",
       "  <tbody>\n",
       "    <tr>\n",
       "      <th>0</th>\n",
       "      <td>5</td>\n",
       "      <td>Great job, Wyndham Capital! Each person was pr...</td>\n",
       "      <td>Wyndham Capital Mortgage</td>\n",
       "      <td>{'great': 'Positive', 'job': 'Neutral', 'Wyndh...</td>\n",
       "      <td>0.8011</td>\n",
       "      <td>Positive</td>\n",
       "      <td>Quick Response</td>\n",
       "    </tr>\n",
       "    <tr>\n",
       "      <th>1</th>\n",
       "      <td>5</td>\n",
       "      <td>Matthew Richardson is professional and helpful...</td>\n",
       "      <td>Wyndham Capital Mortgage</td>\n",
       "      <td>{'Matthew': 'Neutral', 'Richardson': 'Neutral'...</td>\n",
       "      <td>0.8516</td>\n",
       "      <td>Positive</td>\n",
       "      <td>Helpful Customer Care</td>\n",
       "    </tr>\n",
       "    <tr>\n",
       "      <th>2</th>\n",
       "      <td>5</td>\n",
       "      <td>We had a past experience with Wyndham Mortgage...</td>\n",
       "      <td>Wyndham Capital Mortgage</td>\n",
       "      <td>{'past': 'Neutral', 'experience': 'Neutral', '...</td>\n",
       "      <td>0.9595</td>\n",
       "      <td>Positive</td>\n",
       "      <td>Good Service</td>\n",
       "    </tr>\n",
       "    <tr>\n",
       "      <th>3</th>\n",
       "      <td>5</td>\n",
       "      <td>We have been dealing with Brad Thomka from the...</td>\n",
       "      <td>Wyndham Capital Mortgage</td>\n",
       "      <td>{'deal': 'Neutral', 'Brad': 'Neutral', 'Thomka...</td>\n",
       "      <td>0.9818</td>\n",
       "      <td>Positive</td>\n",
       "      <td>Good Service</td>\n",
       "    </tr>\n",
       "    <tr>\n",
       "      <th>4</th>\n",
       "      <td>5</td>\n",
       "      <td>I can't express how grateful I am for the supp...</td>\n",
       "      <td>Wyndham Capital Mortgage</td>\n",
       "      <td>{'express': 'Neutral', 'grateful': 'Positive',...</td>\n",
       "      <td>0.5569</td>\n",
       "      <td>Positive</td>\n",
       "      <td>Good Service</td>\n",
       "    </tr>\n",
       "  </tbody>\n",
       "</table>\n",
       "</div>"
      ],
      "text/plain": [
       "   Stars                                            Reviews  \\\n",
       "0      5  Great job, Wyndham Capital! Each person was pr...   \n",
       "1      5  Matthew Richardson is professional and helpful...   \n",
       "2      5  We had a past experience with Wyndham Mortgage...   \n",
       "3      5  We have been dealing with Brad Thomka from the...   \n",
       "4      5  I can't express how grateful I am for the supp...   \n",
       "\n",
       "                   BankName  \\\n",
       "0  Wyndham Capital Mortgage   \n",
       "1  Wyndham Capital Mortgage   \n",
       "2  Wyndham Capital Mortgage   \n",
       "3  Wyndham Capital Mortgage   \n",
       "4  Wyndham Capital Mortgage   \n",
       "\n",
       "                                      Word_Sentiment  Compound  \\\n",
       "0  {'great': 'Positive', 'job': 'Neutral', 'Wyndh...    0.8011   \n",
       "1  {'Matthew': 'Neutral', 'Richardson': 'Neutral'...    0.8516   \n",
       "2  {'past': 'Neutral', 'experience': 'Neutral', '...    0.9595   \n",
       "3  {'deal': 'Neutral', 'Brad': 'Neutral', 'Thomka...    0.9818   \n",
       "4  {'express': 'Neutral', 'grateful': 'Positive',...    0.5569   \n",
       "\n",
       "  Review_Sentiment                  Topic  \n",
       "0         Positive         Quick Response  \n",
       "1         Positive  Helpful Customer Care  \n",
       "2         Positive           Good Service  \n",
       "3         Positive           Good Service  \n",
       "4         Positive           Good Service  "
      ]
     },
     "execution_count": 62,
     "metadata": {},
     "output_type": "execute_result"
    }
   ],
   "source": [
    "df.head()"
   ]
  },
  {
   "cell_type": "code",
   "execution_count": 63,
   "metadata": {},
   "outputs": [
    {
     "data": {
      "text/plain": [
       "Good Service              146\n",
       "Delayed/No Response       122\n",
       "Quick Response             82\n",
       "Experienced Staff          52\n",
       "Helpful Customer Care      51\n",
       "Real Estate Experience     32\n",
       "Simple Process             20\n",
       "Name: Topic, dtype: int64"
      ]
     },
     "execution_count": 63,
     "metadata": {},
     "output_type": "execute_result"
    }
   ],
   "source": [
    "df['Topic'].value_counts()"
   ]
  },
  {
   "cell_type": "code",
   "execution_count": 66,
   "metadata": {},
   "outputs": [
    {
     "data": {
      "text/plain": [
       "Text(0, 0.5, 'Topic Frequency')"
      ]
     },
     "execution_count": 66,
     "metadata": {},
     "output_type": "execute_result"
    },
    {
     "data": {
      "image/png": "[encoded data removed]",
      "text/plain": [
       "<Figure size 1440x1080 with 1 Axes>"
      ]
     },
     "metadata": {
      "needs_background": "light"
     },
     "output_type": "display_data"
    }
   ],
   "source": [
    "plt.figure(figsize=(20, 15))\n",
    "df['Topic'].value_counts().plot(kind='bar')\n",
    "plt.title('Topic Count')\n",
    "plt.xlabel('Topics')\n",
    "plt.ylabel('Topic Frequency')"
   ]
  },
  {
   "cell_type": "markdown",
   "metadata": {},
   "source": [
    "## Selecting the Independent and Dependent Variable"
   ]
  },
  {
   "cell_type": "code",
   "execution_count": 67,
   "metadata": {},
   "outputs": [],
   "source": [
    "X = df['Reviews']\n",
    "y = df['Stars']"
   ]
  },
  {
   "cell_type": "markdown",
   "metadata": {},
   "source": [
    "## Splitting the data into training and testing set"
   ]
  },
  {
   "cell_type": "code",
   "execution_count": 68,
   "metadata": {},
   "outputs": [],
   "source": [
    "from sklearn.model_selection import train_test_split"
   ]
  },
  {
   "cell_type": "code",
   "execution_count": 69,
   "metadata": {},
   "outputs": [],
   "source": [
    "X_train, X_test, y_train, y_test = train_test_split(X, y, test_size=0.33)"
   ]
  },
  {
   "cell_type": "markdown",
   "metadata": {},
   "source": [
    "## Building the model using LinearSVC"
   ]
  },
  {
   "cell_type": "code",
   "execution_count": 70,
   "metadata": {},
   "outputs": [],
   "source": [
    "from sklearn.feature_extraction.text import TfidfVectorizer\n",
    "from sklearn.svm import LinearSVC"
   ]
  },
  {
   "cell_type": "code",
   "execution_count": 71,
   "metadata": {},
   "outputs": [],
   "source": [
    "from sklearn.pipeline import Pipeline"
   ]
  },
  {
   "cell_type": "code",
   "execution_count": 72,
   "metadata": {},
   "outputs": [],
   "source": [
    "pipe = Pipeline([('tfidf', TfidfVectorizer()), ('svc', LinearSVC())])"
   ]
  },
  {
   "cell_type": "code",
   "execution_count": 73,
   "metadata": {},
   "outputs": [
    {
     "data": {
      "text/plain": [
       "Pipeline(memory=None,\n",
       "         steps=[('tfidf',\n",
       "                 TfidfVectorizer(analyzer='word', binary=False,\n",
       "                                 decode_error='strict',\n",
       "                                 dtype=<class 'numpy.float64'>,\n",
       "                                 encoding='utf-8', input='content',\n",
       "                                 lowercase=True, max_df=1.0, max_features=None,\n",
       "                                 min_df=1, ngram_range=(1, 1), norm='l2',\n",
       "                                 preprocessor=None, smooth_idf=True,\n",
       "                                 stop_words=None, strip_accents=None,\n",
       "                                 sublinear_tf=False,\n",
       "                                 token_pattern='(?u)\\\\b\\\\w\\\\w+\\\\b',\n",
       "                                 tokenizer=None, use_idf=True,\n",
       "                                 vocabulary=None)),\n",
       "                ('svc',\n",
       "                 LinearSVC(C=1.0, class_weight=None, dual=True,\n",
       "                           fit_intercept=True, intercept_scaling=1,\n",
       "                           loss='squared_hinge', max_iter=1000,\n",
       "                           multi_class='ovr', penalty='l2', random_state=None,\n",
       "                           tol=0.0001, verbose=0))],\n",
       "         verbose=False)"
      ]
     },
     "execution_count": 73,
     "metadata": {},
     "output_type": "execute_result"
    }
   ],
   "source": [
    "pipe.fit(X_train, y_train)"
   ]
  },
  {
   "cell_type": "markdown",
   "metadata": {},
   "source": [
    "### Predicting the values"
   ]
  },
  {
   "cell_type": "code",
   "execution_count": 74,
   "metadata": {},
   "outputs": [],
   "source": [
    "y_pred = pipe.predict(X_test)"
   ]
  },
  {
   "cell_type": "markdown",
   "metadata": {},
   "source": [
    "# Results"
   ]
  },
  {
   "cell_type": "markdown",
   "metadata": {},
   "source": [
    "### Comparison between Actual and Predicted Target values."
   ]
  },
  {
   "cell_type": "code",
   "execution_count": 75,
   "metadata": {},
   "outputs": [
    {
     "data": {
      "image/png": "[encoded data removed]",
      "text/plain": [
       "<Figure size 432x288 with 1 Axes>"
      ]
     },
     "metadata": {
      "needs_background": "light"
     },
     "output_type": "display_data"
    }
   ],
   "source": [
    "df1 = pd.DataFrame({'Actual': y_test, 'Predicted': y_pred})\n",
    "df1.sample(20).plot(kind='bar')\n",
    "plt.grid(which='major', linestyle='-', linewidth='0.5', color='green')\n",
    "plt.grid(which='minor', linestyle=':', linewidth='0.5', color='black')\n",
    "plt.show()"
   ]
  },
  {
   "cell_type": "markdown",
   "metadata": {},
   "source": [
    "### Confusion Matrix"
   ]
  },
  {
   "cell_type": "code",
   "execution_count": 76,
   "metadata": {},
   "outputs": [],
   "source": [
    "from sklearn.metrics import classification_report, confusion_matrix, accuracy_score"
   ]
  },
  {
   "cell_type": "code",
   "execution_count": 77,
   "metadata": {},
   "outputs": [
    {
     "name": "stdout",
     "output_type": "stream",
     "text": [
      "[[ 29   6]\n",
      " [  0 132]]\n"
     ]
    }
   ],
   "source": [
    "print(confusion_matrix(y_test, y_pred))"
   ]
  },
  {
   "cell_type": "markdown",
   "metadata": {},
   "source": [
    "### Classification Report"
   ]
  },
  {
   "cell_type": "code",
   "execution_count": 78,
   "metadata": {},
   "outputs": [
    {
     "name": "stdout",
     "output_type": "stream",
     "text": [
      "              precision    recall  f1-score   support\n",
      "\n",
      "           1       1.00      0.83      0.91        35\n",
      "           5       0.96      1.00      0.98       132\n",
      "\n",
      "    accuracy                           0.96       167\n",
      "   macro avg       0.98      0.91      0.94       167\n",
      "weighted avg       0.97      0.96      0.96       167\n",
      "\n"
     ]
    }
   ],
   "source": [
    "print(classification_report(y_test, y_pred))"
   ]
  },
  {
   "cell_type": "markdown",
   "metadata": {},
   "source": [
    "### Accuracy Score"
   ]
  },
  {
   "cell_type": "code",
   "execution_count": 79,
   "metadata": {},
   "outputs": [
    {
     "name": "stdout",
     "output_type": "stream",
     "text": [
      "0.9640718562874252\n"
     ]
    }
   ],
   "source": [
    "print(accuracy_score(y_test, y_pred))"
   ]
  },
  {
   "cell_type": "code",
   "execution_count": null,
   "metadata": {},
   "outputs": [],
   "source": []
  },
  {
   "cell_type": "code",
   "execution_count": null,
   "metadata": {},
   "outputs": [],
   "source": []
  }
 ],
 "metadata": {
  "kernelspec": {
   "display_name": "Python 3",
   "language": "python",
   "name": "python3"
  },
  "language_info": {
   "codemirror_mode": {
    "name": "ipython",
    "version": 3
   },
   "file_extension": ".py",
   "mimetype": "text/x-python",
   "name": "python",
   "nbconvert_exporter": "python",
   "pygments_lexer": "ipython3",
   "version": "3.7.3"
  }
 },
 "nbformat": 4,
 "nbformat_minor": 4
}
